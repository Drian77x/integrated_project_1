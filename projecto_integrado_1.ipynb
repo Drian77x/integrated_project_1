{
 "cells": [
  {
   "cell_type": "markdown",
   "metadata": {},
   "source": [
    "# Descripción del proyecto\n"
   ]
  },
  {
   "cell_type": "markdown",
   "metadata": {},
   "source": [
    "\n",
    "Trabajas para la tienda online Ice que vende videojuegos por todo el mundo. Las reseñas de usuarios y expertos, los géneros, las plataformas (por ejemplo, Xbox o PlayStation) y los datos históricos sobre las ventas de juegos están disponibles en fuentes abiertas. Tienes que identificar patrones que determinen si un juego tiene éxito o no. Esto te permitirá detectar proyectos prometedores y planificar campañas publicitarias.\n",
    "\n",
    "Delante de ti hay datos que se remontan a 2016. Imaginemos que es diciembre de 2016 y estás planeando una campaña para 2017.\n",
    "\n"
   ]
  },
  {
   "cell_type": "markdown",
   "metadata": {},
   "source": [
    "## Importar librerías y el conjunto de datos"
   ]
  },
  {
   "cell_type": "code",
   "execution_count": 1,
   "metadata": {
    "tags": [
     "e5c1f0c2-db9f-43a0-99b9-4875c52427e8"
    ]
   },
   "outputs": [],
   "source": [
    "import numpy as np\n",
    "import pandas as pd\n",
    "import seaborn as sns\n",
    "import matplotlib.pyplot as plt\n",
    "from ipywidgets import interact, widgets\n",
    "from scipy import stats as st\n",
    "from scipy.stats import levene, ttest_ind"
   ]
  },
  {
   "cell_type": "code",
   "execution_count": 2,
   "metadata": {},
   "outputs": [],
   "source": [
    "games = pd.read_csv('/datasets/games.csv')"
   ]
  },
  {
   "cell_type": "markdown",
   "metadata": {},
   "source": [
    "Procedo a revisar los datos antes de procesarlos"
   ]
  },
  {
   "cell_type": "code",
   "execution_count": 3,
   "metadata": {},
   "outputs": [
    {
     "data": {
      "text/html": [
       "<div>\n",
       "<style scoped>\n",
       "    .dataframe tbody tr th:only-of-type {\n",
       "        vertical-align: middle;\n",
       "    }\n",
       "\n",
       "    .dataframe tbody tr th {\n",
       "        vertical-align: top;\n",
       "    }\n",
       "\n",
       "    .dataframe thead th {\n",
       "        text-align: right;\n",
       "    }\n",
       "</style>\n",
       "<table border=\"1\" class=\"dataframe\">\n",
       "  <thead>\n",
       "    <tr style=\"text-align: right;\">\n",
       "      <th></th>\n",
       "      <th>Name</th>\n",
       "      <th>Platform</th>\n",
       "      <th>Year_of_Release</th>\n",
       "      <th>Genre</th>\n",
       "      <th>NA_sales</th>\n",
       "      <th>EU_sales</th>\n",
       "      <th>JP_sales</th>\n",
       "      <th>Other_sales</th>\n",
       "      <th>Critic_Score</th>\n",
       "      <th>User_Score</th>\n",
       "      <th>Rating</th>\n",
       "    </tr>\n",
       "  </thead>\n",
       "  <tbody>\n",
       "    <tr>\n",
       "      <th>0</th>\n",
       "      <td>Wii Sports</td>\n",
       "      <td>Wii</td>\n",
       "      <td>2006.0</td>\n",
       "      <td>Sports</td>\n",
       "      <td>41.36</td>\n",
       "      <td>28.96</td>\n",
       "      <td>3.77</td>\n",
       "      <td>8.45</td>\n",
       "      <td>76.0</td>\n",
       "      <td>8</td>\n",
       "      <td>E</td>\n",
       "    </tr>\n",
       "    <tr>\n",
       "      <th>1</th>\n",
       "      <td>Super Mario Bros.</td>\n",
       "      <td>NES</td>\n",
       "      <td>1985.0</td>\n",
       "      <td>Platform</td>\n",
       "      <td>29.08</td>\n",
       "      <td>3.58</td>\n",
       "      <td>6.81</td>\n",
       "      <td>0.77</td>\n",
       "      <td>NaN</td>\n",
       "      <td>NaN</td>\n",
       "      <td>NaN</td>\n",
       "    </tr>\n",
       "    <tr>\n",
       "      <th>2</th>\n",
       "      <td>Mario Kart Wii</td>\n",
       "      <td>Wii</td>\n",
       "      <td>2008.0</td>\n",
       "      <td>Racing</td>\n",
       "      <td>15.68</td>\n",
       "      <td>12.76</td>\n",
       "      <td>3.79</td>\n",
       "      <td>3.29</td>\n",
       "      <td>82.0</td>\n",
       "      <td>8.3</td>\n",
       "      <td>E</td>\n",
       "    </tr>\n",
       "    <tr>\n",
       "      <th>3</th>\n",
       "      <td>Wii Sports Resort</td>\n",
       "      <td>Wii</td>\n",
       "      <td>2009.0</td>\n",
       "      <td>Sports</td>\n",
       "      <td>15.61</td>\n",
       "      <td>10.93</td>\n",
       "      <td>3.28</td>\n",
       "      <td>2.95</td>\n",
       "      <td>80.0</td>\n",
       "      <td>8</td>\n",
       "      <td>E</td>\n",
       "    </tr>\n",
       "    <tr>\n",
       "      <th>4</th>\n",
       "      <td>Pokemon Red/Pokemon Blue</td>\n",
       "      <td>GB</td>\n",
       "      <td>1996.0</td>\n",
       "      <td>Role-Playing</td>\n",
       "      <td>11.27</td>\n",
       "      <td>8.89</td>\n",
       "      <td>10.22</td>\n",
       "      <td>1.00</td>\n",
       "      <td>NaN</td>\n",
       "      <td>NaN</td>\n",
       "      <td>NaN</td>\n",
       "    </tr>\n",
       "  </tbody>\n",
       "</table>\n",
       "</div>"
      ],
      "text/plain": [
       "                       Name Platform  Year_of_Release         Genre  NA_sales  \\\n",
       "0                Wii Sports      Wii           2006.0        Sports     41.36   \n",
       "1         Super Mario Bros.      NES           1985.0      Platform     29.08   \n",
       "2            Mario Kart Wii      Wii           2008.0        Racing     15.68   \n",
       "3         Wii Sports Resort      Wii           2009.0        Sports     15.61   \n",
       "4  Pokemon Red/Pokemon Blue       GB           1996.0  Role-Playing     11.27   \n",
       "\n",
       "   EU_sales  JP_sales  Other_sales  Critic_Score User_Score Rating  \n",
       "0     28.96      3.77         8.45          76.0          8      E  \n",
       "1      3.58      6.81         0.77           NaN        NaN    NaN  \n",
       "2     12.76      3.79         3.29          82.0        8.3      E  \n",
       "3     10.93      3.28         2.95          80.0          8      E  \n",
       "4      8.89     10.22         1.00           NaN        NaN    NaN  "
      ]
     },
     "execution_count": 3,
     "metadata": {},
     "output_type": "execute_result"
    }
   ],
   "source": [
    "games.head()"
   ]
  },
  {
   "cell_type": "code",
   "execution_count": 4,
   "metadata": {},
   "outputs": [
    {
     "name": "stdout",
     "output_type": "stream",
     "text": [
      "<class 'pandas.core.frame.DataFrame'>\n",
      "RangeIndex: 16715 entries, 0 to 16714\n",
      "Data columns (total 11 columns):\n",
      " #   Column           Non-Null Count  Dtype  \n",
      "---  ------           --------------  -----  \n",
      " 0   Name             16713 non-null  object \n",
      " 1   Platform         16715 non-null  object \n",
      " 2   Year_of_Release  16446 non-null  float64\n",
      " 3   Genre            16713 non-null  object \n",
      " 4   NA_sales         16715 non-null  float64\n",
      " 5   EU_sales         16715 non-null  float64\n",
      " 6   JP_sales         16715 non-null  float64\n",
      " 7   Other_sales      16715 non-null  float64\n",
      " 8   Critic_Score     8137 non-null   float64\n",
      " 9   User_Score       10014 non-null  object \n",
      " 10  Rating           9949 non-null   object \n",
      "dtypes: float64(6), object(5)\n",
      "memory usage: 1.4+ MB\n"
     ]
    }
   ],
   "source": [
    "games.info()"
   ]
  },
  {
   "cell_type": "markdown",
   "metadata": {},
   "source": [
    "## Limpieza y preparación de datos"
   ]
  },
  {
   "cell_type": "markdown",
   "metadata": {},
   "source": [
    "### Duplicados"
   ]
  },
  {
   "cell_type": "markdown",
   "metadata": {},
   "source": [
    "Reviso si hay duplicados y los elimino de ser necesario"
   ]
  },
  {
   "cell_type": "code",
   "execution_count": 5,
   "metadata": {},
   "outputs": [
    {
     "data": {
      "text/plain": [
       "0"
      ]
     },
     "execution_count": 5,
     "metadata": {},
     "output_type": "execute_result"
    }
   ],
   "source": [
    "games.duplicated().sum()"
   ]
  },
  {
   "cell_type": "markdown",
   "metadata": {},
   "source": [
    "### Columnas"
   ]
  },
  {
   "cell_type": "markdown",
   "metadata": {},
   "source": [
    "Convierto a snake_case los nombres de columnas"
   ]
  },
  {
   "cell_type": "code",
   "execution_count": 6,
   "metadata": {},
   "outputs": [],
   "source": [
    "games.columns = games.columns.str.lower()"
   ]
  },
  {
   "cell_type": "markdown",
   "metadata": {},
   "source": [
    "#### Names"
   ]
  },
  {
   "cell_type": "code",
   "execution_count": 7,
   "metadata": {},
   "outputs": [
    {
     "data": {
      "text/html": [
       "<div>\n",
       "<style scoped>\n",
       "    .dataframe tbody tr th:only-of-type {\n",
       "        vertical-align: middle;\n",
       "    }\n",
       "\n",
       "    .dataframe tbody tr th {\n",
       "        vertical-align: top;\n",
       "    }\n",
       "\n",
       "    .dataframe thead th {\n",
       "        text-align: right;\n",
       "    }\n",
       "</style>\n",
       "<table border=\"1\" class=\"dataframe\">\n",
       "  <thead>\n",
       "    <tr style=\"text-align: right;\">\n",
       "      <th></th>\n",
       "      <th>name</th>\n",
       "      <th>platform</th>\n",
       "      <th>year_of_release</th>\n",
       "      <th>genre</th>\n",
       "      <th>na_sales</th>\n",
       "      <th>eu_sales</th>\n",
       "      <th>jp_sales</th>\n",
       "      <th>other_sales</th>\n",
       "      <th>critic_score</th>\n",
       "      <th>user_score</th>\n",
       "      <th>rating</th>\n",
       "    </tr>\n",
       "  </thead>\n",
       "  <tbody>\n",
       "    <tr>\n",
       "      <th>659</th>\n",
       "      <td>NaN</td>\n",
       "      <td>GEN</td>\n",
       "      <td>1993.0</td>\n",
       "      <td>NaN</td>\n",
       "      <td>1.78</td>\n",
       "      <td>0.53</td>\n",
       "      <td>0.00</td>\n",
       "      <td>0.08</td>\n",
       "      <td>NaN</td>\n",
       "      <td>NaN</td>\n",
       "      <td>NaN</td>\n",
       "    </tr>\n",
       "    <tr>\n",
       "      <th>14244</th>\n",
       "      <td>NaN</td>\n",
       "      <td>GEN</td>\n",
       "      <td>1993.0</td>\n",
       "      <td>NaN</td>\n",
       "      <td>0.00</td>\n",
       "      <td>0.00</td>\n",
       "      <td>0.03</td>\n",
       "      <td>0.00</td>\n",
       "      <td>NaN</td>\n",
       "      <td>NaN</td>\n",
       "      <td>NaN</td>\n",
       "    </tr>\n",
       "  </tbody>\n",
       "</table>\n",
       "</div>"
      ],
      "text/plain": [
       "      name platform  year_of_release genre  na_sales  eu_sales  jp_sales  \\\n",
       "659    NaN      GEN           1993.0   NaN      1.78      0.53      0.00   \n",
       "14244  NaN      GEN           1993.0   NaN      0.00      0.00      0.03   \n",
       "\n",
       "       other_sales  critic_score user_score rating  \n",
       "659           0.08           NaN        NaN    NaN  \n",
       "14244         0.00           NaN        NaN    NaN  "
      ]
     },
     "execution_count": 7,
     "metadata": {},
     "output_type": "execute_result"
    }
   ],
   "source": [
    "games[games['name'].isnull()]"
   ]
  },
  {
   "cell_type": "markdown",
   "metadata": {},
   "source": [
    "Son solo dos filas que además son nulas casi en su totalidad, considero no serán útiles para el análisis así que las elimino"
   ]
  },
  {
   "cell_type": "code",
   "execution_count": 8,
   "metadata": {},
   "outputs": [],
   "source": [
    "games = games.dropna(subset=['name'])"
   ]
  },
  {
   "cell_type": "markdown",
   "metadata": {},
   "source": [
    "#### Platform"
   ]
  },
  {
   "cell_type": "markdown",
   "metadata": {},
   "source": [
    "Columna lista para el análisis"
   ]
  },
  {
   "cell_type": "markdown",
   "metadata": {},
   "source": [
    "#### Year of release"
   ]
  },
  {
   "cell_type": "markdown",
   "metadata": {},
   "source": [
    "Hay muchos juegos sin año de lanzamiento así que para poder tener un aproximado en el tiempo activo de la plataforma averiguo la mediana por plataforma y reemplazo los valores nulos con el año correspondiente creando una función para ello."
   ]
  },
  {
   "cell_type": "code",
   "execution_count": 9,
   "metadata": {},
   "outputs": [],
   "source": [
    "median_years = games.groupby('platform')['year_of_release'].median()"
   ]
  },
  {
   "cell_type": "code",
   "execution_count": 10,
   "metadata": {},
   "outputs": [],
   "source": [
    "def null_x_median(data):  \n",
    "    if pd.isnull(data['year_of_release']):\n",
    "        return median_years[data['platform']]\n",
    "    else:\n",
    "        return data['year_of_release']\n",
    "\n",
    "games['year_of_release'] = games.apply(null_x_median, axis=1)"
   ]
  },
  {
   "cell_type": "markdown",
   "metadata": {},
   "source": [
    "Por legibilidad cambio el tipo de datos de float a int"
   ]
  },
  {
   "cell_type": "code",
   "execution_count": 11,
   "metadata": {},
   "outputs": [],
   "source": [
    "games['year_of_release'] = games['year_of_release'].astype(int)"
   ]
  },
  {
   "cell_type": "markdown",
   "metadata": {},
   "source": [
    "#### Genre"
   ]
  },
  {
   "cell_type": "markdown",
   "metadata": {},
   "source": [
    "Los nulos en esta columna eran los mismos que en columna 'name'"
   ]
  },
  {
   "cell_type": "markdown",
   "metadata": {},
   "source": [
    "#### Sales"
   ]
  },
  {
   "cell_type": "markdown",
   "metadata": {},
   "source": [
    "Sin problemas con estas columnas. Creo una nueva columna para las ventas totales a nivel global"
   ]
  },
  {
   "cell_type": "code",
   "execution_count": 12,
   "metadata": {},
   "outputs": [],
   "source": [
    "games['total_sales']= games['na_sales']+games['eu_sales']+games['jp_sales']+games['other_sales']"
   ]
  },
  {
   "cell_type": "markdown",
   "metadata": {},
   "source": [
    "#### Critic score"
   ]
  },
  {
   "cell_type": "markdown",
   "metadata": {},
   "source": [
    "Reemplazar valores nulos en 'critic_score' con la mediana del conjunto"
   ]
  },
  {
   "cell_type": "code",
   "execution_count": 13,
   "metadata": {},
   "outputs": [],
   "source": [
    "crit_median = games['critic_score'].median()"
   ]
  },
  {
   "cell_type": "code",
   "execution_count": 14,
   "metadata": {},
   "outputs": [],
   "source": [
    "games['critic_score'] = games['critic_score'].fillna(crit_median)\n"
   ]
  },
  {
   "cell_type": "markdown",
   "metadata": {},
   "source": [
    "Transformo 'critic_score' a la misma escala de 'user_score' para poder comparar adecuadamente"
   ]
  },
  {
   "cell_type": "code",
   "execution_count": 15,
   "metadata": {},
   "outputs": [],
   "source": [
    "games['critic_score']=games['critic_score']/10"
   ]
  },
  {
   "cell_type": "markdown",
   "metadata": {},
   "source": [
    "#### User score"
   ]
  },
  {
   "cell_type": "markdown",
   "metadata": {},
   "source": [
    "En la columna 'user_score', 'tbd' no me da información relevante así que primero lo reemplazaré con nulos para luego hacer la conversión de tipo de datos y finalmente reemplazar nulos por la mediana igual que en la columna anterior"
   ]
  },
  {
   "cell_type": "code",
   "execution_count": 16,
   "metadata": {},
   "outputs": [],
   "source": [
    "games['user_score'] = games['user_score'].replace('tbd', np.nan).astype(float)"
   ]
  },
  {
   "cell_type": "code",
   "execution_count": 17,
   "metadata": {},
   "outputs": [],
   "source": [
    "user_median = games['user_score'].median()"
   ]
  },
  {
   "cell_type": "code",
   "execution_count": 18,
   "metadata": {},
   "outputs": [],
   "source": [
    "games['user_score'] = games['user_score'].fillna(user_median)"
   ]
  },
  {
   "cell_type": "markdown",
   "metadata": {},
   "source": [
    "#### Rating"
   ]
  },
  {
   "cell_type": "markdown",
   "metadata": {},
   "source": [
    "Son datos cualitativos asi que no puedo usar información estadistica como media o mediana para rellenar los nulos ni tampoco puedo asignar un valor arbitrario. Cuando estos datos sean relevantes para el análisis, trabajaré solo los datos no nulos a modo de muestra poblacional."
   ]
  },
  {
   "cell_type": "markdown",
   "metadata": {},
   "source": [
    "## Análisis"
   ]
  },
  {
   "cell_type": "markdown",
   "metadata": {},
   "source": [
    "### Cuántos juegos fueron lanzados en diferentes años. ¿Son significativos los datos de cada período?"
   ]
  },
  {
   "cell_type": "code",
   "execution_count": 53,
   "metadata": {
    "scrolled": false
   },
   "outputs": [
    {
     "data": {
      "image/png": "[encoded data removed]",
      "text/plain": [
       "<Figure size 900x600 with 2 Axes>"
      ]
     },
     "metadata": {},
     "output_type": "display_data"
    }
   ],
   "source": [
    "# Gráfico de juegos lanzados\n",
    "games_per_year = games['year_of_release'].value_counts().sort_index()\n",
    "\n",
    "plt.figure(figsize = (9, 6))\n",
    "plt.subplot(2, 1, 1)\n",
    "sns.lineplot(x = games_per_year.index, \n",
    "             y = games_per_year.values,\n",
    "             marker = 'o',\n",
    "             color = 'royalblue')\n",
    "plt.title('Juegos lanzados por año')\n",
    "plt.xlabel('Año de lanzamiento')\n",
    "plt.ylabel('Conteo de juegos')\n",
    "plt.xticks(rotation = 45)\n",
    "plt.grid(True)\n",
    "\n",
    "# Gráfico de ventas totales\n",
    "sales_per_year = games.groupby('year_of_release')['total_sales'].sum().reset_index()\n",
    "\n",
    "# Crear el gráfico de barras\n",
    "plt.subplot(2, 1, 2)\n",
    "sns.lineplot(data = sales_per_year, x = 'year_of_release', \n",
    "            y = 'total_sales', \n",
    "            marker = 'o',\n",
    "            color = 'orange')\n",
    "plt.title('Total de ventas de videojuegos por año')\n",
    "plt.xlabel('Año de lanzamiento')\n",
    "plt.ylabel('Ventas totales (Millones de dólares)')\n",
    "plt.xticks(rotation = 45)\n",
    "plt.grid(True)\n",
    "\n",
    "plt.tight_layout()\n",
    "plt.show()"
   ]
  },
  {
   "cell_type": "markdown",
   "metadata": {},
   "source": [
    "Es a partir de mediados de los 90s que comienza a crecer el auge por los videojuegos y es en el año 2009 cuando tiene su punto más alto. Ambos gráficos tienen formas muy parecidas por lo que parece haber una relación directa entre ambas variables; me propongo averiguarlo usando el método de correlación de Pearson"
   ]
  },
  {
   "cell_type": "code",
   "execution_count": 20,
   "metadata": {},
   "outputs": [
    {
     "name": "stdout",
     "output_type": "stream",
     "text": [
      "Pearson: 0.98\n",
      "P-value: 7.32e-27\n"
     ]
    }
   ],
   "source": [
    "# Agrupo los datos de ventas y cantidad de juegos por año\n",
    "annual_data = games.groupby('year_of_release').agg(total_sales=('total_sales', 'sum'), total_games=('name', 'count')).reset_index()\n",
    "\n",
    "# Calculo el coeficiente de correlación de Pearson\n",
    "correlation, p_value = st.pearsonr(annual_data['total_sales'], annual_data['total_games'])\n",
    "print(f'Pearson: {correlation:.2}')\n",
    "print(f'P-value: {p_value:.2e}')"
   ]
  },
  {
   "cell_type": "markdown",
   "metadata": {},
   "source": [
    "Ciertamente hay una muy fuerte correlación entre la cantidad de juegos lanzados y las ventas de cada año y el p_value muestra que no es casualidad; tiene sentido pensar de ese modo antes de hacer cualquier comparación pero ahora tenemos un respaldo para futuros análisis. "
   ]
  },
  {
   "cell_type": "markdown",
   "metadata": {},
   "source": [
    "### Cómo varían las ventas de una plataforma a otra. Elige las plataformas con las mayores ventas totales y construye una distribución basada en los datos de cada año. Busca las plataformas que solían ser populares pero que ahora no tienen ventas. ¿Cuánto tardan generalmente las nuevas plataformas en aparecer y las antiguas en desaparecer?"
   ]
  },
  {
   "cell_type": "markdown",
   "metadata": {},
   "source": [
    "Primero observo la comparativa de ventas totales de cada plataforma, eso me dará una idea de cuales serán de mi interés."
   ]
  },
  {
   "cell_type": "code",
   "execution_count": 21,
   "metadata": {},
   "outputs": [
    {
     "data": {
      "image/png": "[encoded data removed]",
      "text/plain": [
       "<Figure size 1000x400 with 1 Axes>"
      ]
     },
     "metadata": {},
     "output_type": "display_data"
    }
   ],
   "source": [
    "sales_by_platform = games.groupby('platform')['total_sales'].sum().sort_values(ascending=False)\n",
    "\n",
    "plt.figure(figsize = (10, 4))\n",
    "sns.barplot(x = sales_by_platform.index, \n",
    "            y = sales_by_platform.values,\n",
    "            color = 'red')\n",
    "plt.title('Ventas por plataforma')\n",
    "plt.xlabel('Plataforma')\n",
    "plt.ylabel('Ventas globales (Millones de dólares)')\n",
    "plt.xticks(rotation = 45)\n",
    "plt.show()"
   ]
  },
  {
   "cell_type": "markdown",
   "metadata": {},
   "source": [
    "Historicamente PS2 es la plataforma más exitosa seguida por X360, PS3, Wii, DS y PS respectivamente.\n",
    "Sin embargo los datos abarcan varias décadas y en el area de tecnología que algo sea exitoso en el pasado no garantiza su éxito futuro por lo que es necesario mayor análisis para crear un plan de mercado efectivo."
   ]
  },
  {
   "cell_type": "markdown",
   "metadata": {},
   "source": [
    "Mostrar las ventas de todas las plataformas a traves del tiempo en un solo gráfico lo hace muy dificil de comprender y crear gráficos individuales para cada plataforma no es eficiente así que para facilitar el análisis y comparación crearé una función con un gráfico interactivo que permita elegir cuales plataformas mostrar y también el rango de tiempo que quiero evaluar."
   ]
  },
  {
   "cell_type": "markdown",
   "metadata": {},
   "source": [
    "Primero creo los menús interactivos para elegir plataforma y rango de tiempo:"
   ]
  },
  {
   "cell_type": "code",
   "execution_count": 22,
   "metadata": {},
   "outputs": [],
   "source": [
    "# Menú de selección múltiple de plataforma\n",
    "platforms_list = sorted(games['platform'].unique())\n",
    "\n",
    "platform_selector = widgets.SelectMultiple(options = platforms_list, \n",
    "                                           description = 'Plataforma:')\n",
    "\n",
    "\n",
    "# Menú de selección múltiple y deslizador de rango de años\n",
    "years = (games['year_of_release'].min(), games['year_of_release'].max())\n",
    "\n",
    "year_selector = widgets.IntRangeSlider(value = years,\n",
    "                                       min = years[0],\n",
    "                                       max = years[1],\n",
    "                                       description = 'Años:',\n",
    "                                       continuous_update = False,)"
   ]
  },
  {
   "cell_type": "markdown",
   "metadata": {},
   "source": [
    "Ahora la función que graficará los parametros elegidos:"
   ]
  },
  {
   "cell_type": "code",
   "execution_count": 63,
   "metadata": {
    "scrolled": false
   },
   "outputs": [
    {
     "data": {
      "application/vnd.jupyter.widget-view+json": {
       "model_id": "f535411c246d450ebc4e2ca0f8d7e91c",
       "version_major": 2,
       "version_minor": 0
      },
      "text/plain": [
       "interactive(children=(SelectMultiple(description='Plataforma:', index=(20, 21, 22, 23, 24, 25, 26, 27, 28, 29,…"
      ]
     },
     "execution_count": 63,
     "metadata": {},
     "output_type": "execute_result"
    }
   ],
   "source": [
    "def select_platform(platform, year_range):\n",
    "    # Filtra df en función de los parámetros y luego agrupa los datos\n",
    "    filtered = games[games['platform'].isin(platform)]\n",
    "    filtered = filtered[(filtered['year_of_release'] >= year_range[0]) & (filtered['year_of_release'] <= year_range[1])]\n",
    "    sales_by_year = filtered.groupby(['platform', 'year_of_release'])['total_sales'].sum().reset_index()\n",
    "    \n",
    "    plt.figure(figsize = (10, 5))\n",
    "    sns.lineplot(data = sales_by_year, \n",
    "                 x = 'year_of_release', \n",
    "                 y = 'total_sales', \n",
    "                 hue = 'platform', \n",
    "                 marker = 'o')\n",
    "    plt.title(f'Historial de ventas por plataforma')\n",
    "    plt.xlabel('Año de lanzamiento')\n",
    "    plt.ylabel('Ventas totales (en millones de dólares)')\n",
    "    plt.xticks(rotation = 45)\n",
    "    plt.legend(title = 'Plataforma', loc = 'upper right')\n",
    "    plt.grid(True)\n",
    "    plt.legend(bbox_to_anchor=(1.15, 1.05))\n",
    "    plt.show()\n",
    "    \n",
    "# Integrar el menú de selección y mostrar el gráfico\n",
    "game_plot = widgets.interactive(select_platform, \n",
    "                                platform = platform_selector, \n",
    "                                year_range = year_selector)\n",
    "\n",
    "# Mostrar el gráfico\n",
    "game_plot"
   ]
  },
  {
   "cell_type": "markdown",
   "metadata": {},
   "source": [
    "Hay algunas plataformas que tuvieron ventas muy bajas y desaparecieron rápidamente, las consideradas exitosas tienen un ciclo de vida de aproximado de seis a diez años, dependiendo de su éxito comercial (PC es una excepción ya que se actualiza constantemente lo que garantiza su existencia a futuro)"
   ]
  },
  {
   "cell_type": "markdown",
   "metadata": {},
   "source": [
    "### Determina para qué período debes tomar datos. \n",
    "Las plataformas tienen ciclos de vida de algunos años, no tiene sentido hacer proyecciones sobre juegos para plataformas antiguas por lo que tomaré desde 2013 ya que fue el año en que salieron las más recientes y son las que actualmente dominan el mercado"
   ]
  },
  {
   "cell_type": "markdown",
   "metadata": {},
   "source": [
    "### ¿Qué plataformas son líderes en ventas? ¿Cuáles crecen y cuáles se reducen? Elige varias plataformas potencialmente rentables."
   ]
  },
  {
   "cell_type": "markdown",
   "metadata": {},
   "source": [
    "Teniendo en cuenta el análisis anterior, he decidido enfocarme en 5 plataformas para las proyecciones: PC por lo explicado anteriormente, XOne, WiiU y PS4 por ser las más nuevas de las compañías más grandes y 3DS por ser la portátil con más ventas en los úlitmos años. Todas las demás plataformas han desaparecido o tienen ventas muy bajas y seguirán bajando pues el público tiende a ir hacia las más actuales por lo que no veo conveniente destinar recursos a su promoción."
   ]
  },
  {
   "cell_type": "markdown",
   "metadata": {},
   "source": [
    "PS4 es la más rentable de todas con aproximadamente el doble de ventas de XOne que es la que le sigue, estas dos son las más recientes y es muy probable que sus ventas aumenten el próximo año. Luego están 3DS y WiiU las cuales parecen haber tenido su mejor momento en años anteriores al 2016 pero aun son atractivas al público. Finalmente PC es la de menores ventas de la lista pero al ser una plataforma actualizable seguirá usandose por mucho tiempo por lo que no debe dejarse de lado."
   ]
  },
  {
   "cell_type": "markdown",
   "metadata": {},
   "source": [
    "PD: Es importante resaltar que aunque en el año actual (2016) todas tienen menores ventas, diciembre es una época de un incremento fuerte y las ventas de este més pueden no estar reflejadas en los datos."
   ]
  },
  {
   "cell_type": "markdown",
   "metadata": {},
   "source": [
    "Filtrado con base en lo anterior"
   ]
  },
  {
   "cell_type": "code",
   "execution_count": 24,
   "metadata": {},
   "outputs": [],
   "source": [
    "filtered_games = games[(games['platform'].isin(['PC', 'PS4', 'WiiU', 'XOne', '3DS'])) & (games['year_of_release'] >= 2013)]"
   ]
  },
  {
   "cell_type": "markdown",
   "metadata": {},
   "source": [
    "Ya con el nuevo df, exploramos para obtener más información "
   ]
  },
  {
   "cell_type": "code",
   "execution_count": 25,
   "metadata": {},
   "outputs": [],
   "source": [
    "sales_data = filtered_games.groupby('platform').agg(total_games=('name', 'count'), \n",
    "                                             total_sales=('total_sales', 'sum'), \n",
    "                                             mean_sale= ('total_sales', lambda x: round(x.mean(), 2)),\n",
    "                                             median=('total_sales', 'median'),\n",
    "                                             higher_sale=('total_sales', 'max')).reset_index()"
   ]
  },
  {
   "cell_type": "code",
   "execution_count": 26,
   "metadata": {},
   "outputs": [
    {
     "data": {
      "text/html": [
       "<div>\n",
       "<style scoped>\n",
       "    .dataframe tbody tr th:only-of-type {\n",
       "        vertical-align: middle;\n",
       "    }\n",
       "\n",
       "    .dataframe tbody tr th {\n",
       "        vertical-align: top;\n",
       "    }\n",
       "\n",
       "    .dataframe thead th {\n",
       "        text-align: right;\n",
       "    }\n",
       "</style>\n",
       "<table border=\"1\" class=\"dataframe\">\n",
       "  <thead>\n",
       "    <tr style=\"text-align: right;\">\n",
       "      <th></th>\n",
       "      <th>platform</th>\n",
       "      <th>total_games</th>\n",
       "      <th>total_sales</th>\n",
       "      <th>mean_sale</th>\n",
       "      <th>median</th>\n",
       "      <th>higher_sale</th>\n",
       "    </tr>\n",
       "  </thead>\n",
       "  <tbody>\n",
       "    <tr>\n",
       "      <th>0</th>\n",
       "      <td>3DS</td>\n",
       "      <td>311</td>\n",
       "      <td>144.44</td>\n",
       "      <td>0.46</td>\n",
       "      <td>0.09</td>\n",
       "      <td>14.60</td>\n",
       "    </tr>\n",
       "    <tr>\n",
       "      <th>1</th>\n",
       "      <td>PC</td>\n",
       "      <td>189</td>\n",
       "      <td>39.43</td>\n",
       "      <td>0.21</td>\n",
       "      <td>0.08</td>\n",
       "      <td>3.05</td>\n",
       "    </tr>\n",
       "    <tr>\n",
       "      <th>2</th>\n",
       "      <td>PS4</td>\n",
       "      <td>392</td>\n",
       "      <td>314.14</td>\n",
       "      <td>0.80</td>\n",
       "      <td>0.20</td>\n",
       "      <td>14.63</td>\n",
       "    </tr>\n",
       "    <tr>\n",
       "      <th>3</th>\n",
       "      <td>WiiU</td>\n",
       "      <td>115</td>\n",
       "      <td>64.63</td>\n",
       "      <td>0.56</td>\n",
       "      <td>0.20</td>\n",
       "      <td>7.09</td>\n",
       "    </tr>\n",
       "    <tr>\n",
       "      <th>4</th>\n",
       "      <td>XOne</td>\n",
       "      <td>247</td>\n",
       "      <td>159.32</td>\n",
       "      <td>0.65</td>\n",
       "      <td>0.22</td>\n",
       "      <td>7.39</td>\n",
       "    </tr>\n",
       "  </tbody>\n",
       "</table>\n",
       "</div>"
      ],
      "text/plain": [
       "  platform  total_games  total_sales  mean_sale  median  higher_sale\n",
       "0      3DS          311       144.44       0.46    0.09        14.60\n",
       "1       PC          189        39.43       0.21    0.08         3.05\n",
       "2      PS4          392       314.14       0.80    0.20        14.63\n",
       "3     WiiU          115        64.63       0.56    0.20         7.09\n",
       "4     XOne          247       159.32       0.65    0.22         7.39"
      ]
     },
     "execution_count": 26,
     "metadata": {},
     "output_type": "execute_result"
    }
   ],
   "source": [
    "sales_data"
   ]
  },
  {
   "cell_type": "code",
   "execution_count": 27,
   "metadata": {
    "scrolled": false
   },
   "outputs": [
    {
     "data": {
      "image/png": "[encoded data removed]",
      "text/plain": [
       "<Figure size 1200x500 with 1 Axes>"
      ]
     },
     "metadata": {},
     "output_type": "display_data"
    }
   ],
   "source": [
    "# Diagrama de caja de ventas\n",
    "plt.figure(figsize = (12, 5))\n",
    "sns.boxplot(data = filtered_games,\n",
    "            x = 'total_sales', \n",
    "            y = 'platform' )\n",
    "plt.title('Ventas Globales por Plataforma')\n",
    "plt.xlabel('Ventas Totales (en millones de dólares)')\n",
    "plt.ylabel('Plataforma')\n",
    "plt.tight_layout()\n",
    "plt.show()"
   ]
  },
  {
   "cell_type": "markdown",
   "metadata": {},
   "source": [
    "Observando la tabla recién creada y la distribución en el diagrama de caja se puede concluir que la mayoría de juegos tienen ventas muy bajas sin variar demasiado por plataforma y que los mayores éxitos en ventas son valores atípicos."
   ]
  },
  {
   "cell_type": "markdown",
   "metadata": {},
   "source": [
    "Al ser PS4 la plataforma con mayores ventas y número de juegos del conjunto, analizaré en mayor porfundidad."
   ]
  },
  {
   "cell_type": "markdown",
   "metadata": {},
   "source": [
    "Quiero ver el comportamiento de las ventas comparándo el juego con la calificación dada tanto por críticos como por usuarios"
   ]
  },
  {
   "cell_type": "code",
   "execution_count": 28,
   "metadata": {},
   "outputs": [
    {
     "data": {
      "image/png": "[encoded data removed]",
      "text/plain": [
       "<Figure size 1400x600 with 2 Axes>"
      ]
     },
     "metadata": {},
     "output_type": "display_data"
    }
   ],
   "source": [
    "# Primero filtrar los datos de PS4\n",
    "psfour = filtered_games[filtered_games['platform'] == 'PS4']\n",
    "\n",
    "# Crear gráficos de dispersión\n",
    "plt.figure(figsize=(14, 6))\n",
    "\n",
    "# Gráfico de usuarios\n",
    "plt.subplot(1, 2, 1)\n",
    "sns.scatterplot(data = psfour,\n",
    "                x = 'user_score', \n",
    "                y = 'total_sales', \n",
    "                color = 'purple', \n",
    "                alpha = 0.4)\n",
    "plt.title('Ventas x Puntaje de Usuarios (PS4)')\n",
    "plt.xlabel('Puntaje de Usuarios')\n",
    "plt.ylabel('Ventas Totales (en millones de dólares)')\n",
    "\n",
    "# Gráfico de críticos\n",
    "plt.subplot(1, 2, 2)\n",
    "sns.scatterplot(data = psfour,\n",
    "                x = 'critic_score', \n",
    "                y = 'total_sales', \n",
    "                alpha = 0.4)\n",
    "plt.title('Ventas x Puntaje de Críticos (PS4)')\n",
    "plt.xlabel('Puntaje de Críticos')\n",
    "plt.ylabel('Ventas Totales (en millones de dólares)')\n",
    "\n",
    "plt.tight_layout()\n",
    "plt.show()"
   ]
  },
  {
   "cell_type": "code",
   "execution_count": 29,
   "metadata": {},
   "outputs": [
    {
     "name": "stdout",
     "output_type": "stream",
     "text": [
      "La calificación de los usuarios en relación a las ventas es: -0.06\n",
      "La calificación de la crítica en relación a las ventas es: 0.34\n"
     ]
    }
   ],
   "source": [
    "# Calcular el coeficiente de correlación de Pearson\n",
    "user_corr = psfour['user_score'].corr(psfour['total_sales'])\n",
    "critic_corr = psfour['critic_score'].corr(psfour['total_sales'])\n",
    "\n",
    "print(f'La calificación de los usuarios en relación a las ventas es: {user_corr:.2f}')\n",
    "print(f'La calificación de la crítica en relación a las ventas es: {critic_corr:.2f}')"
   ]
  },
  {
   "cell_type": "markdown",
   "metadata": {},
   "source": [
    "Ambos grupos tienden a dar un puntaje alto en promedio pero los resultados muestran de que la calificación dada por los usuarios no tiene virtualmente ninguna relación con las ventas mientras que el puntaje de los críticos muestra una ligera relación positiva pero en la que no puede confiarse para predecir ventas efectivamente."
   ]
  },
  {
   "cell_type": "markdown",
   "metadata": {},
   "source": [
    "### Compara las ventas de los mismos juegos en otras plataformas."
   ]
  },
  {
   "cell_type": "code",
   "execution_count": 30,
   "metadata": {},
   "outputs": [],
   "source": [
    "#Filtrar juegos lanzados en varias plataformas\n",
    "multi_plat = filtered_games['name'].value_counts()\n",
    "multi_plat = multi_plat[multi_plat > 1].index\n",
    "multi_game = filtered_games[filtered_games['name'].isin(multi_plat)]"
   ]
  },
  {
   "cell_type": "code",
   "execution_count": 31,
   "metadata": {},
   "outputs": [],
   "source": [
    "# Tabla dinamica con las ventas\n",
    "game_pivoted = multi_game.pivot_table(index='name', \n",
    "                                      columns='platform', \n",
    "                                      values='total_sales', \n",
    "                                      aggfunc='sum').reset_index()\n",
    "\n",
    "# Incluir solo juegos que fueron lanzados en PS4\n",
    "ps_pivoted = game_pivoted[game_pivoted['PS4'].notnull()]"
   ]
  },
  {
   "cell_type": "code",
   "execution_count": 67,
   "metadata": {},
   "outputs": [
    {
     "data": {
      "image/png": "[encoded data removed]",
      "text/plain": [
       "<Figure size 700x700 with 4 Axes>"
      ]
     },
     "metadata": {},
     "output_type": "display_data"
    }
   ],
   "source": [
    "#Gráfico comparativo de ventas entre PS4 y otras plataformas\n",
    "plt.figure(figsize=(7, 7))\n",
    "plt.suptitle('Ventas de juegos multiplataforma: PS4 vs otras (millones de dólares)')\n",
    "# 3DS\n",
    "plt.subplot(2, 2, 1)\n",
    "sns.scatterplot(data = ps_pivoted,\n",
    "                x = 'PS4', \n",
    "                y = '3DS', \n",
    "                color = 'blue', \n",
    "                alpha = 0.4)\n",
    "plt.title('3DS')\n",
    "plt.xlabel('PS4')\n",
    "plt.ylabel('3DS')\n",
    "plt.xlim(0,7)\n",
    "plt.ylim(0,7)\n",
    "plt.plot([0, 7], [0, 7], color='red', linestyle=':', alpha = 0.2)\n",
    "\n",
    "# XOne\n",
    "plt.subplot(2, 2, 2)\n",
    "sns.scatterplot(data = ps_pivoted,\n",
    "                x = 'PS4', \n",
    "                y = 'XOne', \n",
    "                color = 'green', \n",
    "                alpha = 0.4)\n",
    "plt.title('XOne')\n",
    "plt.xlabel('PS4')\n",
    "plt.ylabel('XOne')\n",
    "plt.xlim(0,15)\n",
    "plt.ylim(0,15)\n",
    "plt.plot([0, 15], [0, 15], color='red', linestyle=':', alpha = 0.2)\n",
    "\n",
    "# PC\n",
    "plt.subplot(2, 2, 3)\n",
    "sns.scatterplot(data = ps_pivoted,\n",
    "                x = 'PS4', \n",
    "                y = 'PC', \n",
    "                color = 'purple', \n",
    "                alpha = 0.4)\n",
    "plt.title('PC')\n",
    "plt.xlabel('PS4')\n",
    "plt.ylabel('PC')\n",
    "plt.xlim(0,15)\n",
    "plt.ylim(0,15)\n",
    "plt.plot([0, 15], [0, 15], color='red', linestyle=':', alpha = 0.2)\n",
    "# WiiU\n",
    "plt.subplot(2, 2, 4)\n",
    "sns.scatterplot(data = ps_pivoted,\n",
    "                x = 'PS4', \n",
    "                y = 'WiiU', \n",
    "                color = 'lightblue', \n",
    "                alpha = 0.8)\n",
    "plt.title('WiiU')\n",
    "plt.xlabel('PS4')\n",
    "plt.ylabel('WiiU')\n",
    "plt.xlim(0,5)\n",
    "plt.ylim(0,5)\n",
    "plt.plot([0, 5], [0, 5], color='red', linestyle=':', alpha = 0.2)\n",
    "\n",
    "plt.tight_layout()\n",
    "plt.show()"
   ]
  },
  {
   "cell_type": "markdown",
   "metadata": {},
   "source": [
    "El gráfico muestra que para cada juego lanzado en PS4 y alguna otra plataforma, PS4 supera en ventas a las demás plataformas salvo en algunos juegos donde no hubo grandes ventas en ninguna plataforma "
   ]
  },
  {
   "cell_type": "markdown",
   "metadata": {},
   "source": [
    "### Echa un vistazo a la distribución general de los juegos por género. ¿Qué se puede decir de los géneros más rentables? ¿Puedes generalizar acerca de los géneros con ventas altas y bajas?"
   ]
  },
  {
   "cell_type": "code",
   "execution_count": 34,
   "metadata": {},
   "outputs": [],
   "source": [
    "sales_by_genre = filtered_games.groupby('genre').agg(number_of_games = ('genre', 'count'), \n",
    "                                                     sales = ('total_sales', 'sum')).reset_index()\n",
    "sales_by_genre = sales_by_genre.sort_values(by='sales', ascending=False)"
   ]
  },
  {
   "cell_type": "code",
   "execution_count": 35,
   "metadata": {},
   "outputs": [
    {
     "data": {
      "text/html": [
       "<div>\n",
       "<style scoped>\n",
       "    .dataframe tbody tr th:only-of-type {\n",
       "        vertical-align: middle;\n",
       "    }\n",
       "\n",
       "    .dataframe tbody tr th {\n",
       "        vertical-align: top;\n",
       "    }\n",
       "\n",
       "    .dataframe thead th {\n",
       "        text-align: right;\n",
       "    }\n",
       "</style>\n",
       "<table border=\"1\" class=\"dataframe\">\n",
       "  <thead>\n",
       "    <tr style=\"text-align: right;\">\n",
       "      <th></th>\n",
       "      <th>genre</th>\n",
       "      <th>number_of_games</th>\n",
       "      <th>sales</th>\n",
       "    </tr>\n",
       "  </thead>\n",
       "  <tbody>\n",
       "    <tr>\n",
       "      <th>0</th>\n",
       "      <td>Action</td>\n",
       "      <td>444</td>\n",
       "      <td>189.86</td>\n",
       "    </tr>\n",
       "    <tr>\n",
       "      <th>8</th>\n",
       "      <td>Shooter</td>\n",
       "      <td>121</td>\n",
       "      <td>164.34</td>\n",
       "    </tr>\n",
       "    <tr>\n",
       "      <th>7</th>\n",
       "      <td>Role-Playing</td>\n",
       "      <td>151</td>\n",
       "      <td>113.74</td>\n",
       "    </tr>\n",
       "    <tr>\n",
       "      <th>10</th>\n",
       "      <td>Sports</td>\n",
       "      <td>111</td>\n",
       "      <td>88.61</td>\n",
       "    </tr>\n",
       "    <tr>\n",
       "      <th>4</th>\n",
       "      <td>Platform</td>\n",
       "      <td>49</td>\n",
       "      <td>33.75</td>\n",
       "    </tr>\n",
       "    <tr>\n",
       "      <th>3</th>\n",
       "      <td>Misc</td>\n",
       "      <td>93</td>\n",
       "      <td>30.81</td>\n",
       "    </tr>\n",
       "    <tr>\n",
       "      <th>6</th>\n",
       "      <td>Racing</td>\n",
       "      <td>58</td>\n",
       "      <td>30.35</td>\n",
       "    </tr>\n",
       "    <tr>\n",
       "      <th>2</th>\n",
       "      <td>Fighting</td>\n",
       "      <td>38</td>\n",
       "      <td>25.50</td>\n",
       "    </tr>\n",
       "    <tr>\n",
       "      <th>9</th>\n",
       "      <td>Simulation</td>\n",
       "      <td>49</td>\n",
       "      <td>20.25</td>\n",
       "    </tr>\n",
       "    <tr>\n",
       "      <th>1</th>\n",
       "      <td>Adventure</td>\n",
       "      <td>84</td>\n",
       "      <td>13.12</td>\n",
       "    </tr>\n",
       "    <tr>\n",
       "      <th>11</th>\n",
       "      <td>Strategy</td>\n",
       "      <td>42</td>\n",
       "      <td>8.56</td>\n",
       "    </tr>\n",
       "    <tr>\n",
       "      <th>5</th>\n",
       "      <td>Puzzle</td>\n",
       "      <td>14</td>\n",
       "      <td>3.07</td>\n",
       "    </tr>\n",
       "  </tbody>\n",
       "</table>\n",
       "</div>"
      ],
      "text/plain": [
       "           genre  number_of_games   sales\n",
       "0         Action              444  189.86\n",
       "8        Shooter              121  164.34\n",
       "7   Role-Playing              151  113.74\n",
       "10        Sports              111   88.61\n",
       "4       Platform               49   33.75\n",
       "3           Misc               93   30.81\n",
       "6         Racing               58   30.35\n",
       "2       Fighting               38   25.50\n",
       "9     Simulation               49   20.25\n",
       "1      Adventure               84   13.12\n",
       "11      Strategy               42    8.56\n",
       "5         Puzzle               14    3.07"
      ]
     },
     "execution_count": 35,
     "metadata": {},
     "output_type": "execute_result"
    }
   ],
   "source": [
    "sales_by_genre"
   ]
  },
  {
   "cell_type": "code",
   "execution_count": 36,
   "metadata": {},
   "outputs": [
    {
     "data": {
      "image/png": "[encoded data removed]",
      "text/plain": [
       "<Figure size 600x400 with 1 Axes>"
      ]
     },
     "metadata": {},
     "output_type": "display_data"
    }
   ],
   "source": [
    "plt.figure(figsize=(6,4))\n",
    "sns.scatterplot(data = sales_by_genre, \n",
    "                x = 'number_of_games', \n",
    "                y='sales',\n",
    "               hue='genre')\n",
    "plt.xlabel('Cantidad de juegos')\n",
    "plt.ylabel('Ventas(millones de dólares)')\n",
    "plt.title('Comparativa de cantidad de juegos y ventas por género ')\n",
    "plt.legend(bbox_to_anchor=(1, 1))\n",
    "plt.tight_layout()\n",
    "plt.show()"
   ]
  },
  {
   "cell_type": "code",
   "execution_count": 37,
   "metadata": {},
   "outputs": [
    {
     "name": "stdout",
     "output_type": "stream",
     "text": [
      "Un resultado de 0.82 indica una fuerte correlación entre ambas variables\n"
     ]
    }
   ],
   "source": [
    "genre_corr = sales_by_genre['number_of_games'].corr(sales_by_genre['sales'])\n",
    "print(f'Un resultado de {genre_corr:.2} indica una fuerte correlación entre ambas variables')"
   ]
  },
  {
   "cell_type": "markdown",
   "metadata": {},
   "source": [
    "Hay una preferencia clara por juegos de Acción y Shooter siendo estos géneros los dominantes en ventas, también se observa lo mencionado al comienzo del análisis referente a la dependencia de las ventas totales en función de la cantidad de juegos aunque no de forma tan fuerte por lo que hay otros factores que influyen como el género en este caso. "
   ]
  },
  {
   "cell_type": "markdown",
   "metadata": {},
   "source": [
    "## Crea un perfil de usuario para cada región"
   ]
  },
  {
   "cell_type": "code",
   "execution_count": 38,
   "metadata": {},
   "outputs": [],
   "source": [
    "# Ventas de juegos por plataforma en cada región\n",
    "regional_sales = filtered_games.groupby('platform').agg(north_america=('na_sales','sum'), \n",
    "                                                        europe=('eu_sales', 'sum'), \n",
    "                                                        japan=('jp_sales', 'sum')).reset_index()\n"
   ]
  },
  {
   "cell_type": "code",
   "execution_count": 39,
   "metadata": {},
   "outputs": [
    {
     "data": {
      "text/html": [
       "<div>\n",
       "<style scoped>\n",
       "    .dataframe tbody tr th:only-of-type {\n",
       "        vertical-align: middle;\n",
       "    }\n",
       "\n",
       "    .dataframe tbody tr th {\n",
       "        vertical-align: top;\n",
       "    }\n",
       "\n",
       "    .dataframe thead th {\n",
       "        text-align: right;\n",
       "    }\n",
       "</style>\n",
       "<table border=\"1\" class=\"dataframe\">\n",
       "  <thead>\n",
       "    <tr style=\"text-align: right;\">\n",
       "      <th></th>\n",
       "      <th>platform</th>\n",
       "      <th>north_america</th>\n",
       "      <th>europe</th>\n",
       "      <th>japan</th>\n",
       "    </tr>\n",
       "  </thead>\n",
       "  <tbody>\n",
       "    <tr>\n",
       "      <th>0</th>\n",
       "      <td>3DS</td>\n",
       "      <td>39.04</td>\n",
       "      <td>31.17</td>\n",
       "      <td>67.86</td>\n",
       "    </tr>\n",
       "    <tr>\n",
       "      <th>1</th>\n",
       "      <td>PC</td>\n",
       "      <td>11.11</td>\n",
       "      <td>25.36</td>\n",
       "      <td>0.00</td>\n",
       "    </tr>\n",
       "    <tr>\n",
       "      <th>2</th>\n",
       "      <td>PS4</td>\n",
       "      <td>108.74</td>\n",
       "      <td>141.09</td>\n",
       "      <td>15.96</td>\n",
       "    </tr>\n",
       "    <tr>\n",
       "      <th>3</th>\n",
       "      <td>WiiU</td>\n",
       "      <td>29.21</td>\n",
       "      <td>19.85</td>\n",
       "      <td>10.88</td>\n",
       "    </tr>\n",
       "    <tr>\n",
       "      <th>4</th>\n",
       "      <td>XOne</td>\n",
       "      <td>93.12</td>\n",
       "      <td>51.59</td>\n",
       "      <td>0.34</td>\n",
       "    </tr>\n",
       "  </tbody>\n",
       "</table>\n",
       "</div>"
      ],
      "text/plain": [
       "  platform  north_america  europe  japan\n",
       "0      3DS          39.04   31.17  67.86\n",
       "1       PC          11.11   25.36   0.00\n",
       "2      PS4         108.74  141.09  15.96\n",
       "3     WiiU          29.21   19.85  10.88\n",
       "4     XOne          93.12   51.59   0.34"
      ]
     },
     "execution_count": 39,
     "metadata": {},
     "output_type": "execute_result"
    }
   ],
   "source": [
    "regional_sales"
   ]
  },
  {
   "cell_type": "code",
   "execution_count": 73,
   "metadata": {},
   "outputs": [
    {
     "data": {
      "image/png": "[encoded data removed]",
      "text/plain": [
       "<Figure size 2000x700 with 3 Axes>"
      ]
     },
     "metadata": {},
     "output_type": "display_data"
    }
   ],
   "source": [
    "fig, axs = plt.subplots(1, 3, figsize=(20, 7))\n",
    "\n",
    "# Gráfico de torta para América del Norte\n",
    "axs[0].pie(regional_sales['north_america'], \n",
    "           labels=regional_sales['platform'], \n",
    "           autopct='%1.1f%%', \n",
    "           textprops={'fontsize': 16})\n",
    "axs[0].set_title('Norteamérica', fontsize=20)\n",
    "\n",
    "# Gráfico de torta para Europa\n",
    "axs[1].pie(regional_sales['europe'], \n",
    "           labels=regional_sales['platform'], \n",
    "           autopct='%1.1f%%', \n",
    "           textprops={'fontsize': 16})\n",
    "axs[1].set_title('Europa', fontsize=20)\n",
    "\n",
    "# Gráfico de torta para Japón\n",
    "axs[2].pie(regional_sales['japan'], \n",
    "           labels=regional_sales['platform'], \n",
    "           autopct='%1.1f%%', \n",
    "           textprops={'fontsize': 16})\n",
    "axs[2].set_title('Japón', fontsize=20)\n",
    "\n",
    "plt.tight_layout()\n",
    "plt.show()"
   ]
  },
  {
   "cell_type": "markdown",
   "metadata": {},
   "source": [
    "Norteamérica: Se observa una fuerte competencia entre PS4 y XOne aunque es la primera quien lleva la delantera\n",
    "\n",
    "Europa: Aquí si hay un claro dominio de PS4 con más del 50% del mercado.\n",
    "\n",
    "Japón: Muestra una preferencia muy grande por 3DS, la única plataforma portátil, abarcando más de dos tercios del mercado. En cuanto a las plataformas \"fijas\" nuevamente PS4 lleva la delantera, seguida por WiiU mientras que PC y XOne juntas no alcanzan el 1%. "
   ]
  },
  {
   "cell_type": "markdown",
   "metadata": {},
   "source": [
    "### Los cinco géneros principales."
   ]
  },
  {
   "cell_type": "code",
   "execution_count": 41,
   "metadata": {},
   "outputs": [],
   "source": [
    "top_five = filtered_games.groupby('genre')[['na_sales','eu_sales','jp_sales']].sum().reset_index()"
   ]
  },
  {
   "cell_type": "code",
   "execution_count": 83,
   "metadata": {},
   "outputs": [
    {
     "data": {
      "text/html": [
       "<div>\n",
       "<style scoped>\n",
       "    .dataframe tbody tr th:only-of-type {\n",
       "        vertical-align: middle;\n",
       "    }\n",
       "\n",
       "    .dataframe tbody tr th {\n",
       "        vertical-align: top;\n",
       "    }\n",
       "\n",
       "    .dataframe thead th {\n",
       "        text-align: right;\n",
       "    }\n",
       "</style>\n",
       "<table border=\"1\" class=\"dataframe\">\n",
       "  <thead>\n",
       "    <tr style=\"text-align: right;\">\n",
       "      <th></th>\n",
       "      <th>genre</th>\n",
       "      <th>na_sales</th>\n",
       "    </tr>\n",
       "  </thead>\n",
       "  <tbody>\n",
       "    <tr>\n",
       "      <th>8</th>\n",
       "      <td>Shooter</td>\n",
       "      <td>74.89</td>\n",
       "    </tr>\n",
       "    <tr>\n",
       "      <th>0</th>\n",
       "      <td>Action</td>\n",
       "      <td>72.61</td>\n",
       "    </tr>\n",
       "    <tr>\n",
       "      <th>10</th>\n",
       "      <td>Sports</td>\n",
       "      <td>36.74</td>\n",
       "    </tr>\n",
       "    <tr>\n",
       "      <th>7</th>\n",
       "      <td>Role-Playing</td>\n",
       "      <td>36.35</td>\n",
       "    </tr>\n",
       "    <tr>\n",
       "      <th>4</th>\n",
       "      <td>Platform</td>\n",
       "      <td>14.02</td>\n",
       "    </tr>\n",
       "  </tbody>\n",
       "</table>\n",
       "</div>"
      ],
      "text/plain": [
       "           genre  na_sales\n",
       "8        Shooter     74.89\n",
       "0         Action     72.61\n",
       "10        Sports     36.74\n",
       "7   Role-Playing     36.35\n",
       "4       Platform     14.02"
      ]
     },
     "execution_count": 83,
     "metadata": {},
     "output_type": "execute_result"
    }
   ],
   "source": [
    "top_na = top_five.nlargest(5, 'na_sales')\n",
    "top_na[['genre', 'na_sales']]"
   ]
  },
  {
   "cell_type": "code",
   "execution_count": 84,
   "metadata": {},
   "outputs": [
    {
     "data": {
      "text/html": [
       "<div>\n",
       "<style scoped>\n",
       "    .dataframe tbody tr th:only-of-type {\n",
       "        vertical-align: middle;\n",
       "    }\n",
       "\n",
       "    .dataframe tbody tr th {\n",
       "        vertical-align: top;\n",
       "    }\n",
       "\n",
       "    .dataframe thead th {\n",
       "        text-align: right;\n",
       "    }\n",
       "</style>\n",
       "<table border=\"1\" class=\"dataframe\">\n",
       "  <thead>\n",
       "    <tr style=\"text-align: right;\">\n",
       "      <th></th>\n",
       "      <th>genre</th>\n",
       "      <th>eu_sales</th>\n",
       "    </tr>\n",
       "  </thead>\n",
       "  <tbody>\n",
       "    <tr>\n",
       "      <th>0</th>\n",
       "      <td>Action</td>\n",
       "      <td>72.17</td>\n",
       "    </tr>\n",
       "    <tr>\n",
       "      <th>8</th>\n",
       "      <td>Shooter</td>\n",
       "      <td>64.36</td>\n",
       "    </tr>\n",
       "    <tr>\n",
       "      <th>10</th>\n",
       "      <td>Sports</td>\n",
       "      <td>37.91</td>\n",
       "    </tr>\n",
       "    <tr>\n",
       "      <th>7</th>\n",
       "      <td>Role-Playing</td>\n",
       "      <td>30.96</td>\n",
       "    </tr>\n",
       "    <tr>\n",
       "      <th>6</th>\n",
       "      <td>Racing</td>\n",
       "      <td>15.17</td>\n",
       "    </tr>\n",
       "  </tbody>\n",
       "</table>\n",
       "</div>"
      ],
      "text/plain": [
       "           genre  eu_sales\n",
       "0         Action     72.17\n",
       "8        Shooter     64.36\n",
       "10        Sports     37.91\n",
       "7   Role-Playing     30.96\n",
       "6         Racing     15.17"
      ]
     },
     "execution_count": 84,
     "metadata": {},
     "output_type": "execute_result"
    }
   ],
   "source": [
    "top_eu = top_five.nlargest(5, 'eu_sales')\n",
    "top_eu[['genre', 'eu_sales']]"
   ]
  },
  {
   "cell_type": "code",
   "execution_count": 85,
   "metadata": {},
   "outputs": [
    {
     "data": {
      "text/html": [
       "<div>\n",
       "<style scoped>\n",
       "    .dataframe tbody tr th:only-of-type {\n",
       "        vertical-align: middle;\n",
       "    }\n",
       "\n",
       "    .dataframe tbody tr th {\n",
       "        vertical-align: top;\n",
       "    }\n",
       "\n",
       "    .dataframe thead th {\n",
       "        text-align: right;\n",
       "    }\n",
       "</style>\n",
       "<table border=\"1\" class=\"dataframe\">\n",
       "  <thead>\n",
       "    <tr style=\"text-align: right;\">\n",
       "      <th></th>\n",
       "      <th>genre</th>\n",
       "      <th>jp_sales</th>\n",
       "    </tr>\n",
       "  </thead>\n",
       "  <tbody>\n",
       "    <tr>\n",
       "      <th>7</th>\n",
       "      <td>Role-Playing</td>\n",
       "      <td>38.03</td>\n",
       "    </tr>\n",
       "    <tr>\n",
       "      <th>0</th>\n",
       "      <td>Action</td>\n",
       "      <td>24.00</td>\n",
       "    </tr>\n",
       "    <tr>\n",
       "      <th>3</th>\n",
       "      <td>Misc</td>\n",
       "      <td>6.23</td>\n",
       "    </tr>\n",
       "    <tr>\n",
       "      <th>4</th>\n",
       "      <td>Platform</td>\n",
       "      <td>4.71</td>\n",
       "    </tr>\n",
       "    <tr>\n",
       "      <th>2</th>\n",
       "      <td>Fighting</td>\n",
       "      <td>4.68</td>\n",
       "    </tr>\n",
       "  </tbody>\n",
       "</table>\n",
       "</div>"
      ],
      "text/plain": [
       "          genre  jp_sales\n",
       "7  Role-Playing     38.03\n",
       "0        Action     24.00\n",
       "3          Misc      6.23\n",
       "4      Platform      4.71\n",
       "2      Fighting      4.68"
      ]
     },
     "execution_count": 85,
     "metadata": {},
     "output_type": "execute_result"
    }
   ],
   "source": [
    "top_jp = top_five.nlargest(5, 'jp_sales')\n",
    "top_jp[['genre', 'jp_sales']]"
   ]
  },
  {
   "cell_type": "markdown",
   "metadata": {},
   "source": [
    "NA y EU poséen patrones de consumo parecidos, compartiendo 4 géneros en sus top5 respectivos y estos casi en la misma posición.\n",
    "\n",
    "Japón se comporta de forma distinta, aunque hay un algunos géneros en común, tienen un orden muy diferente."
   ]
  },
  {
   "cell_type": "markdown",
   "metadata": {},
   "source": [
    "### Como las clasificaciones de ESRB afectan a las ventas en regiones individuales."
   ]
  },
  {
   "cell_type": "code",
   "execution_count": 86,
   "metadata": {},
   "outputs": [],
   "source": [
    "#Hago lo explicado en el procesamiento y elimino los nulos\n",
    "filter_rating = filtered_games[filtered_games['rating'].notnull()]"
   ]
  },
  {
   "cell_type": "code",
   "execution_count": 87,
   "metadata": {},
   "outputs": [],
   "source": [
    "sales_by_rating= filter_rating.groupby('rating')['na_sales', 'eu_sales', 'jp_sales'].sum().reset_index()"
   ]
  },
  {
   "cell_type": "code",
   "execution_count": 89,
   "metadata": {},
   "outputs": [
    {
     "data": {
      "text/html": [
       "<div>\n",
       "<style scoped>\n",
       "    .dataframe tbody tr th:only-of-type {\n",
       "        vertical-align: middle;\n",
       "    }\n",
       "\n",
       "    .dataframe tbody tr th {\n",
       "        vertical-align: top;\n",
       "    }\n",
       "\n",
       "    .dataframe thead th {\n",
       "        text-align: right;\n",
       "    }\n",
       "</style>\n",
       "<table border=\"1\" class=\"dataframe\">\n",
       "  <thead>\n",
       "    <tr style=\"text-align: right;\">\n",
       "      <th></th>\n",
       "      <th>rating</th>\n",
       "      <th>na_sales</th>\n",
       "      <th>eu_sales</th>\n",
       "      <th>jp_sales</th>\n",
       "    </tr>\n",
       "  </thead>\n",
       "  <tbody>\n",
       "    <tr>\n",
       "      <th>0</th>\n",
       "      <td>E</td>\n",
       "      <td>51.96</td>\n",
       "      <td>57.02</td>\n",
       "      <td>13.20</td>\n",
       "    </tr>\n",
       "    <tr>\n",
       "      <th>1</th>\n",
       "      <td>E10+</td>\n",
       "      <td>32.11</td>\n",
       "      <td>25.24</td>\n",
       "      <td>5.38</td>\n",
       "    </tr>\n",
       "    <tr>\n",
       "      <th>2</th>\n",
       "      <td>M</td>\n",
       "      <td>95.62</td>\n",
       "      <td>93.37</td>\n",
       "      <td>6.75</td>\n",
       "    </tr>\n",
       "    <tr>\n",
       "      <th>3</th>\n",
       "      <td>T</td>\n",
       "      <td>33.85</td>\n",
       "      <td>31.38</td>\n",
       "      <td>8.44</td>\n",
       "    </tr>\n",
       "  </tbody>\n",
       "</table>\n",
       "</div>"
      ],
      "text/plain": [
       "  rating  na_sales  eu_sales  jp_sales\n",
       "0      E     51.96     57.02     13.20\n",
       "1   E10+     32.11     25.24      5.38\n",
       "2      M     95.62     93.37      6.75\n",
       "3      T     33.85     31.38      8.44"
      ]
     },
     "execution_count": 89,
     "metadata": {},
     "output_type": "execute_result"
    }
   ],
   "source": [
    "sales_by_rating"
   ]
  },
  {
   "cell_type": "code",
   "execution_count": 47,
   "metadata": {},
   "outputs": [
    {
     "data": {
      "image/png": "[encoded data removed]",
      "text/plain": [
       "<Figure size 1200x400 with 3 Axes>"
      ]
     },
     "metadata": {},
     "output_type": "display_data"
    }
   ],
   "source": [
    "fig, axs = plt.subplots(1, 3, figsize=(12, 4))\n",
    "fig.suptitle('Porcentaje de ventas por clasificación')\n",
    "axs[0].pie(sales_by_rating['na_sales'], labels = sales_by_rating['rating'], autopct = '%1.1f%%')\n",
    "axs[0].set_title('Norteamérica')\n",
    "\n",
    "axs[1].pie(sales_by_rating['eu_sales'], labels = sales_by_rating['rating'], autopct = '%1.1f%%')\n",
    "axs[1].set_title('Europa')\n",
    "\n",
    "axs[2].pie(sales_by_rating['jp_sales'], labels = sales_by_rating['rating'], autopct = '%1.1f%%')\n",
    "axs[2].set_title('Japón')\n",
    "\n",
    "plt.tight_layout()\n",
    "plt.show()"
   ]
  },
  {
   "cell_type": "markdown",
   "metadata": {},
   "source": [
    "Nuevamente Norteamérica y Europa muestran hábitos de consumo parecidos teniendo para cada clasificación números cercanos y en ambos dominando los juegos de clasificación M(Mature 17+) mientras que Japón prefiere los juegos E(Everyone) más que cualquier otra categoría."
   ]
  },
  {
   "cell_type": "markdown",
   "metadata": {},
   "source": [
    "## Prueba de hipótesis"
   ]
  },
  {
   "cell_type": "code",
   "execution_count": 90,
   "metadata": {},
   "outputs": [],
   "source": [
    "# Usaré un valor alpha de 5% para la todas las hipótesis\n",
    "alpha = 0.05"
   ]
  },
  {
   "cell_type": "markdown",
   "metadata": {},
   "source": [
    "### Las calificaciones promedio de los usuarios para las plataformas Xbox One y PC son las mismas."
   ]
  },
  {
   "cell_type": "markdown",
   "metadata": {},
   "source": [
    "La hipótesis nula (H0) será que la calificación promedio de ambas es igual y la hipótesis alternativa(H1) que difieren"
   ]
  },
  {
   "cell_type": "code",
   "execution_count": 49,
   "metadata": {},
   "outputs": [
    {
     "name": "stdout",
     "output_type": "stream",
     "text": [
      "Las varianzas son diferentes\n"
     ]
    }
   ],
   "source": [
    "# Extraer datos de interes\n",
    "xone_score = filtered_games[filtered_games['platform'] == 'XOne']['user_score']\n",
    "pc_score = filtered_games[filtered_games['platform'] == 'PC']['user_score']\n",
    "\n",
    "# Prueba de Levene para evaluar como tratar las varianzas\n",
    "pc_xo_lev = levene(xone_score, pc_score)\n",
    "\n",
    "if pc_xo_lev.pvalue < alpha:\n",
    "    print(\"Las varianzas son diferentes\")\n",
    "else:\n",
    "    print(\"Las varianzas deben tratarse como iguales\")"
   ]
  },
  {
   "cell_type": "code",
   "execution_count": 50,
   "metadata": {},
   "outputs": [
    {
     "name": "stdout",
     "output_type": "stream",
     "text": [
      "Se rechaza la hipótesis nula. Las calificaciones de usuarios para XOne y PC son diferentes.\n"
     ]
    }
   ],
   "source": [
    "# Prueba de Student para H0\n",
    "pc_xo_stu = ttest_ind(xone_score, pc_score, equal_var = False)\n",
    "\n",
    "# Comparar con alpha\n",
    "if pc_xo_lev.pvalue < alpha:\n",
    "    print('Se rechaza la hipótesis nula. Las calificaciones de usuarios para XOne y PC son diferentes.')\n",
    "else:\n",
    "    print('No podemos rechazar la hipótesis nula')"
   ]
  },
  {
   "cell_type": "markdown",
   "metadata": {},
   "source": [
    "### Las calificaciones promedio de los usuarios para los géneros de Acción y Deportes son diferentes."
   ]
  },
  {
   "cell_type": "markdown",
   "metadata": {},
   "source": [
    "La H0 será que las calificaciones promedio para estos géneros son iguales y la alternativa que son diferentes, así buscaremos rechazar la H0"
   ]
  },
  {
   "cell_type": "code",
   "execution_count": 51,
   "metadata": {},
   "outputs": [
    {
     "name": "stdout",
     "output_type": "stream",
     "text": [
      "Las varianzas son diferentes\n"
     ]
    }
   ],
   "source": [
    "# Extraer datos de interes\n",
    "action_scores = filtered_games[filtered_games['genre'] == 'Action']['user_score']\n",
    "sports_scores = filtered_games[filtered_games['genre'] == 'Sports']['user_score']\n",
    "\n",
    "# Prueba de Levene para evaluar como tratar las varianzas\n",
    "sport_action_lev = levene(action_scores, sports_scores)\n",
    "\n",
    "if sport_action_lev.pvalue < alpha:\n",
    "    print(\"Las varianzas son diferentes\")\n",
    "else:\n",
    "    print(\"Las varianzas deben tratarse como iguales\")"
   ]
  },
  {
   "cell_type": "code",
   "execution_count": 52,
   "metadata": {},
   "outputs": [
    {
     "name": "stdout",
     "output_type": "stream",
     "text": [
      "Rechazamos la hipótesis nula: La prueba indica que la calificación de ambos géneros es diferente.\n"
     ]
    }
   ],
   "source": [
    "# Realizar la prueba t de Student\n",
    "sport_action_stud = ttest_ind(action_scores, sports_scores, equal_var = False)\n",
    "\n",
    "if sport_action_stud.pvalue < alpha:\n",
    "    print('Rechazamos la hipótesis nula: La prueba indica que la calificación de ambos géneros es diferente.')\n",
    "else:\n",
    "    print('No podemos rechazar la hipótesis nula.')"
   ]
  },
  {
   "cell_type": "markdown",
   "metadata": {},
   "source": [
    "## Conclusiones"
   ]
  },
  {
   "cell_type": "markdown",
   "metadata": {},
   "source": [
    "El análisis demostró que aunque en el pasado hay plataformas que han vendido más que las actuales, en este mercado la mayoría de los consumidores prefieren las versiones más modernas por lo que el principal enfoque de la tienda debe ser hacia juegos de plataformas nuevas: PS4, XOne, 3DS, WiiU y PC. Es posible que haya mercado para plataformas antiguas pero es uno muy reducido y más si se trata de juegos en formato digital. \n",
    "\n",
    "Las regiones Norteamérica y Europa poséen el segmento del mercado más grande y tienen hábitos de consumo bastante parecidos por lo que puede emplearse la misma estrategia de mercado para ambos, estas regiones prefieren juegos de PS4 y XOne de acción, shooters y deportes antes que cualquier otro género y con clasificación M por lo que esta debiese ser la punta de lanza de la estrategia pero tampoco descuidar las otras plataformas y géneros mencionados en el análisis pues también tienen cuotas importantes.\n",
    "\n",
    "El mercado japones es la tercera región con más ventas a nivel global y esta presenta un comportamiento distinto. Aquí las ventas de PC y XOne son virtualmente cero por lo que no es recomendable emplear recursos. No es el caso de los juegos de 3DS que dominan gran parte del mercado con PS4 y WiiU teniendo cuotas muy inferiores pero que igualmente están presentes. Los japoneses prefieren los RPG y juegos de acción con contenido apto para todo público.\n",
    "\n",
    "Así concluye mi análisis y espero que la información brindada haga que Ice tenga ventas muy exitosas en el próximo año."
   ]
  }
 ],
 "metadata": {
  "ExecuteTimeLog": [
   {
    "duration": 5070,
    "start_time": "2024-05-19T19:28:46.442Z"
   },
   {
    "duration": 1185,
    "start_time": "2024-05-19T19:29:15.479Z"
   },
   {
    "duration": 95,
    "start_time": "2024-05-19T19:29:38.159Z"
   },
   {
    "duration": 52,
    "start_time": "2024-05-19T19:29:59.767Z"
   },
   {
    "duration": 19,
    "start_time": "2024-05-19T19:30:12.085Z"
   },
   {
    "duration": 24,
    "start_time": "2024-05-19T19:32:48.680Z"
   },
   {
    "duration": 6,
    "start_time": "2024-05-19T19:34:48.017Z"
   },
   {
    "duration": 22,
    "start_time": "2024-05-19T19:35:35.097Z"
   },
   {
    "duration": 1262,
    "start_time": "2024-05-19T19:35:48.039Z"
   },
   {
    "duration": 62,
    "start_time": "2024-05-19T19:35:49.305Z"
   },
   {
    "duration": 38,
    "start_time": "2024-05-19T19:35:49.371Z"
   },
   {
    "duration": 30,
    "start_time": "2024-05-19T19:35:49.414Z"
   },
   {
    "duration": 10,
    "start_time": "2024-05-19T19:38:49.008Z"
   },
   {
    "duration": 4,
    "start_time": "2024-05-19T19:38:52.998Z"
   },
   {
    "duration": 28,
    "start_time": "2024-05-19T19:39:00.183Z"
   },
   {
    "duration": 1237,
    "start_time": "2024-05-19T19:39:12.868Z"
   },
   {
    "duration": 56,
    "start_time": "2024-05-19T19:39:14.108Z"
   },
   {
    "duration": 37,
    "start_time": "2024-05-19T19:39:14.167Z"
   },
   {
    "duration": 30,
    "start_time": "2024-05-19T19:39:14.207Z"
   },
   {
    "duration": 6,
    "start_time": "2024-05-19T19:39:14.240Z"
   },
   {
    "duration": 64,
    "start_time": "2024-05-19T19:39:14.250Z"
   },
   {
    "duration": 1595,
    "start_time": "2024-05-19T19:43:29.582Z"
   },
   {
    "duration": 29,
    "start_time": "2024-05-19T19:45:33.630Z"
   },
   {
    "duration": 28,
    "start_time": "2024-05-19T19:49:53.105Z"
   },
   {
    "duration": 4,
    "start_time": "2024-05-19T19:50:21.126Z"
   },
   {
    "duration": 27,
    "start_time": "2024-05-19T19:50:28.589Z"
   },
   {
    "duration": 33,
    "start_time": "2024-05-19T19:51:50.091Z"
   },
   {
    "duration": 27,
    "start_time": "2024-05-19T19:53:01.277Z"
   },
   {
    "duration": 34,
    "start_time": "2024-05-19T19:55:34.715Z"
   },
   {
    "duration": 38,
    "start_time": "2024-05-19T19:55:42.882Z"
   },
   {
    "duration": 33,
    "start_time": "2024-05-19T19:56:00.435Z"
   },
   {
    "duration": 29,
    "start_time": "2024-05-19T19:56:34.296Z"
   },
   {
    "duration": 11,
    "start_time": "2024-05-19T19:56:47.033Z"
   },
   {
    "duration": 29,
    "start_time": "2024-05-19T19:56:52.675Z"
   },
   {
    "duration": 6,
    "start_time": "2024-05-19T19:58:55.738Z"
   },
   {
    "duration": 30,
    "start_time": "2024-05-19T19:59:00.202Z"
   },
   {
    "duration": 775,
    "start_time": "2024-05-19T21:13:50.316Z"
   },
   {
    "duration": 29,
    "start_time": "2024-05-19T21:14:20.383Z"
   },
   {
    "duration": 20,
    "start_time": "2024-05-19T21:14:31.506Z"
   },
   {
    "duration": 48,
    "start_time": "2024-05-19T21:15:52.592Z"
   },
   {
    "duration": 4,
    "start_time": "2024-05-19T21:16:10.509Z"
   },
   {
    "duration": 2823,
    "start_time": "2024-05-19T21:16:15.003Z"
   },
   {
    "duration": 1094,
    "start_time": "2024-05-19T21:17:01.238Z"
   },
   {
    "duration": 1078,
    "start_time": "2024-05-19T21:18:14.169Z"
   },
   {
    "duration": 1264,
    "start_time": "2024-05-19T21:18:45.960Z"
   },
   {
    "duration": 1095,
    "start_time": "2024-05-19T21:20:39.118Z"
   },
   {
    "duration": 728,
    "start_time": "2024-05-19T21:22:23.351Z"
   },
   {
    "duration": 761,
    "start_time": "2024-05-19T21:24:24.940Z"
   },
   {
    "duration": 15,
    "start_time": "2024-05-19T22:08:47.573Z"
   },
   {
    "duration": 33,
    "start_time": "2024-05-19T22:09:09.900Z"
   },
   {
    "duration": 40,
    "start_time": "2024-05-19T22:09:23.202Z"
   },
   {
    "duration": 354,
    "start_time": "2024-05-20T18:54:53.293Z"
   },
   {
    "duration": 27,
    "start_time": "2024-05-20T18:54:56.080Z"
   },
   {
    "duration": 5084,
    "start_time": "2024-05-20T18:55:02.708Z"
   },
   {
    "duration": 81,
    "start_time": "2024-05-20T18:55:07.795Z"
   },
   {
    "duration": 21,
    "start_time": "2024-05-20T18:55:07.879Z"
   },
   {
    "duration": 24,
    "start_time": "2024-05-20T18:55:07.904Z"
   },
   {
    "duration": 7,
    "start_time": "2024-05-20T18:55:07.933Z"
   },
   {
    "duration": 7,
    "start_time": "2024-05-20T18:55:07.943Z"
   },
   {
    "duration": 31,
    "start_time": "2024-05-20T18:55:07.954Z"
   },
   {
    "duration": 33,
    "start_time": "2024-05-20T18:55:08.027Z"
   },
   {
    "duration": 7,
    "start_time": "2024-05-20T18:55:08.063Z"
   },
   {
    "duration": 1579,
    "start_time": "2024-05-20T18:55:08.076Z"
   },
   {
    "duration": 829,
    "start_time": "2024-05-20T18:55:09.658Z"
   },
   {
    "duration": 679,
    "start_time": "2024-05-20T18:55:10.490Z"
   },
   {
    "duration": 56,
    "start_time": "2024-05-20T18:55:11.173Z"
   },
   {
    "duration": 1299,
    "start_time": "2024-05-20T18:55:24.121Z"
   },
   {
    "duration": 1356,
    "start_time": "2024-05-20T19:12:42.522Z"
   },
   {
    "duration": 1418,
    "start_time": "2024-05-20T19:13:01.348Z"
   },
   {
    "duration": 43,
    "start_time": "2024-05-20T19:14:28.374Z"
   },
   {
    "duration": 771,
    "start_time": "2024-05-20T19:20:09.610Z"
   },
   {
    "duration": 624,
    "start_time": "2024-05-20T19:22:35.190Z"
   },
   {
    "duration": 514,
    "start_time": "2024-05-20T19:24:53.315Z"
   },
   {
    "duration": 446,
    "start_time": "2024-05-20T19:25:29.574Z"
   },
   {
    "duration": 444,
    "start_time": "2024-05-20T19:26:30.773Z"
   },
   {
    "duration": 7,
    "start_time": "2024-05-20T19:32:45.583Z"
   },
   {
    "duration": 9,
    "start_time": "2024-05-20T19:32:52.519Z"
   },
   {
    "duration": 8,
    "start_time": "2024-05-20T19:33:00.664Z"
   },
   {
    "duration": 12,
    "start_time": "2024-05-20T19:33:02.856Z"
   },
   {
    "duration": 201,
    "start_time": "2024-05-20T19:33:38.412Z"
   },
   {
    "duration": 30,
    "start_time": "2024-05-20T19:33:48.310Z"
   },
   {
    "duration": 13,
    "start_time": "2024-05-20T19:33:53.635Z"
   },
   {
    "duration": 4899,
    "start_time": "2024-05-23T21:55:19.673Z"
   },
   {
    "duration": 412,
    "start_time": "2024-05-23T21:56:31.702Z"
   },
   {
    "duration": 1312,
    "start_time": "2024-05-23T21:56:53.821Z"
   },
   {
    "duration": 78,
    "start_time": "2024-05-23T21:56:55.138Z"
   },
   {
    "duration": 18,
    "start_time": "2024-05-23T21:56:55.220Z"
   },
   {
    "duration": 4,
    "start_time": "2024-05-23T21:56:55.242Z"
   },
   {
    "duration": 7,
    "start_time": "2024-05-23T21:56:55.248Z"
   },
   {
    "duration": 7,
    "start_time": "2024-05-23T21:56:55.258Z"
   },
   {
    "duration": 70,
    "start_time": "2024-05-23T21:56:55.268Z"
   },
   {
    "duration": 29,
    "start_time": "2024-05-23T21:56:55.340Z"
   },
   {
    "duration": 7,
    "start_time": "2024-05-23T21:56:55.373Z"
   },
   {
    "duration": 1316,
    "start_time": "2024-05-23T21:56:55.385Z"
   },
   {
    "duration": 615,
    "start_time": "2024-05-23T21:56:56.704Z"
   },
   {
    "duration": 757,
    "start_time": "2024-05-23T21:56:57.322Z"
   },
   {
    "duration": 640,
    "start_time": "2024-05-23T21:56:58.082Z"
   },
   {
    "duration": 753,
    "start_time": "2024-05-23T21:56:58.724Z"
   },
   {
    "duration": 480,
    "start_time": "2024-05-23T21:56:59.480Z"
   },
   {
    "duration": 11,
    "start_time": "2024-05-23T21:56:59.963Z"
   },
   {
    "duration": 13,
    "start_time": "2024-05-23T21:56:59.976Z"
   },
   {
    "duration": 1401,
    "start_time": "2024-05-23T21:58:05.437Z"
   },
   {
    "duration": 1179,
    "start_time": "2024-05-23T21:59:43.360Z"
   },
   {
    "duration": 1096,
    "start_time": "2024-05-23T22:00:03.489Z"
   },
   {
    "duration": 1095,
    "start_time": "2024-05-23T22:03:48.496Z"
   },
   {
    "duration": 29,
    "start_time": "2024-05-23T22:04:55.268Z"
   },
   {
    "duration": 31,
    "start_time": "2024-05-23T22:11:36.432Z"
   },
   {
    "duration": 10,
    "start_time": "2024-05-23T22:11:54.404Z"
   },
   {
    "duration": 7,
    "start_time": "2024-05-23T22:12:12.313Z"
   },
   {
    "duration": 13,
    "start_time": "2024-05-23T22:12:19.587Z"
   },
   {
    "duration": 999,
    "start_time": "2024-05-23T22:12:39.378Z"
   },
   {
    "duration": 7,
    "start_time": "2024-05-23T22:12:50.232Z"
   },
   {
    "duration": 16,
    "start_time": "2024-05-23T22:12:53.346Z"
   },
   {
    "duration": 7,
    "start_time": "2024-05-23T22:18:39.662Z"
   },
   {
    "duration": 6,
    "start_time": "2024-05-23T22:18:47.812Z"
   },
   {
    "duration": 5,
    "start_time": "2024-05-23T22:19:12.053Z"
   },
   {
    "duration": 5,
    "start_time": "2024-05-23T22:19:14.309Z"
   },
   {
    "duration": 114,
    "start_time": "2024-05-23T22:19:54.854Z"
   },
   {
    "duration": 1072,
    "start_time": "2024-05-23T22:19:57.962Z"
   },
   {
    "duration": 5,
    "start_time": "2024-05-23T22:25:28.184Z"
   },
   {
    "duration": 9,
    "start_time": "2024-05-23T22:25:32.571Z"
   },
   {
    "duration": 7,
    "start_time": "2024-05-23T22:25:58.392Z"
   },
   {
    "duration": 44,
    "start_time": "2024-05-23T22:26:02.276Z"
   },
   {
    "duration": 24,
    "start_time": "2024-05-23T22:28:09.009Z"
   },
   {
    "duration": 9,
    "start_time": "2024-05-23T22:28:14.876Z"
   },
   {
    "duration": 9,
    "start_time": "2024-05-23T22:28:16.926Z"
   },
   {
    "duration": 23,
    "start_time": "2024-05-23T22:29:01.879Z"
   },
   {
    "duration": 5,
    "start_time": "2024-05-23T22:29:15.417Z"
   },
   {
    "duration": 6,
    "start_time": "2024-05-23T22:29:44.285Z"
   },
   {
    "duration": 6,
    "start_time": "2024-05-23T22:30:27.688Z"
   },
   {
    "duration": 7,
    "start_time": "2024-05-23T22:30:48.841Z"
   },
   {
    "duration": 6,
    "start_time": "2024-05-23T22:30:50.759Z"
   },
   {
    "duration": 4,
    "start_time": "2024-05-23T22:30:59.869Z"
   },
   {
    "duration": 4,
    "start_time": "2024-05-23T22:31:32.446Z"
   },
   {
    "duration": 30,
    "start_time": "2024-05-23T22:31:36.922Z"
   },
   {
    "duration": 56,
    "start_time": "2024-05-23T22:32:06.052Z"
   },
   {
    "duration": 5,
    "start_time": "2024-05-23T22:33:15.559Z"
   },
   {
    "duration": 11,
    "start_time": "2024-05-23T22:33:31.012Z"
   },
   {
    "duration": 5,
    "start_time": "2024-05-23T22:33:38.842Z"
   },
   {
    "duration": 1237,
    "start_time": "2024-05-23T22:33:43.474Z"
   },
   {
    "duration": 67,
    "start_time": "2024-05-23T22:33:44.715Z"
   },
   {
    "duration": 18,
    "start_time": "2024-05-23T22:33:44.785Z"
   },
   {
    "duration": 6,
    "start_time": "2024-05-23T22:33:44.807Z"
   },
   {
    "duration": 6,
    "start_time": "2024-05-23T22:33:44.834Z"
   },
   {
    "duration": 7,
    "start_time": "2024-05-23T22:33:44.843Z"
   },
   {
    "duration": 29,
    "start_time": "2024-05-23T22:33:44.853Z"
   },
   {
    "duration": 48,
    "start_time": "2024-05-23T22:33:44.885Z"
   },
   {
    "duration": 5,
    "start_time": "2024-05-23T22:33:44.937Z"
   },
   {
    "duration": 6,
    "start_time": "2024-05-23T22:33:44.947Z"
   },
   {
    "duration": 1167,
    "start_time": "2024-05-23T22:33:44.956Z"
   },
   {
    "duration": 9,
    "start_time": "2024-05-23T22:33:46.126Z"
   },
   {
    "duration": 12,
    "start_time": "2024-05-23T22:33:46.138Z"
   },
   {
    "duration": 833,
    "start_time": "2024-05-23T22:33:46.154Z"
   },
   {
    "duration": 726,
    "start_time": "2024-05-23T22:33:46.990Z"
   },
   {
    "duration": 853,
    "start_time": "2024-05-23T22:33:47.720Z"
   },
   {
    "duration": 439,
    "start_time": "2024-05-23T22:33:48.576Z"
   },
   {
    "duration": 17,
    "start_time": "2024-05-23T22:33:49.018Z"
   },
   {
    "duration": 15,
    "start_time": "2024-05-23T22:33:49.039Z"
   },
   {
    "duration": 31,
    "start_time": "2024-05-23T22:34:34.005Z"
   },
   {
    "duration": 1259,
    "start_time": "2024-05-23T22:35:44.228Z"
   },
   {
    "duration": 6,
    "start_time": "2024-05-23T22:35:55.059Z"
   },
   {
    "duration": 29,
    "start_time": "2024-05-23T22:36:01.128Z"
   },
   {
    "duration": 10,
    "start_time": "2024-05-23T22:38:28.502Z"
   },
   {
    "duration": 29,
    "start_time": "2024-05-23T22:38:32.690Z"
   },
   {
    "duration": 7,
    "start_time": "2024-05-23T22:38:48.732Z"
   },
   {
    "duration": 29,
    "start_time": "2024-05-23T22:38:53.866Z"
   },
   {
    "duration": 24,
    "start_time": "2024-05-23T22:47:27.217Z"
   },
   {
    "duration": 25,
    "start_time": "2024-05-23T22:47:55.425Z"
   },
   {
    "duration": 44,
    "start_time": "2024-05-23T22:48:08.915Z"
   },
   {
    "duration": 4,
    "start_time": "2024-05-23T22:48:28.868Z"
   },
   {
    "duration": 5,
    "start_time": "2024-05-23T22:48:33.205Z"
   },
   {
    "duration": 37,
    "start_time": "2024-05-23T22:48:43.994Z"
   },
   {
    "duration": 38,
    "start_time": "2024-05-23T22:48:50.411Z"
   },
   {
    "duration": 39,
    "start_time": "2024-05-23T22:48:51.758Z"
   },
   {
    "duration": 36,
    "start_time": "2024-05-23T22:48:53.049Z"
   },
   {
    "duration": 37,
    "start_time": "2024-05-23T22:48:54.585Z"
   },
   {
    "duration": 1244,
    "start_time": "2024-05-23T22:49:16.369Z"
   },
   {
    "duration": 64,
    "start_time": "2024-05-23T22:49:17.616Z"
   },
   {
    "duration": 20,
    "start_time": "2024-05-23T22:49:17.683Z"
   },
   {
    "duration": 28,
    "start_time": "2024-05-23T22:49:17.706Z"
   },
   {
    "duration": 6,
    "start_time": "2024-05-23T22:49:17.738Z"
   },
   {
    "duration": 7,
    "start_time": "2024-05-23T22:49:17.747Z"
   },
   {
    "duration": 29,
    "start_time": "2024-05-23T22:49:17.756Z"
   },
   {
    "duration": 45,
    "start_time": "2024-05-23T22:49:17.788Z"
   },
   {
    "duration": 5,
    "start_time": "2024-05-23T22:49:17.837Z"
   },
   {
    "duration": 4,
    "start_time": "2024-05-23T22:49:17.847Z"
   },
   {
    "duration": 8,
    "start_time": "2024-05-23T22:49:17.854Z"
   },
   {
    "duration": 74,
    "start_time": "2024-05-23T22:49:17.865Z"
   },
   {
    "duration": 1161,
    "start_time": "2024-05-23T22:49:17.942Z"
   },
   {
    "duration": 7,
    "start_time": "2024-05-23T22:49:19.106Z"
   },
   {
    "duration": 21,
    "start_time": "2024-05-23T22:49:19.117Z"
   },
   {
    "duration": 824,
    "start_time": "2024-05-23T22:49:19.141Z"
   },
   {
    "duration": 645,
    "start_time": "2024-05-23T22:49:19.968Z"
   },
   {
    "duration": 763,
    "start_time": "2024-05-23T22:49:20.616Z"
   },
   {
    "duration": 496,
    "start_time": "2024-05-23T22:49:21.382Z"
   },
   {
    "duration": 9,
    "start_time": "2024-05-23T22:49:21.881Z"
   },
   {
    "duration": 12,
    "start_time": "2024-05-23T22:49:21.893Z"
   },
   {
    "duration": 40,
    "start_time": "2024-05-23T22:49:35.044Z"
   },
   {
    "duration": 18,
    "start_time": "2024-05-23T22:50:20.354Z"
   },
   {
    "duration": 6,
    "start_time": "2024-05-23T22:51:29.129Z"
   },
   {
    "duration": 5,
    "start_time": "2024-05-23T22:51:34.674Z"
   },
   {
    "duration": 29,
    "start_time": "2024-05-23T22:51:39.626Z"
   },
   {
    "duration": 18,
    "start_time": "2024-05-23T22:55:45.590Z"
   },
   {
    "duration": 1231,
    "start_time": "2024-05-23T23:02:17.373Z"
   },
   {
    "duration": 47,
    "start_time": "2024-05-23T23:02:18.608Z"
   },
   {
    "duration": 22,
    "start_time": "2024-05-23T23:02:18.658Z"
   },
   {
    "duration": 18,
    "start_time": "2024-05-23T23:02:18.685Z"
   },
   {
    "duration": 28,
    "start_time": "2024-05-23T23:02:18.706Z"
   },
   {
    "duration": 6,
    "start_time": "2024-05-23T23:02:18.737Z"
   },
   {
    "duration": 8,
    "start_time": "2024-05-23T23:02:18.746Z"
   },
   {
    "duration": 5,
    "start_time": "2024-05-23T23:02:18.756Z"
   },
   {
    "duration": 5,
    "start_time": "2024-05-23T23:02:18.765Z"
   },
   {
    "duration": 4,
    "start_time": "2024-05-23T23:02:18.776Z"
   },
   {
    "duration": 8,
    "start_time": "2024-05-23T23:02:18.834Z"
   },
   {
    "duration": 5,
    "start_time": "2024-05-23T23:02:18.845Z"
   },
   {
    "duration": 7,
    "start_time": "2024-05-23T23:02:18.853Z"
   },
   {
    "duration": 1179,
    "start_time": "2024-05-23T23:02:18.863Z"
   },
   {
    "duration": 10,
    "start_time": "2024-05-23T23:02:20.045Z"
   },
   {
    "duration": 13,
    "start_time": "2024-05-23T23:02:20.058Z"
   },
   {
    "duration": 808,
    "start_time": "2024-05-23T23:02:20.074Z"
   },
   {
    "duration": 647,
    "start_time": "2024-05-23T23:02:20.885Z"
   },
   {
    "duration": 762,
    "start_time": "2024-05-23T23:02:21.536Z"
   },
   {
    "duration": 469,
    "start_time": "2024-05-23T23:02:22.301Z"
   },
   {
    "duration": 9,
    "start_time": "2024-05-23T23:02:22.774Z"
   },
   {
    "duration": 13,
    "start_time": "2024-05-23T23:02:22.786Z"
   },
   {
    "duration": 29,
    "start_time": "2024-05-23T23:03:01.963Z"
   },
   {
    "duration": 43,
    "start_time": "2024-05-23T23:06:26.916Z"
   },
   {
    "duration": 39,
    "start_time": "2024-05-23T23:06:43.563Z"
   },
   {
    "duration": 63,
    "start_time": "2024-05-23T23:07:29.598Z"
   },
   {
    "duration": 8,
    "start_time": "2024-05-23T23:08:42.313Z"
   },
   {
    "duration": 6,
    "start_time": "2024-05-23T23:08:51.848Z"
   },
   {
    "duration": 7,
    "start_time": "2024-05-23T23:08:59.660Z"
   },
   {
    "duration": 6,
    "start_time": "2024-05-23T23:10:55.541Z"
   },
   {
    "duration": 7,
    "start_time": "2024-05-23T23:11:04.078Z"
   },
   {
    "duration": 1320,
    "start_time": "2024-05-23T23:11:16.702Z"
   },
   {
    "duration": 43,
    "start_time": "2024-05-23T23:11:18.026Z"
   },
   {
    "duration": 24,
    "start_time": "2024-05-23T23:11:18.073Z"
   },
   {
    "duration": 39,
    "start_time": "2024-05-23T23:11:18.100Z"
   },
   {
    "duration": 4,
    "start_time": "2024-05-23T23:11:18.144Z"
   },
   {
    "duration": 1612,
    "start_time": "2024-05-23T23:11:18.150Z"
   },
   {
    "duration": 0,
    "start_time": "2024-05-23T23:11:19.766Z"
   },
   {
    "duration": 0,
    "start_time": "2024-05-23T23:11:19.768Z"
   },
   {
    "duration": 0,
    "start_time": "2024-05-23T23:11:19.770Z"
   },
   {
    "duration": 0,
    "start_time": "2024-05-23T23:11:19.772Z"
   },
   {
    "duration": 0,
    "start_time": "2024-05-23T23:11:19.774Z"
   },
   {
    "duration": 0,
    "start_time": "2024-05-23T23:11:19.776Z"
   },
   {
    "duration": 1,
    "start_time": "2024-05-23T23:11:19.778Z"
   },
   {
    "duration": 0,
    "start_time": "2024-05-23T23:11:19.780Z"
   },
   {
    "duration": 0,
    "start_time": "2024-05-23T23:11:19.782Z"
   },
   {
    "duration": 0,
    "start_time": "2024-05-23T23:11:19.784Z"
   },
   {
    "duration": 0,
    "start_time": "2024-05-23T23:11:19.788Z"
   },
   {
    "duration": 0,
    "start_time": "2024-05-23T23:11:19.790Z"
   },
   {
    "duration": 0,
    "start_time": "2024-05-23T23:11:19.791Z"
   },
   {
    "duration": 0,
    "start_time": "2024-05-23T23:11:19.794Z"
   },
   {
    "duration": 1,
    "start_time": "2024-05-23T23:11:19.833Z"
   },
   {
    "duration": 0,
    "start_time": "2024-05-23T23:11:19.835Z"
   },
   {
    "duration": 0,
    "start_time": "2024-05-23T23:11:19.838Z"
   },
   {
    "duration": 0,
    "start_time": "2024-05-23T23:11:19.841Z"
   },
   {
    "duration": 0,
    "start_time": "2024-05-23T23:11:19.843Z"
   },
   {
    "duration": 0,
    "start_time": "2024-05-23T23:11:19.845Z"
   },
   {
    "duration": 6,
    "start_time": "2024-05-23T23:11:45.322Z"
   },
   {
    "duration": 8,
    "start_time": "2024-05-23T23:11:47.606Z"
   },
   {
    "duration": 8,
    "start_time": "2024-05-23T23:12:18.638Z"
   },
   {
    "duration": 18,
    "start_time": "2024-05-23T23:12:20.765Z"
   },
   {
    "duration": 8,
    "start_time": "2024-05-23T23:14:09.913Z"
   },
   {
    "duration": 13,
    "start_time": "2024-05-23T23:14:12.290Z"
   },
   {
    "duration": 6,
    "start_time": "2024-05-23T23:21:05.135Z"
   },
   {
    "duration": 7,
    "start_time": "2024-05-23T23:21:07.116Z"
   },
   {
    "duration": 9,
    "start_time": "2024-05-23T23:23:49.650Z"
   },
   {
    "duration": 8,
    "start_time": "2024-05-23T23:24:08.473Z"
   },
   {
    "duration": 13,
    "start_time": "2024-05-23T23:24:10.658Z"
   },
   {
    "duration": 489,
    "start_time": "2024-05-23T23:27:48.400Z"
   },
   {
    "duration": 608,
    "start_time": "2024-05-23T23:28:01.850Z"
   },
   {
    "duration": 429,
    "start_time": "2024-05-23T23:30:24.105Z"
   },
   {
    "duration": 27,
    "start_time": "2024-05-23T23:30:35.979Z"
   },
   {
    "duration": 36,
    "start_time": "2024-05-23T23:30:50.264Z"
   },
   {
    "duration": 25,
    "start_time": "2024-05-23T23:31:05.047Z"
   },
   {
    "duration": 33,
    "start_time": "2024-05-23T23:31:21.637Z"
   },
   {
    "duration": 32,
    "start_time": "2024-05-23T23:31:36.158Z"
   },
   {
    "duration": 6,
    "start_time": "2024-05-23T23:33:06.952Z"
   },
   {
    "duration": 38,
    "start_time": "2024-05-23T23:33:16.797Z"
   },
   {
    "duration": 38,
    "start_time": "2024-05-23T23:34:41.728Z"
   },
   {
    "duration": 48,
    "start_time": "2024-05-23T23:34:56.574Z"
   },
   {
    "duration": 45,
    "start_time": "2024-05-23T23:35:07.281Z"
   },
   {
    "duration": 17,
    "start_time": "2024-05-23T23:35:16.281Z"
   },
   {
    "duration": 1294,
    "start_time": "2024-05-23T23:40:11.822Z"
   },
   {
    "duration": 49,
    "start_time": "2024-05-23T23:40:13.120Z"
   },
   {
    "duration": 25,
    "start_time": "2024-05-23T23:40:13.173Z"
   },
   {
    "duration": 41,
    "start_time": "2024-05-23T23:40:13.202Z"
   },
   {
    "duration": 9,
    "start_time": "2024-05-23T23:40:13.246Z"
   },
   {
    "duration": 10,
    "start_time": "2024-05-23T23:40:13.257Z"
   },
   {
    "duration": 14,
    "start_time": "2024-05-23T23:40:13.269Z"
   },
   {
    "duration": 1489,
    "start_time": "2024-05-23T23:40:13.287Z"
   },
   {
    "duration": 0,
    "start_time": "2024-05-23T23:40:14.780Z"
   },
   {
    "duration": 0,
    "start_time": "2024-05-23T23:40:14.783Z"
   },
   {
    "duration": 0,
    "start_time": "2024-05-23T23:40:14.785Z"
   },
   {
    "duration": 0,
    "start_time": "2024-05-23T23:40:14.786Z"
   },
   {
    "duration": 0,
    "start_time": "2024-05-23T23:40:14.788Z"
   },
   {
    "duration": 0,
    "start_time": "2024-05-23T23:40:14.789Z"
   },
   {
    "duration": 0,
    "start_time": "2024-05-23T23:40:14.791Z"
   },
   {
    "duration": 0,
    "start_time": "2024-05-23T23:40:14.793Z"
   },
   {
    "duration": 0,
    "start_time": "2024-05-23T23:40:14.794Z"
   },
   {
    "duration": 0,
    "start_time": "2024-05-23T23:40:14.797Z"
   },
   {
    "duration": 0,
    "start_time": "2024-05-23T23:40:14.799Z"
   },
   {
    "duration": 0,
    "start_time": "2024-05-23T23:40:14.801Z"
   },
   {
    "duration": 0,
    "start_time": "2024-05-23T23:40:14.833Z"
   },
   {
    "duration": 0,
    "start_time": "2024-05-23T23:40:14.835Z"
   },
   {
    "duration": 0,
    "start_time": "2024-05-23T23:40:14.838Z"
   },
   {
    "duration": 0,
    "start_time": "2024-05-23T23:40:14.841Z"
   },
   {
    "duration": 0,
    "start_time": "2024-05-23T23:40:14.844Z"
   },
   {
    "duration": 0,
    "start_time": "2024-05-23T23:40:14.847Z"
   },
   {
    "duration": 7,
    "start_time": "2024-05-23T23:41:20.894Z"
   },
   {
    "duration": 376,
    "start_time": "2024-05-23T23:41:24.709Z"
   },
   {
    "duration": 21,
    "start_time": "2024-05-23T23:41:28.218Z"
   },
   {
    "duration": 33,
    "start_time": "2024-05-23T23:41:41.390Z"
   },
   {
    "duration": 30,
    "start_time": "2024-05-23T23:41:46.168Z"
   },
   {
    "duration": 29,
    "start_time": "2024-05-23T23:41:48.009Z"
   },
   {
    "duration": 32,
    "start_time": "2024-05-23T23:41:49.399Z"
   },
   {
    "duration": 29,
    "start_time": "2024-05-23T23:41:51.175Z"
   },
   {
    "duration": 29,
    "start_time": "2024-05-23T23:41:52.838Z"
   },
   {
    "duration": 29,
    "start_time": "2024-05-23T23:41:54.001Z"
   },
   {
    "duration": 30,
    "start_time": "2024-05-23T23:41:54.981Z"
   },
   {
    "duration": 1281,
    "start_time": "2024-05-23T23:42:01.536Z"
   },
   {
    "duration": 46,
    "start_time": "2024-05-23T23:42:02.821Z"
   },
   {
    "duration": 24,
    "start_time": "2024-05-23T23:42:02.869Z"
   },
   {
    "duration": 43,
    "start_time": "2024-05-23T23:42:02.897Z"
   },
   {
    "duration": 5,
    "start_time": "2024-05-23T23:42:02.943Z"
   },
   {
    "duration": 8,
    "start_time": "2024-05-23T23:42:02.951Z"
   },
   {
    "duration": 8,
    "start_time": "2024-05-23T23:42:02.962Z"
   },
   {
    "duration": 329,
    "start_time": "2024-05-23T23:42:02.973Z"
   },
   {
    "duration": 34,
    "start_time": "2024-05-23T23:42:03.304Z"
   },
   {
    "duration": 7,
    "start_time": "2024-05-23T23:42:03.344Z"
   },
   {
    "duration": 5,
    "start_time": "2024-05-23T23:42:03.354Z"
   },
   {
    "duration": 6,
    "start_time": "2024-05-23T23:42:03.362Z"
   },
   {
    "duration": 4,
    "start_time": "2024-05-23T23:42:03.372Z"
   },
   {
    "duration": 55,
    "start_time": "2024-05-23T23:42:03.379Z"
   },
   {
    "duration": 5,
    "start_time": "2024-05-23T23:42:03.437Z"
   },
   {
    "duration": 4,
    "start_time": "2024-05-23T23:42:03.446Z"
   },
   {
    "duration": 31,
    "start_time": "2024-05-23T23:42:03.453Z"
   },
   {
    "duration": 1334,
    "start_time": "2024-05-23T23:42:03.487Z"
   },
   {
    "duration": 9,
    "start_time": "2024-05-23T23:42:04.826Z"
   },
   {
    "duration": 24,
    "start_time": "2024-05-23T23:42:04.838Z"
   },
   {
    "duration": 819,
    "start_time": "2024-05-23T23:42:04.866Z"
   },
   {
    "duration": 684,
    "start_time": "2024-05-23T23:42:05.689Z"
   },
   {
    "duration": 827,
    "start_time": "2024-05-23T23:42:06.377Z"
   },
   {
    "duration": 509,
    "start_time": "2024-05-23T23:42:07.208Z"
   },
   {
    "duration": 17,
    "start_time": "2024-05-23T23:42:07.721Z"
   },
   {
    "duration": 13,
    "start_time": "2024-05-23T23:42:07.741Z"
   },
   {
    "duration": 196,
    "start_time": "2024-05-23T23:42:29.624Z"
   },
   {
    "duration": 24,
    "start_time": "2024-05-23T23:42:36.369Z"
   },
   {
    "duration": 9,
    "start_time": "2024-05-23T23:42:43.758Z"
   },
   {
    "duration": 7,
    "start_time": "2024-05-23T23:43:09.108Z"
   },
   {
    "duration": 32,
    "start_time": "2024-05-23T23:43:12.370Z"
   },
   {
    "duration": 33,
    "start_time": "2024-05-23T23:43:18.015Z"
   },
   {
    "duration": 33,
    "start_time": "2024-05-23T23:43:21.986Z"
   },
   {
    "duration": 31,
    "start_time": "2024-05-23T23:43:26.132Z"
   },
   {
    "duration": 36,
    "start_time": "2024-05-23T23:43:27.409Z"
   },
   {
    "duration": 32,
    "start_time": "2024-05-23T23:43:28.694Z"
   },
   {
    "duration": 11,
    "start_time": "2024-05-23T23:43:53.936Z"
   },
   {
    "duration": 33,
    "start_time": "2024-05-23T23:44:00.555Z"
   },
   {
    "duration": 59,
    "start_time": "2024-05-23T23:44:08.997Z"
   },
   {
    "duration": 58,
    "start_time": "2024-05-23T23:44:11.578Z"
   },
   {
    "duration": 56,
    "start_time": "2024-05-23T23:44:12.834Z"
   },
   {
    "duration": 55,
    "start_time": "2024-05-23T23:44:13.941Z"
   },
   {
    "duration": 57,
    "start_time": "2024-05-23T23:44:15.276Z"
   },
   {
    "duration": 55,
    "start_time": "2024-05-23T23:44:16.503Z"
   },
   {
    "duration": 55,
    "start_time": "2024-05-23T23:44:17.618Z"
   },
   {
    "duration": 56,
    "start_time": "2024-05-23T23:44:19.093Z"
   },
   {
    "duration": 14,
    "start_time": "2024-05-23T23:50:27.137Z"
   },
   {
    "duration": 30,
    "start_time": "2024-05-23T23:50:31.591Z"
   },
   {
    "duration": 1285,
    "start_time": "2024-05-23T23:53:35.163Z"
   },
   {
    "duration": 41,
    "start_time": "2024-05-23T23:53:36.452Z"
   },
   {
    "duration": 41,
    "start_time": "2024-05-23T23:53:36.497Z"
   },
   {
    "duration": 22,
    "start_time": "2024-05-23T23:53:36.544Z"
   },
   {
    "duration": 4,
    "start_time": "2024-05-23T23:53:36.570Z"
   },
   {
    "duration": 44065,
    "start_time": "2024-05-23T23:53:36.578Z"
   },
   {
    "duration": 8,
    "start_time": "2024-05-23T23:54:20.646Z"
   },
   {
    "duration": 29,
    "start_time": "2024-05-23T23:54:20.658Z"
   },
   {
    "duration": 9,
    "start_time": "2024-05-23T23:54:20.691Z"
   },
   {
    "duration": 5,
    "start_time": "2024-05-23T23:54:20.738Z"
   },
   {
    "duration": 6,
    "start_time": "2024-05-23T23:54:20.746Z"
   },
   {
    "duration": 6,
    "start_time": "2024-05-23T23:54:20.756Z"
   },
   {
    "duration": 10,
    "start_time": "2024-05-23T23:54:20.765Z"
   },
   {
    "duration": 5,
    "start_time": "2024-05-23T23:54:20.778Z"
   },
   {
    "duration": 6,
    "start_time": "2024-05-23T23:54:20.835Z"
   },
   {
    "duration": 41,
    "start_time": "2024-05-23T23:54:20.845Z"
   },
   {
    "duration": 1325,
    "start_time": "2024-05-23T23:54:20.889Z"
   },
   {
    "duration": 15,
    "start_time": "2024-05-23T23:54:22.218Z"
   },
   {
    "duration": 20,
    "start_time": "2024-05-23T23:54:22.236Z"
   },
   {
    "duration": 927,
    "start_time": "2024-05-23T23:54:22.260Z"
   },
   {
    "duration": 730,
    "start_time": "2024-05-23T23:54:23.190Z"
   },
   {
    "duration": 727,
    "start_time": "2024-05-23T23:54:23.925Z"
   },
   {
    "duration": 488,
    "start_time": "2024-05-23T23:54:24.657Z"
   },
   {
    "duration": 10,
    "start_time": "2024-05-23T23:54:25.148Z"
   },
   {
    "duration": 16,
    "start_time": "2024-05-23T23:54:25.161Z"
   },
   {
    "duration": 1347,
    "start_time": "2024-05-23T23:54:34.964Z"
   },
   {
    "duration": 58,
    "start_time": "2024-05-23T23:54:36.315Z"
   },
   {
    "duration": 27,
    "start_time": "2024-05-23T23:54:36.376Z"
   },
   {
    "duration": 40,
    "start_time": "2024-05-23T23:54:36.408Z"
   },
   {
    "duration": 8,
    "start_time": "2024-05-23T23:54:36.451Z"
   },
   {
    "duration": 8,
    "start_time": "2024-05-23T23:54:36.463Z"
   },
   {
    "duration": 324,
    "start_time": "2024-05-23T23:54:36.474Z"
   },
   {
    "duration": 8,
    "start_time": "2024-05-23T23:54:36.801Z"
   },
   {
    "duration": 47,
    "start_time": "2024-05-23T23:54:36.812Z"
   },
   {
    "duration": 7,
    "start_time": "2024-05-23T23:54:36.865Z"
   },
   {
    "duration": 5,
    "start_time": "2024-05-23T23:54:36.876Z"
   },
   {
    "duration": 5,
    "start_time": "2024-05-23T23:54:36.884Z"
   },
   {
    "duration": 43,
    "start_time": "2024-05-23T23:54:36.892Z"
   },
   {
    "duration": 8,
    "start_time": "2024-05-23T23:54:36.940Z"
   },
   {
    "duration": 5,
    "start_time": "2024-05-23T23:54:36.952Z"
   },
   {
    "duration": 5,
    "start_time": "2024-05-23T23:54:36.961Z"
   },
   {
    "duration": 78,
    "start_time": "2024-05-23T23:54:36.970Z"
   },
   {
    "duration": 1325,
    "start_time": "2024-05-23T23:54:37.051Z"
   },
   {
    "duration": 10,
    "start_time": "2024-05-23T23:54:38.384Z"
   },
   {
    "duration": 16,
    "start_time": "2024-05-23T23:54:38.397Z"
   },
   {
    "duration": 771,
    "start_time": "2024-05-23T23:54:38.416Z"
   },
   {
    "duration": 729,
    "start_time": "2024-05-23T23:54:39.192Z"
   },
   {
    "duration": 731,
    "start_time": "2024-05-23T23:54:39.924Z"
   },
   {
    "duration": 476,
    "start_time": "2024-05-23T23:54:40.658Z"
   },
   {
    "duration": 9,
    "start_time": "2024-05-23T23:54:41.138Z"
   },
   {
    "duration": 13,
    "start_time": "2024-05-23T23:54:41.150Z"
   },
   {
    "duration": 23,
    "start_time": "2024-05-23T23:56:43.129Z"
   },
   {
    "duration": 20,
    "start_time": "2024-05-23T23:58:25.666Z"
   },
   {
    "duration": 21,
    "start_time": "2024-05-23T23:58:34.423Z"
   },
   {
    "duration": 24,
    "start_time": "2024-05-23T23:58:46.355Z"
   },
   {
    "duration": 195,
    "start_time": "2024-05-23T23:58:53.866Z"
   },
   {
    "duration": 16,
    "start_time": "2024-05-23T23:58:58.151Z"
   },
   {
    "duration": 25,
    "start_time": "2024-05-23T23:59:05.624Z"
   },
   {
    "duration": 27,
    "start_time": "2024-05-23T23:59:19.724Z"
   },
   {
    "duration": 5,
    "start_time": "2024-05-23T23:59:27.372Z"
   },
   {
    "duration": 18,
    "start_time": "2024-05-24T00:00:26.665Z"
   },
   {
    "duration": 21,
    "start_time": "2024-05-24T00:00:50.258Z"
   },
   {
    "duration": 17,
    "start_time": "2024-05-24T00:01:17.935Z"
   },
   {
    "duration": 19,
    "start_time": "2024-05-24T00:01:22.371Z"
   },
   {
    "duration": 20,
    "start_time": "2024-05-24T00:01:26.009Z"
   },
   {
    "duration": 18,
    "start_time": "2024-05-24T00:05:14.790Z"
   },
   {
    "duration": 14,
    "start_time": "2024-05-24T00:05:25.644Z"
   },
   {
    "duration": 13,
    "start_time": "2024-05-24T00:05:32.745Z"
   },
   {
    "duration": 1432,
    "start_time": "2024-05-24T00:07:59.266Z"
   },
   {
    "duration": 48,
    "start_time": "2024-05-24T00:08:00.701Z"
   },
   {
    "duration": 24,
    "start_time": "2024-05-24T00:08:00.751Z"
   },
   {
    "duration": 20,
    "start_time": "2024-05-24T00:08:00.777Z"
   },
   {
    "duration": 48,
    "start_time": "2024-05-24T00:08:00.802Z"
   },
   {
    "duration": 5,
    "start_time": "2024-05-24T00:08:00.853Z"
   },
   {
    "duration": 19,
    "start_time": "2024-05-24T00:08:00.861Z"
   },
   {
    "duration": 49,
    "start_time": "2024-05-24T00:08:00.884Z"
   },
   {
    "duration": 12,
    "start_time": "2024-05-24T00:08:00.939Z"
   },
   {
    "duration": 9,
    "start_time": "2024-05-24T00:08:00.955Z"
   },
   {
    "duration": 311,
    "start_time": "2024-05-24T00:08:00.967Z"
   },
   {
    "duration": 5,
    "start_time": "2024-05-24T00:08:01.282Z"
   },
   {
    "duration": 8,
    "start_time": "2024-05-24T00:08:01.290Z"
   },
   {
    "duration": 32,
    "start_time": "2024-05-24T00:08:01.305Z"
   },
   {
    "duration": 5,
    "start_time": "2024-05-24T00:08:01.346Z"
   },
   {
    "duration": 8,
    "start_time": "2024-05-24T00:08:01.355Z"
   },
   {
    "duration": 10,
    "start_time": "2024-05-24T00:08:01.367Z"
   },
   {
    "duration": 5,
    "start_time": "2024-05-24T00:08:01.380Z"
   },
   {
    "duration": 6,
    "start_time": "2024-05-24T00:08:01.388Z"
   },
   {
    "duration": 35,
    "start_time": "2024-05-24T00:08:01.432Z"
   },
   {
    "duration": 1254,
    "start_time": "2024-05-24T00:08:01.470Z"
   },
   {
    "duration": 8,
    "start_time": "2024-05-24T00:08:02.727Z"
   },
   {
    "duration": 11,
    "start_time": "2024-05-24T00:08:02.740Z"
   },
   {
    "duration": 701,
    "start_time": "2024-05-24T00:08:02.754Z"
   },
   {
    "duration": 644,
    "start_time": "2024-05-24T00:08:03.458Z"
   },
   {
    "duration": 734,
    "start_time": "2024-05-24T00:08:04.105Z"
   },
   {
    "duration": 460,
    "start_time": "2024-05-24T00:08:04.842Z"
   },
   {
    "duration": 9,
    "start_time": "2024-05-24T00:08:05.305Z"
   },
   {
    "duration": 25,
    "start_time": "2024-05-24T00:08:05.317Z"
   },
   {
    "duration": 13,
    "start_time": "2024-05-24T00:12:37.061Z"
   },
   {
    "duration": 8,
    "start_time": "2024-05-24T00:26:40.061Z"
   },
   {
    "duration": 32,
    "start_time": "2024-05-24T00:26:48.043Z"
   },
   {
    "duration": 705,
    "start_time": "2024-05-24T00:30:00.844Z"
   },
   {
    "duration": 427,
    "start_time": "2024-05-24T00:31:25.336Z"
   },
   {
    "duration": 7,
    "start_time": "2024-05-24T00:31:53.802Z"
   },
   {
    "duration": 1117,
    "start_time": "2024-05-24T00:31:58.282Z"
   },
   {
    "duration": 803,
    "start_time": "2024-05-24T00:32:15.451Z"
   },
   {
    "duration": 804,
    "start_time": "2024-05-24T00:32:23.537Z"
   },
   {
    "duration": 724,
    "start_time": "2024-05-24T00:32:36.311Z"
   },
   {
    "duration": 724,
    "start_time": "2024-05-24T00:32:46.115Z"
   },
   {
    "duration": 736,
    "start_time": "2024-05-24T00:32:53.816Z"
   },
   {
    "duration": 447,
    "start_time": "2024-05-24T00:34:06.534Z"
   },
   {
    "duration": 821,
    "start_time": "2024-05-24T00:34:42.096Z"
   },
   {
    "duration": 1834,
    "start_time": "2024-05-24T00:35:31.941Z"
   },
   {
    "duration": 815,
    "start_time": "2024-05-24T00:38:37.427Z"
   },
   {
    "duration": 1428,
    "start_time": "2024-05-24T00:38:43.737Z"
   },
   {
    "duration": 822,
    "start_time": "2024-05-24T00:41:04.924Z"
   },
   {
    "duration": 7,
    "start_time": "2024-05-24T00:42:42.487Z"
   },
   {
    "duration": 13,
    "start_time": "2024-05-24T00:43:01.788Z"
   },
   {
    "duration": 7,
    "start_time": "2024-05-24T00:43:53.396Z"
   },
   {
    "duration": 24,
    "start_time": "2024-05-24T00:44:00.174Z"
   },
   {
    "duration": 7,
    "start_time": "2024-05-24T00:44:06.823Z"
   },
   {
    "duration": 428,
    "start_time": "2024-05-24T00:45:25.258Z"
   },
   {
    "duration": 145,
    "start_time": "2024-05-24T00:45:44.559Z"
   },
   {
    "duration": 146,
    "start_time": "2024-05-24T00:45:50.917Z"
   },
   {
    "duration": 695,
    "start_time": "2024-05-24T00:45:56.390Z"
   },
   {
    "duration": 640,
    "start_time": "2024-05-24T00:46:07.178Z"
   },
   {
    "duration": 761,
    "start_time": "2024-05-24T00:46:16.267Z"
   },
   {
    "duration": 656,
    "start_time": "2024-05-24T00:46:34.519Z"
   },
   {
    "duration": 815,
    "start_time": "2024-05-24T00:46:43.159Z"
   },
   {
    "duration": 687,
    "start_time": "2024-05-24T00:46:53.701Z"
   },
   {
    "duration": 679,
    "start_time": "2024-05-24T00:47:28.472Z"
   },
   {
    "duration": 522,
    "start_time": "2024-05-24T00:47:40.322Z"
   },
   {
    "duration": 840,
    "start_time": "2024-05-24T00:47:46.407Z"
   },
   {
    "duration": 521,
    "start_time": "2024-05-24T00:47:52.293Z"
   },
   {
    "duration": 11,
    "start_time": "2024-05-24T00:52:21.362Z"
   },
   {
    "duration": 12,
    "start_time": "2024-05-24T00:52:28.969Z"
   },
   {
    "duration": 7,
    "start_time": "2024-05-24T00:56:06.170Z"
   },
   {
    "duration": 8,
    "start_time": "2024-05-24T00:56:13.925Z"
   },
   {
    "duration": 463,
    "start_time": "2024-05-24T00:58:49.008Z"
   },
   {
    "duration": 443,
    "start_time": "2024-05-24T00:59:23.952Z"
   },
   {
    "duration": 473,
    "start_time": "2024-05-24T01:00:22.394Z"
   },
   {
    "duration": 564,
    "start_time": "2024-05-24T01:00:33.406Z"
   },
   {
    "duration": 546,
    "start_time": "2024-05-24T01:00:48.956Z"
   },
   {
    "duration": 518,
    "start_time": "2024-05-24T01:01:07.348Z"
   },
   {
    "duration": 526,
    "start_time": "2024-05-24T01:02:41.443Z"
   },
   {
    "duration": 560,
    "start_time": "2024-05-24T01:03:32.411Z"
   },
   {
    "duration": 539,
    "start_time": "2024-05-24T01:03:37.962Z"
   },
   {
    "duration": 461,
    "start_time": "2024-05-24T01:04:22.010Z"
   },
   {
    "duration": 452,
    "start_time": "2024-05-24T01:04:28.494Z"
   },
   {
    "duration": 460,
    "start_time": "2024-05-24T01:04:46.856Z"
   },
   {
    "duration": 436,
    "start_time": "2024-05-24T01:04:52.861Z"
   },
   {
    "duration": 452,
    "start_time": "2024-05-24T01:05:02.179Z"
   },
   {
    "duration": 599,
    "start_time": "2024-05-24T01:05:14.576Z"
   },
   {
    "duration": 22,
    "start_time": "2024-05-24T01:06:31.830Z"
   },
   {
    "duration": 1093,
    "start_time": "2024-05-24T01:07:21.841Z"
   },
   {
    "duration": 1158,
    "start_time": "2024-05-24T01:07:35.387Z"
   },
   {
    "duration": 28,
    "start_time": "2024-05-24T01:13:46.190Z"
   },
   {
    "duration": 233,
    "start_time": "2024-05-24T01:13:52.337Z"
   },
   {
    "duration": 21,
    "start_time": "2024-05-24T01:14:09.549Z"
   },
   {
    "duration": 7,
    "start_time": "2024-05-24T01:15:13.053Z"
   },
   {
    "duration": 29,
    "start_time": "2024-05-24T01:15:18.317Z"
   },
   {
    "duration": 7,
    "start_time": "2024-05-24T01:15:41.926Z"
   },
   {
    "duration": 30,
    "start_time": "2024-05-24T01:15:44.263Z"
   },
   {
    "duration": 8,
    "start_time": "2024-05-24T01:15:53.857Z"
   },
   {
    "duration": 30,
    "start_time": "2024-05-24T01:16:01.689Z"
   },
   {
    "duration": 11,
    "start_time": "2024-05-24T01:16:11.432Z"
   },
   {
    "duration": 29,
    "start_time": "2024-05-24T01:16:15.084Z"
   },
   {
    "duration": 35,
    "start_time": "2024-05-24T01:16:29.399Z"
   },
   {
    "duration": 30,
    "start_time": "2024-05-24T01:16:46.634Z"
   },
   {
    "duration": 32,
    "start_time": "2024-05-24T01:20:14.659Z"
   },
   {
    "duration": 40,
    "start_time": "2024-05-24T01:20:31.516Z"
   },
   {
    "duration": 8,
    "start_time": "2024-05-24T01:23:00.417Z"
   },
   {
    "duration": 29,
    "start_time": "2024-05-24T01:23:10.145Z"
   },
   {
    "duration": 7,
    "start_time": "2024-05-24T01:37:00.023Z"
   },
   {
    "duration": 8,
    "start_time": "2024-05-24T01:37:15.991Z"
   },
   {
    "duration": 928,
    "start_time": "2024-05-24T01:40:51.506Z"
   },
   {
    "duration": 863,
    "start_time": "2024-05-24T01:41:02.182Z"
   },
   {
    "duration": 800,
    "start_time": "2024-05-24T01:42:44.970Z"
   },
   {
    "duration": 376,
    "start_time": "2024-05-24T01:44:35.595Z"
   },
   {
    "duration": 398,
    "start_time": "2024-05-24T01:51:18.894Z"
   },
   {
    "duration": 377,
    "start_time": "2024-05-24T02:05:04.196Z"
   },
   {
    "duration": 400,
    "start_time": "2024-05-24T02:26:49.967Z"
   },
   {
    "duration": 1241,
    "start_time": "2024-05-24T02:27:57.666Z"
   },
   {
    "duration": 40,
    "start_time": "2024-05-24T02:27:58.910Z"
   },
   {
    "duration": 22,
    "start_time": "2024-05-24T02:27:58.952Z"
   },
   {
    "duration": 21,
    "start_time": "2024-05-24T02:27:58.977Z"
   },
   {
    "duration": 45,
    "start_time": "2024-05-24T02:27:59.003Z"
   },
   {
    "duration": 5,
    "start_time": "2024-05-24T02:27:59.050Z"
   },
   {
    "duration": 18,
    "start_time": "2024-05-24T02:27:59.058Z"
   },
   {
    "duration": 11,
    "start_time": "2024-05-24T02:27:59.079Z"
   },
   {
    "duration": 7,
    "start_time": "2024-05-24T02:27:59.134Z"
   },
   {
    "duration": 303,
    "start_time": "2024-05-24T02:27:59.144Z"
   },
   {
    "duration": 4,
    "start_time": "2024-05-24T02:27:59.450Z"
   },
   {
    "duration": 6,
    "start_time": "2024-05-24T02:27:59.458Z"
   },
   {
    "duration": 6,
    "start_time": "2024-05-24T02:27:59.467Z"
   },
   {
    "duration": 5,
    "start_time": "2024-05-24T02:27:59.480Z"
   },
   {
    "duration": 4,
    "start_time": "2024-05-24T02:27:59.533Z"
   },
   {
    "duration": 9,
    "start_time": "2024-05-24T02:27:59.540Z"
   },
   {
    "duration": 6,
    "start_time": "2024-05-24T02:27:59.551Z"
   },
   {
    "duration": 5,
    "start_time": "2024-05-24T02:27:59.560Z"
   },
   {
    "duration": 9,
    "start_time": "2024-05-24T02:27:59.568Z"
   },
   {
    "duration": 608,
    "start_time": "2024-05-24T02:27:59.580Z"
   },
   {
    "duration": 542,
    "start_time": "2024-05-24T02:28:00.191Z"
   },
   {
    "duration": 7,
    "start_time": "2024-05-24T02:28:00.736Z"
   },
   {
    "duration": 944,
    "start_time": "2024-05-24T02:28:00.746Z"
   },
   {
    "duration": 430,
    "start_time": "2024-05-24T02:28:01.693Z"
   },
   {
    "duration": 1124,
    "start_time": "2024-05-24T02:28:02.134Z"
   },
   {
    "duration": 8,
    "start_time": "2024-05-24T02:28:03.261Z"
   },
   {
    "duration": 12,
    "start_time": "2024-05-24T02:28:03.272Z"
   },
   {
    "duration": 788,
    "start_time": "2024-05-24T02:28:03.288Z"
   },
   {
    "duration": 759,
    "start_time": "2024-05-24T02:28:04.079Z"
   },
   {
    "duration": 758,
    "start_time": "2024-05-24T02:28:04.841Z"
   },
   {
    "duration": 532,
    "start_time": "2024-05-24T02:28:05.603Z"
   },
   {
    "duration": 8,
    "start_time": "2024-05-24T02:28:06.139Z"
   },
   {
    "duration": 13,
    "start_time": "2024-05-24T02:28:06.149Z"
   },
   {
    "duration": 432,
    "start_time": "2024-05-24T02:30:57.962Z"
   },
   {
    "duration": 431,
    "start_time": "2024-05-24T02:31:32.456Z"
   },
   {
    "duration": 452,
    "start_time": "2024-05-24T02:32:51.406Z"
   },
   {
    "duration": 8,
    "start_time": "2024-05-24T02:33:43.815Z"
   },
   {
    "duration": 644,
    "start_time": "2024-05-24T02:33:50.173Z"
   },
   {
    "duration": 430,
    "start_time": "2024-05-24T02:34:40.966Z"
   },
   {
    "duration": 421,
    "start_time": "2024-05-24T02:35:32.568Z"
   },
   {
    "duration": 416,
    "start_time": "2024-05-24T02:41:30.380Z"
   },
   {
    "duration": 439,
    "start_time": "2024-05-24T02:42:00.830Z"
   },
   {
    "duration": 442,
    "start_time": "2024-05-24T02:42:55.925Z"
   },
   {
    "duration": 453,
    "start_time": "2024-05-24T02:43:00.326Z"
   },
   {
    "duration": 283,
    "start_time": "2024-05-24T02:43:47.340Z"
   },
   {
    "duration": 257,
    "start_time": "2024-05-24T02:44:08.415Z"
   },
   {
    "duration": 347,
    "start_time": "2024-05-24T02:45:00.274Z"
   },
   {
    "duration": 257,
    "start_time": "2024-05-24T02:45:19.482Z"
   },
   {
    "duration": 286,
    "start_time": "2024-05-24T02:48:08.323Z"
   },
   {
    "duration": 256,
    "start_time": "2024-05-24T02:48:35.194Z"
   },
   {
    "duration": 275,
    "start_time": "2024-05-24T02:51:34.244Z"
   },
   {
    "duration": 1216,
    "start_time": "2024-05-24T02:52:27.794Z"
   },
   {
    "duration": 43,
    "start_time": "2024-05-24T02:52:29.014Z"
   },
   {
    "duration": 22,
    "start_time": "2024-05-24T02:52:29.060Z"
   },
   {
    "duration": 19,
    "start_time": "2024-05-24T02:52:29.087Z"
   },
   {
    "duration": 20,
    "start_time": "2024-05-24T02:52:29.133Z"
   },
   {
    "duration": 4,
    "start_time": "2024-05-24T02:52:29.156Z"
   },
   {
    "duration": 18,
    "start_time": "2024-05-24T02:52:29.163Z"
   },
   {
    "duration": 51,
    "start_time": "2024-05-24T02:52:29.184Z"
   },
   {
    "duration": 7,
    "start_time": "2024-05-24T02:52:29.237Z"
   },
   {
    "duration": 305,
    "start_time": "2024-05-24T02:52:29.251Z"
   },
   {
    "duration": 5,
    "start_time": "2024-05-24T02:52:29.559Z"
   },
   {
    "duration": 6,
    "start_time": "2024-05-24T02:52:29.567Z"
   },
   {
    "duration": 6,
    "start_time": "2024-05-24T02:52:29.576Z"
   },
   {
    "duration": 4,
    "start_time": "2024-05-24T02:52:29.585Z"
   },
   {
    "duration": 44,
    "start_time": "2024-05-24T02:52:29.592Z"
   },
   {
    "duration": 9,
    "start_time": "2024-05-24T02:52:29.639Z"
   },
   {
    "duration": 5,
    "start_time": "2024-05-24T02:52:29.650Z"
   },
   {
    "duration": 5,
    "start_time": "2024-05-24T02:52:29.658Z"
   },
   {
    "duration": 9,
    "start_time": "2024-05-24T02:52:29.666Z"
   },
   {
    "duration": 585,
    "start_time": "2024-05-24T02:52:29.678Z"
   },
   {
    "duration": 518,
    "start_time": "2024-05-24T02:52:30.268Z"
   },
   {
    "duration": 8,
    "start_time": "2024-05-24T02:52:30.789Z"
   },
   {
    "duration": 1014,
    "start_time": "2024-05-24T02:52:30.799Z"
   },
   {
    "duration": 316,
    "start_time": "2024-05-24T02:52:31.818Z"
   },
   {
    "duration": 1101,
    "start_time": "2024-05-24T02:52:32.137Z"
   },
   {
    "duration": 7,
    "start_time": "2024-05-24T02:52:33.241Z"
   },
   {
    "duration": 12,
    "start_time": "2024-05-24T02:52:33.251Z"
   },
   {
    "duration": 745,
    "start_time": "2024-05-24T02:52:33.271Z"
   },
   {
    "duration": 751,
    "start_time": "2024-05-24T02:52:34.019Z"
   },
   {
    "duration": 816,
    "start_time": "2024-05-24T02:52:34.773Z"
   },
   {
    "duration": 456,
    "start_time": "2024-05-24T02:52:35.593Z"
   },
   {
    "duration": 8,
    "start_time": "2024-05-24T02:52:36.052Z"
   },
   {
    "duration": 12,
    "start_time": "2024-05-24T02:52:36.063Z"
   },
   {
    "duration": 272,
    "start_time": "2024-05-24T02:53:50.508Z"
   },
   {
    "duration": 257,
    "start_time": "2024-05-24T02:59:15.788Z"
   },
   {
    "duration": 251,
    "start_time": "2024-05-24T03:01:14.786Z"
   },
   {
    "duration": 1241,
    "start_time": "2024-05-24T03:01:30.703Z"
   },
   {
    "duration": 37,
    "start_time": "2024-05-24T03:01:31.948Z"
   },
   {
    "duration": 24,
    "start_time": "2024-05-24T03:01:31.988Z"
   },
   {
    "duration": 20,
    "start_time": "2024-05-24T03:01:32.035Z"
   },
   {
    "duration": 18,
    "start_time": "2024-05-24T03:01:32.060Z"
   },
   {
    "duration": 7,
    "start_time": "2024-05-24T03:01:32.081Z"
   },
   {
    "duration": 56,
    "start_time": "2024-05-24T03:01:32.090Z"
   },
   {
    "duration": 11,
    "start_time": "2024-05-24T03:01:32.148Z"
   },
   {
    "duration": 8,
    "start_time": "2024-05-24T03:01:32.162Z"
   },
   {
    "duration": 326,
    "start_time": "2024-05-24T03:01:32.172Z"
   },
   {
    "duration": 5,
    "start_time": "2024-05-24T03:01:32.501Z"
   },
   {
    "duration": 6,
    "start_time": "2024-05-24T03:01:32.513Z"
   },
   {
    "duration": 6,
    "start_time": "2024-05-24T03:01:32.535Z"
   },
   {
    "duration": 5,
    "start_time": "2024-05-24T03:01:32.547Z"
   },
   {
    "duration": 5,
    "start_time": "2024-05-24T03:01:32.555Z"
   },
   {
    "duration": 9,
    "start_time": "2024-05-24T03:01:32.563Z"
   },
   {
    "duration": 4,
    "start_time": "2024-05-24T03:01:32.575Z"
   },
   {
    "duration": 53,
    "start_time": "2024-05-24T03:01:32.583Z"
   },
   {
    "duration": 7,
    "start_time": "2024-05-24T03:01:32.639Z"
   },
   {
    "duration": 568,
    "start_time": "2024-05-24T03:01:32.649Z"
   },
   {
    "duration": 527,
    "start_time": "2024-05-24T03:01:33.220Z"
   },
   {
    "duration": 7,
    "start_time": "2024-05-24T03:01:33.750Z"
   },
   {
    "duration": 303,
    "start_time": "2024-05-24T03:01:33.760Z"
   },
   {
    "duration": 1096,
    "start_time": "2024-05-24T03:01:34.066Z"
   },
   {
    "duration": 7,
    "start_time": "2024-05-24T03:01:35.166Z"
   },
   {
    "duration": 13,
    "start_time": "2024-05-24T03:01:35.175Z"
   },
   {
    "duration": 736,
    "start_time": "2024-05-24T03:01:35.191Z"
   },
   {
    "duration": 660,
    "start_time": "2024-05-24T03:01:35.933Z"
   },
   {
    "duration": 816,
    "start_time": "2024-05-24T03:01:36.597Z"
   },
   {
    "duration": 461,
    "start_time": "2024-05-24T03:01:37.416Z"
   },
   {
    "duration": 9,
    "start_time": "2024-05-24T03:01:37.880Z"
   },
   {
    "duration": 13,
    "start_time": "2024-05-24T03:01:37.892Z"
   },
   {
    "duration": 456,
    "start_time": "2024-05-24T03:05:05.022Z"
   },
   {
    "duration": 9,
    "start_time": "2024-05-24T03:11:04.404Z"
   },
   {
    "duration": 279,
    "start_time": "2024-05-24T03:11:07.658Z"
   },
   {
    "duration": 5222,
    "start_time": "2024-05-24T23:17:39.864Z"
   },
   {
    "duration": 58,
    "start_time": "2024-05-24T23:17:45.090Z"
   },
   {
    "duration": 26,
    "start_time": "2024-05-24T23:17:45.151Z"
   },
   {
    "duration": 22,
    "start_time": "2024-05-24T23:17:45.180Z"
   },
   {
    "duration": 22,
    "start_time": "2024-05-24T23:17:45.228Z"
   },
   {
    "duration": 7,
    "start_time": "2024-05-24T23:17:45.255Z"
   },
   {
    "duration": 61,
    "start_time": "2024-05-24T23:17:45.267Z"
   },
   {
    "duration": 13,
    "start_time": "2024-05-24T23:17:45.332Z"
   },
   {
    "duration": 10,
    "start_time": "2024-05-24T23:17:45.349Z"
   },
   {
    "duration": 327,
    "start_time": "2024-05-24T23:17:45.363Z"
   },
   {
    "duration": 7,
    "start_time": "2024-05-24T23:17:45.693Z"
   },
   {
    "duration": 24,
    "start_time": "2024-05-24T23:17:45.705Z"
   },
   {
    "duration": 6,
    "start_time": "2024-05-24T23:17:45.733Z"
   },
   {
    "duration": 5,
    "start_time": "2024-05-24T23:17:45.747Z"
   },
   {
    "duration": 6,
    "start_time": "2024-05-24T23:17:45.756Z"
   },
   {
    "duration": 10,
    "start_time": "2024-05-24T23:17:45.766Z"
   },
   {
    "duration": 52,
    "start_time": "2024-05-24T23:17:45.778Z"
   },
   {
    "duration": 6,
    "start_time": "2024-05-24T23:17:45.834Z"
   },
   {
    "duration": 9,
    "start_time": "2024-05-24T23:17:45.845Z"
   },
   {
    "duration": 623,
    "start_time": "2024-05-24T23:17:45.857Z"
   },
   {
    "duration": 505,
    "start_time": "2024-05-24T23:17:46.487Z"
   },
   {
    "duration": 8,
    "start_time": "2024-05-24T23:17:46.995Z"
   },
   {
    "duration": 323,
    "start_time": "2024-05-24T23:17:47.007Z"
   },
   {
    "duration": 805,
    "start_time": "2024-05-24T23:17:47.333Z"
   },
   {
    "duration": 736,
    "start_time": "2024-05-24T23:17:48.142Z"
   },
   {
    "duration": 484,
    "start_time": "2024-05-24T23:17:48.882Z"
   },
   {
    "duration": 9,
    "start_time": "2024-05-24T23:17:49.369Z"
   },
   {
    "duration": 14,
    "start_time": "2024-05-24T23:17:49.381Z"
   },
   {
    "duration": 455,
    "start_time": "2024-05-24T23:24:51.827Z"
   },
   {
    "duration": 404,
    "start_time": "2024-05-24T23:25:26.762Z"
   },
   {
    "duration": 421,
    "start_time": "2024-05-24T23:27:18.446Z"
   },
   {
    "duration": 489,
    "start_time": "2024-05-24T23:41:28.111Z"
   },
   {
    "duration": 211,
    "start_time": "2024-05-24T23:42:35.262Z"
   },
   {
    "duration": 455,
    "start_time": "2024-05-24T23:42:46.504Z"
   },
   {
    "duration": 268,
    "start_time": "2024-05-24T23:43:37.981Z"
   },
   {
    "duration": 440,
    "start_time": "2024-05-24T23:45:11.375Z"
   },
   {
    "duration": 106,
    "start_time": "2024-05-24T23:47:47.525Z"
   },
   {
    "duration": 422,
    "start_time": "2024-05-24T23:48:09.085Z"
   },
   {
    "duration": 432,
    "start_time": "2024-05-24T23:49:23.332Z"
   },
   {
    "duration": 469,
    "start_time": "2024-05-24T23:53:23.669Z"
   },
   {
    "duration": 391,
    "start_time": "2024-05-24T23:57:39.479Z"
   },
   {
    "duration": 392,
    "start_time": "2024-05-24T23:58:07.388Z"
   },
   {
    "duration": 102,
    "start_time": "2024-05-25T00:01:35.970Z"
   },
   {
    "duration": 392,
    "start_time": "2024-05-25T00:01:44.883Z"
   },
   {
    "duration": 413,
    "start_time": "2024-05-25T00:01:55.850Z"
   },
   {
    "duration": 422,
    "start_time": "2024-05-25T00:04:06.547Z"
   },
   {
    "duration": 418,
    "start_time": "2024-05-25T00:04:54.965Z"
   },
   {
    "duration": 398,
    "start_time": "2024-05-25T00:06:10.462Z"
   },
   {
    "duration": 394,
    "start_time": "2024-05-25T00:06:42.098Z"
   },
   {
    "duration": 401,
    "start_time": "2024-05-25T00:08:48.279Z"
   },
   {
    "duration": 433,
    "start_time": "2024-05-25T00:11:37.639Z"
   },
   {
    "duration": 423,
    "start_time": "2024-05-25T00:13:22.145Z"
   },
   {
    "duration": 441,
    "start_time": "2024-05-25T00:14:25.156Z"
   },
   {
    "duration": 401,
    "start_time": "2024-05-25T00:14:44.087Z"
   },
   {
    "duration": 538,
    "start_time": "2024-05-25T00:15:33.960Z"
   },
   {
    "duration": 402,
    "start_time": "2024-05-25T00:16:43.187Z"
   },
   {
    "duration": 394,
    "start_time": "2024-05-25T00:16:52.572Z"
   },
   {
    "duration": 378,
    "start_time": "2024-05-25T00:20:06.912Z"
   },
   {
    "duration": 317,
    "start_time": "2024-05-25T00:21:19.943Z"
   },
   {
    "duration": 429,
    "start_time": "2024-05-25T00:21:39.341Z"
   },
   {
    "duration": 285,
    "start_time": "2024-05-25T00:21:52.043Z"
   },
   {
    "duration": 21,
    "start_time": "2024-05-25T00:25:32.286Z"
   },
   {
    "duration": 1439,
    "start_time": "2024-05-25T00:26:12.018Z"
   },
   {
    "duration": 41,
    "start_time": "2024-05-25T00:26:13.461Z"
   },
   {
    "duration": 40,
    "start_time": "2024-05-25T00:26:13.507Z"
   },
   {
    "duration": 23,
    "start_time": "2024-05-25T00:26:13.552Z"
   },
   {
    "duration": 50,
    "start_time": "2024-05-25T00:26:13.582Z"
   },
   {
    "duration": 5,
    "start_time": "2024-05-25T00:26:13.635Z"
   },
   {
    "duration": 20,
    "start_time": "2024-05-25T00:26:13.643Z"
   },
   {
    "duration": 16,
    "start_time": "2024-05-25T00:26:13.666Z"
   },
   {
    "duration": 42,
    "start_time": "2024-05-25T00:26:13.685Z"
   },
   {
    "duration": 308,
    "start_time": "2024-05-25T00:26:13.734Z"
   },
   {
    "duration": 8,
    "start_time": "2024-05-25T00:26:14.046Z"
   },
   {
    "duration": 9,
    "start_time": "2024-05-25T00:26:14.057Z"
   },
   {
    "duration": 6,
    "start_time": "2024-05-25T00:26:14.069Z"
   },
   {
    "duration": 8,
    "start_time": "2024-05-25T00:26:14.079Z"
   },
   {
    "duration": 40,
    "start_time": "2024-05-25T00:26:14.090Z"
   },
   {
    "duration": 10,
    "start_time": "2024-05-25T00:26:14.133Z"
   },
   {
    "duration": 6,
    "start_time": "2024-05-25T00:26:14.147Z"
   },
   {
    "duration": 11,
    "start_time": "2024-05-25T00:26:14.156Z"
   },
   {
    "duration": 11,
    "start_time": "2024-05-25T00:26:14.170Z"
   },
   {
    "duration": 650,
    "start_time": "2024-05-25T00:26:14.184Z"
   },
   {
    "duration": 592,
    "start_time": "2024-05-25T00:26:14.838Z"
   },
   {
    "duration": 12,
    "start_time": "2024-05-25T00:26:15.442Z"
   },
   {
    "duration": 476,
    "start_time": "2024-05-25T00:26:15.458Z"
   },
   {
    "duration": 0,
    "start_time": "2024-05-25T00:26:15.938Z"
   },
   {
    "duration": 0,
    "start_time": "2024-05-25T00:26:15.941Z"
   },
   {
    "duration": 0,
    "start_time": "2024-05-25T00:26:15.943Z"
   },
   {
    "duration": 0,
    "start_time": "2024-05-25T00:26:15.946Z"
   },
   {
    "duration": 0,
    "start_time": "2024-05-25T00:26:15.949Z"
   },
   {
    "duration": 22,
    "start_time": "2024-05-25T00:26:45.268Z"
   },
   {
    "duration": 1363,
    "start_time": "2024-05-25T00:26:57.460Z"
   },
   {
    "duration": 45,
    "start_time": "2024-05-25T00:26:58.828Z"
   },
   {
    "duration": 24,
    "start_time": "2024-05-25T00:26:58.876Z"
   },
   {
    "duration": 19,
    "start_time": "2024-05-25T00:26:58.927Z"
   },
   {
    "duration": 21,
    "start_time": "2024-05-25T00:26:58.949Z"
   },
   {
    "duration": 4,
    "start_time": "2024-05-25T00:26:58.973Z"
   },
   {
    "duration": 58,
    "start_time": "2024-05-25T00:26:58.980Z"
   },
   {
    "duration": 11,
    "start_time": "2024-05-25T00:26:59.041Z"
   },
   {
    "duration": 7,
    "start_time": "2024-05-25T00:26:59.055Z"
   },
   {
    "duration": 333,
    "start_time": "2024-05-25T00:26:59.069Z"
   },
   {
    "duration": 7,
    "start_time": "2024-05-25T00:26:59.405Z"
   },
   {
    "duration": 7,
    "start_time": "2024-05-25T00:26:59.428Z"
   },
   {
    "duration": 6,
    "start_time": "2024-05-25T00:26:59.438Z"
   },
   {
    "duration": 6,
    "start_time": "2024-05-25T00:26:59.448Z"
   },
   {
    "duration": 5,
    "start_time": "2024-05-25T00:26:59.458Z"
   },
   {
    "duration": 8,
    "start_time": "2024-05-25T00:26:59.467Z"
   },
   {
    "duration": 5,
    "start_time": "2024-05-25T00:26:59.528Z"
   },
   {
    "duration": 6,
    "start_time": "2024-05-25T00:26:59.536Z"
   },
   {
    "duration": 8,
    "start_time": "2024-05-25T00:26:59.545Z"
   },
   {
    "duration": 633,
    "start_time": "2024-05-25T00:26:59.555Z"
   },
   {
    "duration": 551,
    "start_time": "2024-05-25T00:27:00.190Z"
   },
   {
    "duration": 8,
    "start_time": "2024-05-25T00:27:00.744Z"
   },
   {
    "duration": 20,
    "start_time": "2024-05-25T00:27:00.755Z"
   },
   {
    "duration": 741,
    "start_time": "2024-05-25T00:27:00.778Z"
   },
   {
    "duration": 729,
    "start_time": "2024-05-25T00:27:01.522Z"
   },
   {
    "duration": 457,
    "start_time": "2024-05-25T00:27:02.254Z"
   },
   {
    "duration": 12,
    "start_time": "2024-05-25T00:27:02.714Z"
   },
   {
    "duration": 13,
    "start_time": "2024-05-25T00:27:02.733Z"
   },
   {
    "duration": 275,
    "start_time": "2024-05-25T00:27:33.994Z"
   },
   {
    "duration": 1343,
    "start_time": "2024-05-25T00:27:43.954Z"
   },
   {
    "duration": 49,
    "start_time": "2024-05-25T00:27:45.301Z"
   },
   {
    "duration": 27,
    "start_time": "2024-05-25T00:27:45.353Z"
   },
   {
    "duration": 43,
    "start_time": "2024-05-25T00:27:45.385Z"
   },
   {
    "duration": 23,
    "start_time": "2024-05-25T00:27:45.431Z"
   },
   {
    "duration": 5,
    "start_time": "2024-05-25T00:27:45.457Z"
   },
   {
    "duration": 21,
    "start_time": "2024-05-25T00:27:45.466Z"
   },
   {
    "duration": 12,
    "start_time": "2024-05-25T00:27:45.527Z"
   },
   {
    "duration": 9,
    "start_time": "2024-05-25T00:27:45.542Z"
   },
   {
    "duration": 315,
    "start_time": "2024-05-25T00:27:45.558Z"
   },
   {
    "duration": 7,
    "start_time": "2024-05-25T00:27:45.875Z"
   },
   {
    "duration": 8,
    "start_time": "2024-05-25T00:27:45.886Z"
   },
   {
    "duration": 31,
    "start_time": "2024-05-25T00:27:45.897Z"
   },
   {
    "duration": 6,
    "start_time": "2024-05-25T00:27:45.932Z"
   },
   {
    "duration": 5,
    "start_time": "2024-05-25T00:27:45.942Z"
   },
   {
    "duration": 9,
    "start_time": "2024-05-25T00:27:45.951Z"
   },
   {
    "duration": 7,
    "start_time": "2024-05-25T00:27:45.964Z"
   },
   {
    "duration": 52,
    "start_time": "2024-05-25T00:27:45.975Z"
   },
   {
    "duration": 10,
    "start_time": "2024-05-25T00:27:46.032Z"
   },
   {
    "duration": 575,
    "start_time": "2024-05-25T00:27:46.047Z"
   },
   {
    "duration": 557,
    "start_time": "2024-05-25T00:27:46.628Z"
   },
   {
    "duration": 10,
    "start_time": "2024-05-25T00:27:47.188Z"
   },
   {
    "duration": 358,
    "start_time": "2024-05-25T00:27:47.202Z"
   },
   {
    "duration": 662,
    "start_time": "2024-05-25T00:27:47.565Z"
   },
   {
    "duration": 775,
    "start_time": "2024-05-25T00:27:48.230Z"
   },
   {
    "duration": 510,
    "start_time": "2024-05-25T00:27:49.008Z"
   },
   {
    "duration": 12,
    "start_time": "2024-05-25T00:27:49.525Z"
   },
   {
    "duration": 14,
    "start_time": "2024-05-25T00:27:49.547Z"
   },
   {
    "duration": 296,
    "start_time": "2024-05-25T00:28:07.588Z"
   },
   {
    "duration": 1392,
    "start_time": "2024-05-25T00:30:08.664Z"
   },
   {
    "duration": 41,
    "start_time": "2024-05-25T00:30:10.060Z"
   },
   {
    "duration": 37,
    "start_time": "2024-05-25T00:30:10.106Z"
   },
   {
    "duration": 24,
    "start_time": "2024-05-25T00:30:10.149Z"
   },
   {
    "duration": 54,
    "start_time": "2024-05-25T00:30:10.178Z"
   },
   {
    "duration": 5,
    "start_time": "2024-05-25T00:30:10.235Z"
   },
   {
    "duration": 21,
    "start_time": "2024-05-25T00:30:10.244Z"
   },
   {
    "duration": 13,
    "start_time": "2024-05-25T00:30:10.268Z"
   },
   {
    "duration": 45,
    "start_time": "2024-05-25T00:30:10.283Z"
   },
   {
    "duration": 320,
    "start_time": "2024-05-25T00:30:10.335Z"
   },
   {
    "duration": 6,
    "start_time": "2024-05-25T00:30:10.658Z"
   },
   {
    "duration": 8,
    "start_time": "2024-05-25T00:30:10.667Z"
   },
   {
    "duration": 7,
    "start_time": "2024-05-25T00:30:10.678Z"
   },
   {
    "duration": 40,
    "start_time": "2024-05-25T00:30:10.688Z"
   },
   {
    "duration": 6,
    "start_time": "2024-05-25T00:30:10.734Z"
   },
   {
    "duration": 11,
    "start_time": "2024-05-25T00:30:10.745Z"
   },
   {
    "duration": 6,
    "start_time": "2024-05-25T00:30:10.760Z"
   },
   {
    "duration": 5,
    "start_time": "2024-05-25T00:30:10.770Z"
   },
   {
    "duration": 49,
    "start_time": "2024-05-25T00:30:10.779Z"
   },
   {
    "duration": 616,
    "start_time": "2024-05-25T00:30:10.831Z"
   },
   {
    "duration": 558,
    "start_time": "2024-05-25T00:30:11.451Z"
   },
   {
    "duration": 16,
    "start_time": "2024-05-25T00:30:12.013Z"
   },
   {
    "duration": 345,
    "start_time": "2024-05-25T00:30:12.032Z"
   },
   {
    "duration": 647,
    "start_time": "2024-05-25T00:30:12.381Z"
   },
   {
    "duration": 740,
    "start_time": "2024-05-25T00:30:13.032Z"
   },
   {
    "duration": 451,
    "start_time": "2024-05-25T00:30:13.778Z"
   },
   {
    "duration": 9,
    "start_time": "2024-05-25T00:30:14.233Z"
   },
   {
    "duration": 15,
    "start_time": "2024-05-25T00:30:14.248Z"
   },
   {
    "duration": 1325,
    "start_time": "2024-05-25T00:43:55.145Z"
   },
   {
    "duration": 42,
    "start_time": "2024-05-25T00:43:56.473Z"
   },
   {
    "duration": 25,
    "start_time": "2024-05-25T00:43:56.526Z"
   },
   {
    "duration": 21,
    "start_time": "2024-05-25T00:43:56.556Z"
   },
   {
    "duration": 55,
    "start_time": "2024-05-25T00:43:56.580Z"
   },
   {
    "duration": 5,
    "start_time": "2024-05-25T00:43:56.638Z"
   },
   {
    "duration": 19,
    "start_time": "2024-05-25T00:43:56.646Z"
   },
   {
    "duration": 10,
    "start_time": "2024-05-25T00:43:56.669Z"
   },
   {
    "duration": 45,
    "start_time": "2024-05-25T00:43:56.683Z"
   },
   {
    "duration": 302,
    "start_time": "2024-05-25T00:43:56.733Z"
   },
   {
    "duration": 5,
    "start_time": "2024-05-25T00:43:57.038Z"
   },
   {
    "duration": 8,
    "start_time": "2024-05-25T00:43:57.046Z"
   },
   {
    "duration": 5,
    "start_time": "2024-05-25T00:43:57.057Z"
   },
   {
    "duration": 5,
    "start_time": "2024-05-25T00:43:57.066Z"
   },
   {
    "duration": 5,
    "start_time": "2024-05-25T00:43:57.074Z"
   },
   {
    "duration": 10,
    "start_time": "2024-05-25T00:43:57.127Z"
   },
   {
    "duration": 5,
    "start_time": "2024-05-25T00:43:57.140Z"
   },
   {
    "duration": 5,
    "start_time": "2024-05-25T00:43:57.149Z"
   },
   {
    "duration": 8,
    "start_time": "2024-05-25T00:43:57.157Z"
   },
   {
    "duration": 674,
    "start_time": "2024-05-25T00:43:57.168Z"
   },
   {
    "duration": 559,
    "start_time": "2024-05-25T00:43:57.845Z"
   },
   {
    "duration": 27,
    "start_time": "2024-05-25T00:43:58.407Z"
   },
   {
    "duration": 326,
    "start_time": "2024-05-25T00:43:58.438Z"
   },
   {
    "duration": 659,
    "start_time": "2024-05-25T00:43:58.767Z"
   },
   {
    "duration": 743,
    "start_time": "2024-05-25T00:43:59.429Z"
   },
   {
    "duration": 468,
    "start_time": "2024-05-25T00:44:00.175Z"
   },
   {
    "duration": 9,
    "start_time": "2024-05-25T00:44:00.646Z"
   },
   {
    "duration": 18,
    "start_time": "2024-05-25T00:44:00.663Z"
   },
   {
    "duration": 301,
    "start_time": "2024-05-25T00:48:44.280Z"
   },
   {
    "duration": 1881,
    "start_time": "2024-05-25T01:17:12.649Z"
   },
   {
    "duration": 579,
    "start_time": "2024-05-25T01:17:35.994Z"
   },
   {
    "duration": 532,
    "start_time": "2024-05-25T01:19:00.177Z"
   },
   {
    "duration": 1358,
    "start_time": "2024-05-25T01:19:43.608Z"
   },
   {
    "duration": 41,
    "start_time": "2024-05-25T01:19:44.970Z"
   },
   {
    "duration": 32,
    "start_time": "2024-05-25T01:19:45.016Z"
   },
   {
    "duration": 22,
    "start_time": "2024-05-25T01:19:45.052Z"
   },
   {
    "duration": 52,
    "start_time": "2024-05-25T01:19:45.078Z"
   },
   {
    "duration": 4,
    "start_time": "2024-05-25T01:19:45.133Z"
   },
   {
    "duration": 20,
    "start_time": "2024-05-25T01:19:45.142Z"
   },
   {
    "duration": 12,
    "start_time": "2024-05-25T01:19:45.165Z"
   },
   {
    "duration": 49,
    "start_time": "2024-05-25T01:19:45.180Z"
   },
   {
    "duration": 314,
    "start_time": "2024-05-25T01:19:45.235Z"
   },
   {
    "duration": 6,
    "start_time": "2024-05-25T01:19:45.552Z"
   },
   {
    "duration": 8,
    "start_time": "2024-05-25T01:19:45.562Z"
   },
   {
    "duration": 6,
    "start_time": "2024-05-25T01:19:45.574Z"
   },
   {
    "duration": 46,
    "start_time": "2024-05-25T01:19:45.583Z"
   },
   {
    "duration": 5,
    "start_time": "2024-05-25T01:19:45.633Z"
   },
   {
    "duration": 10,
    "start_time": "2024-05-25T01:19:45.642Z"
   },
   {
    "duration": 6,
    "start_time": "2024-05-25T01:19:45.656Z"
   },
   {
    "duration": 4,
    "start_time": "2024-05-25T01:19:45.666Z"
   },
   {
    "duration": 57,
    "start_time": "2024-05-25T01:19:45.674Z"
   },
   {
    "duration": 624,
    "start_time": "2024-05-25T01:19:45.734Z"
   },
   {
    "duration": 554,
    "start_time": "2024-05-25T01:19:46.362Z"
   },
   {
    "duration": 16,
    "start_time": "2024-05-25T01:19:46.927Z"
   },
   {
    "duration": 343,
    "start_time": "2024-05-25T01:19:46.948Z"
   },
   {
    "duration": 886,
    "start_time": "2024-05-25T01:19:47.295Z"
   },
   {
    "duration": 502,
    "start_time": "2024-05-25T01:19:48.184Z"
   },
   {
    "duration": 8,
    "start_time": "2024-05-25T01:19:48.689Z"
   },
   {
    "duration": 31,
    "start_time": "2024-05-25T01:19:48.700Z"
   },
   {
    "duration": 336,
    "start_time": "2024-05-25T01:39:30.124Z"
   },
   {
    "duration": 1371,
    "start_time": "2024-05-25T01:39:45.730Z"
   },
   {
    "duration": 49,
    "start_time": "2024-05-25T01:39:47.105Z"
   },
   {
    "duration": 25,
    "start_time": "2024-05-25T01:39:47.157Z"
   },
   {
    "duration": 45,
    "start_time": "2024-05-25T01:39:47.186Z"
   },
   {
    "duration": 19,
    "start_time": "2024-05-25T01:39:47.234Z"
   },
   {
    "duration": 6,
    "start_time": "2024-05-25T01:39:47.256Z"
   },
   {
    "duration": 20,
    "start_time": "2024-05-25T01:39:47.265Z"
   },
   {
    "duration": 11,
    "start_time": "2024-05-25T01:39:47.327Z"
   },
   {
    "duration": 8,
    "start_time": "2024-05-25T01:39:47.341Z"
   },
   {
    "duration": 357,
    "start_time": "2024-05-25T01:39:47.355Z"
   },
   {
    "duration": 14,
    "start_time": "2024-05-25T01:39:47.715Z"
   },
   {
    "duration": 7,
    "start_time": "2024-05-25T01:39:47.734Z"
   },
   {
    "duration": 6,
    "start_time": "2024-05-25T01:39:47.744Z"
   },
   {
    "duration": 5,
    "start_time": "2024-05-25T01:39:47.754Z"
   },
   {
    "duration": 5,
    "start_time": "2024-05-25T01:39:47.762Z"
   },
   {
    "duration": 61,
    "start_time": "2024-05-25T01:39:47.771Z"
   },
   {
    "duration": 5,
    "start_time": "2024-05-25T01:39:47.835Z"
   },
   {
    "duration": 5,
    "start_time": "2024-05-25T01:39:47.844Z"
   },
   {
    "duration": 10,
    "start_time": "2024-05-25T01:39:47.854Z"
   },
   {
    "duration": 615,
    "start_time": "2024-05-25T01:39:47.867Z"
   },
   {
    "duration": 572,
    "start_time": "2024-05-25T01:39:48.485Z"
   },
   {
    "duration": 15,
    "start_time": "2024-05-25T01:39:49.060Z"
   },
   {
    "duration": 319,
    "start_time": "2024-05-25T01:39:49.078Z"
   },
   {
    "duration": 794,
    "start_time": "2024-05-25T01:39:49.400Z"
   },
   {
    "duration": 498,
    "start_time": "2024-05-25T01:39:50.198Z"
   },
   {
    "duration": 27,
    "start_time": "2024-05-25T01:39:50.699Z"
   },
   {
    "duration": 14,
    "start_time": "2024-05-25T01:39:50.729Z"
   },
   {
    "duration": 26,
    "start_time": "2024-05-25T02:12:20.030Z"
   },
   {
    "duration": 37,
    "start_time": "2024-05-25T02:12:32.764Z"
   },
   {
    "duration": 16,
    "start_time": "2024-05-25T02:14:08.443Z"
   },
   {
    "duration": 40,
    "start_time": "2024-05-25T02:14:11.041Z"
   },
   {
    "duration": 506,
    "start_time": "2024-05-25T02:31:50.007Z"
   },
   {
    "duration": 5014,
    "start_time": "2024-05-25T15:06:28.345Z"
   },
   {
    "duration": 53,
    "start_time": "2024-05-25T15:06:33.364Z"
   },
   {
    "duration": 28,
    "start_time": "2024-05-25T15:06:33.420Z"
   },
   {
    "duration": 19,
    "start_time": "2024-05-25T15:06:33.453Z"
   },
   {
    "duration": 18,
    "start_time": "2024-05-25T15:06:33.474Z"
   },
   {
    "duration": 39,
    "start_time": "2024-05-25T15:06:33.495Z"
   },
   {
    "duration": 18,
    "start_time": "2024-05-25T15:06:33.538Z"
   },
   {
    "duration": 10,
    "start_time": "2024-05-25T15:06:33.559Z"
   },
   {
    "duration": 8,
    "start_time": "2024-05-25T15:06:33.572Z"
   },
   {
    "duration": 341,
    "start_time": "2024-05-25T15:06:33.586Z"
   },
   {
    "duration": 5,
    "start_time": "2024-05-25T15:06:33.930Z"
   },
   {
    "duration": 6,
    "start_time": "2024-05-25T15:06:33.939Z"
   },
   {
    "duration": 6,
    "start_time": "2024-05-25T15:06:33.948Z"
   },
   {
    "duration": 6,
    "start_time": "2024-05-25T15:06:33.958Z"
   },
   {
    "duration": 4,
    "start_time": "2024-05-25T15:06:33.968Z"
   },
   {
    "duration": 58,
    "start_time": "2024-05-25T15:06:33.976Z"
   },
   {
    "duration": 8,
    "start_time": "2024-05-25T15:06:34.037Z"
   },
   {
    "duration": 5,
    "start_time": "2024-05-25T15:06:34.048Z"
   },
   {
    "duration": 564,
    "start_time": "2024-05-25T15:06:34.056Z"
   },
   {
    "duration": 471,
    "start_time": "2024-05-25T15:06:34.623Z"
   },
   {
    "duration": 14,
    "start_time": "2024-05-25T15:06:35.097Z"
   },
   {
    "duration": 357,
    "start_time": "2024-05-25T15:06:35.134Z"
   },
   {
    "duration": 38,
    "start_time": "2024-05-25T15:06:35.494Z"
   },
   {
    "duration": 30,
    "start_time": "2024-05-25T15:06:35.535Z"
   },
   {
    "duration": 770,
    "start_time": "2024-05-25T15:06:35.568Z"
   },
   {
    "duration": 468,
    "start_time": "2024-05-25T15:06:36.342Z"
   },
   {
    "duration": 7,
    "start_time": "2024-05-25T15:06:36.813Z"
   },
   {
    "duration": 16,
    "start_time": "2024-05-25T15:06:36.838Z"
   },
   {
    "duration": 264,
    "start_time": "2024-05-25T15:06:59.227Z"
   },
   {
    "duration": 1278,
    "start_time": "2024-05-25T15:08:09.411Z"
   },
   {
    "duration": 46,
    "start_time": "2024-05-25T15:08:10.692Z"
   },
   {
    "duration": 22,
    "start_time": "2024-05-25T15:08:10.741Z"
   },
   {
    "duration": 18,
    "start_time": "2024-05-25T15:08:10.768Z"
   },
   {
    "duration": 46,
    "start_time": "2024-05-25T15:08:10.790Z"
   },
   {
    "duration": 5,
    "start_time": "2024-05-25T15:08:10.839Z"
   },
   {
    "duration": 18,
    "start_time": "2024-05-25T15:08:10.848Z"
   },
   {
    "duration": 10,
    "start_time": "2024-05-25T15:08:10.869Z"
   },
   {
    "duration": 51,
    "start_time": "2024-05-25T15:08:10.882Z"
   },
   {
    "duration": 292,
    "start_time": "2024-05-25T15:08:10.940Z"
   },
   {
    "duration": 6,
    "start_time": "2024-05-25T15:08:11.235Z"
   },
   {
    "duration": 7,
    "start_time": "2024-05-25T15:08:11.244Z"
   },
   {
    "duration": 6,
    "start_time": "2024-05-25T15:08:11.255Z"
   },
   {
    "duration": 6,
    "start_time": "2024-05-25T15:08:11.264Z"
   },
   {
    "duration": 5,
    "start_time": "2024-05-25T15:08:11.273Z"
   },
   {
    "duration": 57,
    "start_time": "2024-05-25T15:08:11.281Z"
   },
   {
    "duration": 6,
    "start_time": "2024-05-25T15:08:11.341Z"
   },
   {
    "duration": 13,
    "start_time": "2024-05-25T15:08:11.352Z"
   },
   {
    "duration": 576,
    "start_time": "2024-05-25T15:08:11.370Z"
   },
   {
    "duration": 550,
    "start_time": "2024-05-25T15:08:11.949Z"
   },
   {
    "duration": 32,
    "start_time": "2024-05-25T15:08:12.502Z"
   },
   {
    "duration": 282,
    "start_time": "2024-05-25T15:08:12.537Z"
   },
   {
    "duration": 14,
    "start_time": "2024-05-25T15:08:12.833Z"
   },
   {
    "duration": 30,
    "start_time": "2024-05-25T15:08:12.850Z"
   },
   {
    "duration": 758,
    "start_time": "2024-05-25T15:08:12.883Z"
   },
   {
    "duration": 469,
    "start_time": "2024-05-25T15:08:13.644Z"
   },
   {
    "duration": 11,
    "start_time": "2024-05-25T15:08:14.121Z"
   },
   {
    "duration": 14,
    "start_time": "2024-05-25T15:08:14.139Z"
   },
   {
    "duration": 400,
    "start_time": "2024-05-25T15:19:34.943Z"
   },
   {
    "duration": 695,
    "start_time": "2024-05-25T15:21:07.041Z"
   },
   {
    "duration": 691,
    "start_time": "2024-05-25T15:21:25.141Z"
   },
   {
    "duration": 724,
    "start_time": "2024-05-25T15:22:32.012Z"
   },
   {
    "duration": 780,
    "start_time": "2024-05-25T15:22:39.559Z"
   },
   {
    "duration": 709,
    "start_time": "2024-05-25T15:22:47.521Z"
   },
   {
    "duration": 699,
    "start_time": "2024-05-25T15:22:53.551Z"
   },
   {
    "duration": 1250,
    "start_time": "2024-05-25T15:33:57.274Z"
   },
   {
    "duration": 40,
    "start_time": "2024-05-25T15:33:58.532Z"
   },
   {
    "duration": 23,
    "start_time": "2024-05-25T15:33:58.575Z"
   },
   {
    "duration": 43,
    "start_time": "2024-05-25T15:33:58.603Z"
   },
   {
    "duration": 19,
    "start_time": "2024-05-25T15:33:58.649Z"
   },
   {
    "duration": 4,
    "start_time": "2024-05-25T15:33:58.672Z"
   },
   {
    "duration": 18,
    "start_time": "2024-05-25T15:33:58.679Z"
   },
   {
    "duration": 11,
    "start_time": "2024-05-25T15:33:58.732Z"
   },
   {
    "duration": 8,
    "start_time": "2024-05-25T15:33:58.745Z"
   },
   {
    "duration": 315,
    "start_time": "2024-05-25T15:33:58.758Z"
   },
   {
    "duration": 6,
    "start_time": "2024-05-25T15:33:59.076Z"
   },
   {
    "duration": 7,
    "start_time": "2024-05-25T15:33:59.085Z"
   },
   {
    "duration": 38,
    "start_time": "2024-05-25T15:33:59.095Z"
   },
   {
    "duration": 4,
    "start_time": "2024-05-25T15:33:59.136Z"
   },
   {
    "duration": 5,
    "start_time": "2024-05-25T15:33:59.144Z"
   },
   {
    "duration": 9,
    "start_time": "2024-05-25T15:33:59.153Z"
   },
   {
    "duration": 6,
    "start_time": "2024-05-25T15:33:59.165Z"
   },
   {
    "duration": 5,
    "start_time": "2024-05-25T15:33:59.175Z"
   },
   {
    "duration": 602,
    "start_time": "2024-05-25T15:33:59.183Z"
   },
   {
    "duration": 776,
    "start_time": "2024-05-25T15:33:59.788Z"
   },
   {
    "duration": 475,
    "start_time": "2024-05-25T15:34:00.566Z"
   },
   {
    "duration": 15,
    "start_time": "2024-05-25T15:34:01.044Z"
   },
   {
    "duration": 308,
    "start_time": "2024-05-25T15:34:01.062Z"
   },
   {
    "duration": 19,
    "start_time": "2024-05-25T15:34:01.373Z"
   },
   {
    "duration": 55,
    "start_time": "2024-05-25T15:34:01.395Z"
   },
   {
    "duration": 631,
    "start_time": "2024-05-25T15:34:01.453Z"
   },
   {
    "duration": 763,
    "start_time": "2024-05-25T15:34:02.087Z"
   },
   {
    "duration": 8,
    "start_time": "2024-05-25T15:34:02.856Z"
   },
   {
    "duration": 12,
    "start_time": "2024-05-25T15:34:02.867Z"
   },
   {
    "duration": 514,
    "start_time": "2024-05-25T15:34:15.445Z"
   },
   {
    "duration": 333,
    "start_time": "2024-05-25T15:34:48.732Z"
   },
   {
    "duration": 329,
    "start_time": "2024-05-25T15:35:14.064Z"
   },
   {
    "duration": 4923,
    "start_time": "2024-05-25T20:03:52.814Z"
   },
   {
    "duration": 59,
    "start_time": "2024-05-25T20:03:57.741Z"
   },
   {
    "duration": 27,
    "start_time": "2024-05-25T20:03:57.804Z"
   },
   {
    "duration": 20,
    "start_time": "2024-05-25T20:03:57.836Z"
   },
   {
    "duration": 19,
    "start_time": "2024-05-25T20:03:57.859Z"
   },
   {
    "duration": 33,
    "start_time": "2024-05-25T20:03:57.882Z"
   },
   {
    "duration": 19,
    "start_time": "2024-05-25T20:03:57.918Z"
   },
   {
    "duration": 10,
    "start_time": "2024-05-25T20:03:57.940Z"
   },
   {
    "duration": 8,
    "start_time": "2024-05-25T20:03:57.953Z"
   },
   {
    "duration": 338,
    "start_time": "2024-05-25T20:03:57.968Z"
   },
   {
    "duration": 6,
    "start_time": "2024-05-25T20:03:58.308Z"
   },
   {
    "duration": 7,
    "start_time": "2024-05-25T20:03:58.317Z"
   },
   {
    "duration": 5,
    "start_time": "2024-05-25T20:03:58.327Z"
   },
   {
    "duration": 5,
    "start_time": "2024-05-25T20:03:58.335Z"
   },
   {
    "duration": 5,
    "start_time": "2024-05-25T20:03:58.343Z"
   },
   {
    "duration": 62,
    "start_time": "2024-05-25T20:03:58.351Z"
   },
   {
    "duration": 5,
    "start_time": "2024-05-25T20:03:58.416Z"
   },
   {
    "duration": 5,
    "start_time": "2024-05-25T20:03:58.424Z"
   },
   {
    "duration": 574,
    "start_time": "2024-05-25T20:03:58.431Z"
   },
   {
    "duration": 727,
    "start_time": "2024-05-25T20:03:59.013Z"
   },
   {
    "duration": 471,
    "start_time": "2024-05-25T20:03:59.743Z"
   },
   {
    "duration": 15,
    "start_time": "2024-05-25T20:04:00.217Z"
   },
   {
    "duration": 359,
    "start_time": "2024-05-25T20:04:00.235Z"
   },
   {
    "duration": 30,
    "start_time": "2024-05-25T20:04:00.597Z"
   },
   {
    "duration": 30,
    "start_time": "2024-05-25T20:04:00.630Z"
   },
   {
    "duration": 607,
    "start_time": "2024-05-25T20:04:00.664Z"
   },
   {
    "duration": 735,
    "start_time": "2024-05-25T20:04:01.274Z"
   },
   {
    "duration": 316,
    "start_time": "2024-05-25T20:04:02.018Z"
   },
   {
    "duration": 18,
    "start_time": "2024-05-25T20:04:13.842Z"
   },
   {
    "duration": 698,
    "start_time": "2024-05-25T20:04:30.871Z"
   },
   {
    "duration": 7,
    "start_time": "2024-05-25T20:05:07.190Z"
   },
   {
    "duration": 15,
    "start_time": "2024-05-25T20:06:57.500Z"
   },
   {
    "duration": 7,
    "start_time": "2024-05-25T20:11:14.661Z"
   },
   {
    "duration": 7,
    "start_time": "2024-05-25T20:12:42.145Z"
   },
   {
    "duration": 7,
    "start_time": "2024-05-25T20:13:02.202Z"
   },
   {
    "duration": 6,
    "start_time": "2024-05-25T20:13:09.648Z"
   },
   {
    "duration": 7,
    "start_time": "2024-05-25T20:13:16.747Z"
   },
   {
    "duration": 7,
    "start_time": "2024-05-25T20:13:25.454Z"
   },
   {
    "duration": 11,
    "start_time": "2024-05-25T20:13:30.753Z"
   },
   {
    "duration": 7,
    "start_time": "2024-05-25T20:13:33.964Z"
   },
   {
    "duration": 7,
    "start_time": "2024-05-25T20:13:45.684Z"
   },
   {
    "duration": 8,
    "start_time": "2024-05-25T20:13:57.223Z"
   },
   {
    "duration": 7,
    "start_time": "2024-05-25T20:14:03.685Z"
   },
   {
    "duration": 7,
    "start_time": "2024-05-25T20:14:08.863Z"
   },
   {
    "duration": 6,
    "start_time": "2024-05-25T20:14:15.363Z"
   },
   {
    "duration": 7,
    "start_time": "2024-05-25T20:14:24.823Z"
   },
   {
    "duration": 1243,
    "start_time": "2024-05-25T20:15:18.836Z"
   },
   {
    "duration": 46,
    "start_time": "2024-05-25T20:15:20.083Z"
   },
   {
    "duration": 22,
    "start_time": "2024-05-25T20:15:20.132Z"
   },
   {
    "duration": 19,
    "start_time": "2024-05-25T20:15:20.158Z"
   },
   {
    "duration": 48,
    "start_time": "2024-05-25T20:15:20.180Z"
   },
   {
    "duration": 5,
    "start_time": "2024-05-25T20:15:20.232Z"
   },
   {
    "duration": 20,
    "start_time": "2024-05-25T20:15:20.240Z"
   },
   {
    "duration": 11,
    "start_time": "2024-05-25T20:15:20.262Z"
   },
   {
    "duration": 43,
    "start_time": "2024-05-25T20:15:20.275Z"
   },
   {
    "duration": 316,
    "start_time": "2024-05-25T20:15:20.326Z"
   },
   {
    "duration": 5,
    "start_time": "2024-05-25T20:15:20.645Z"
   },
   {
    "duration": 6,
    "start_time": "2024-05-25T20:15:20.653Z"
   },
   {
    "duration": 5,
    "start_time": "2024-05-25T20:15:20.662Z"
   },
   {
    "duration": 6,
    "start_time": "2024-05-25T20:15:20.670Z"
   },
   {
    "duration": 5,
    "start_time": "2024-05-25T20:15:20.713Z"
   },
   {
    "duration": 9,
    "start_time": "2024-05-25T20:15:20.721Z"
   },
   {
    "duration": 7,
    "start_time": "2024-05-25T20:15:20.732Z"
   },
   {
    "duration": 4,
    "start_time": "2024-05-25T20:15:20.742Z"
   },
   {
    "duration": 581,
    "start_time": "2024-05-25T20:15:20.749Z"
   },
   {
    "duration": 788,
    "start_time": "2024-05-25T20:15:21.333Z"
   },
   {
    "duration": 495,
    "start_time": "2024-05-25T20:15:22.125Z"
   },
   {
    "duration": 13,
    "start_time": "2024-05-25T20:15:22.623Z"
   },
   {
    "duration": 295,
    "start_time": "2024-05-25T20:15:22.639Z"
   },
   {
    "duration": 14,
    "start_time": "2024-05-25T20:15:22.939Z"
   },
   {
    "duration": 64,
    "start_time": "2024-05-25T20:15:22.956Z"
   },
   {
    "duration": 643,
    "start_time": "2024-05-25T20:15:23.025Z"
   },
   {
    "duration": 723,
    "start_time": "2024-05-25T20:15:23.678Z"
   },
   {
    "duration": 337,
    "start_time": "2024-05-25T20:15:24.414Z"
   },
   {
    "duration": 19,
    "start_time": "2024-05-25T20:15:24.754Z"
   },
   {
    "duration": 673,
    "start_time": "2024-05-25T20:15:24.776Z"
   },
   {
    "duration": 492,
    "start_time": "2024-05-25T20:15:25.452Z"
   },
   {
    "duration": 0,
    "start_time": "2024-05-25T20:15:25.946Z"
   },
   {
    "duration": 8,
    "start_time": "2024-05-25T20:15:40.810Z"
   },
   {
    "duration": 25,
    "start_time": "2024-05-25T20:16:01.366Z"
   },
   {
    "duration": 7,
    "start_time": "2024-05-25T20:16:07.030Z"
   },
   {
    "duration": 14,
    "start_time": "2024-05-25T20:18:12.256Z"
   },
   {
    "duration": 500,
    "start_time": "2024-05-25T20:19:36.886Z"
   },
   {
    "duration": 492,
    "start_time": "2024-05-25T20:19:47.457Z"
   },
   {
    "duration": 497,
    "start_time": "2024-05-25T20:19:53.493Z"
   },
   {
    "duration": 732,
    "start_time": "2024-05-25T20:20:08.333Z"
   },
   {
    "duration": 1104,
    "start_time": "2024-05-25T20:20:44.949Z"
   },
   {
    "duration": 1164,
    "start_time": "2024-05-25T20:22:10.367Z"
   },
   {
    "duration": 1260,
    "start_time": "2024-05-25T20:22:30.702Z"
   },
   {
    "duration": 1169,
    "start_time": "2024-05-25T20:22:53.269Z"
   },
   {
    "duration": 1146,
    "start_time": "2024-05-25T20:22:59.497Z"
   },
   {
    "duration": 21,
    "start_time": "2024-05-25T20:31:27.292Z"
   },
   {
    "duration": 21,
    "start_time": "2024-05-25T20:34:24.497Z"
   },
   {
    "duration": 24,
    "start_time": "2024-05-25T20:35:19.944Z"
   },
   {
    "duration": 439,
    "start_time": "2024-05-25T20:39:41.791Z"
   },
   {
    "duration": 1072,
    "start_time": "2024-05-25T20:42:52.317Z"
   },
   {
    "duration": 921,
    "start_time": "2024-05-25T20:44:55.477Z"
   },
   {
    "duration": 1109,
    "start_time": "2024-05-25T20:45:03.441Z"
   },
   {
    "duration": 1208,
    "start_time": "2024-05-25T20:45:12.342Z"
   },
   {
    "duration": 1351,
    "start_time": "2024-05-25T20:45:44.178Z"
   },
   {
    "duration": 1341,
    "start_time": "2024-05-25T20:45:52.411Z"
   },
   {
    "duration": 1428,
    "start_time": "2024-05-25T20:46:04.467Z"
   },
   {
    "duration": 1298,
    "start_time": "2024-05-25T20:47:37.285Z"
   },
   {
    "duration": 8,
    "start_time": "2024-05-25T20:52:07.487Z"
   },
   {
    "duration": 29,
    "start_time": "2024-05-25T20:52:09.844Z"
   },
   {
    "duration": 363,
    "start_time": "2024-05-25T20:52:16.373Z"
   },
   {
    "duration": 310,
    "start_time": "2024-05-25T20:52:28.480Z"
   },
   {
    "duration": 308,
    "start_time": "2024-05-25T20:52:32.939Z"
   },
   {
    "duration": 26,
    "start_time": "2024-05-25T20:53:58.381Z"
   },
   {
    "duration": 8,
    "start_time": "2024-05-25T20:54:19.049Z"
   },
   {
    "duration": 1183,
    "start_time": "2024-05-25T20:55:44.196Z"
   },
   {
    "duration": 1124,
    "start_time": "2024-05-25T20:56:27.224Z"
   },
   {
    "duration": 1153,
    "start_time": "2024-05-25T20:56:38.522Z"
   },
   {
    "duration": 618,
    "start_time": "2024-05-25T20:57:04.673Z"
   },
   {
    "duration": 555,
    "start_time": "2024-05-25T20:57:17.786Z"
   },
   {
    "duration": 1269,
    "start_time": "2024-05-25T20:58:56.687Z"
   },
   {
    "duration": 40,
    "start_time": "2024-05-25T20:58:57.960Z"
   },
   {
    "duration": 32,
    "start_time": "2024-05-25T20:58:58.002Z"
   },
   {
    "duration": 19,
    "start_time": "2024-05-25T20:58:58.038Z"
   },
   {
    "duration": 53,
    "start_time": "2024-05-25T20:58:58.060Z"
   },
   {
    "duration": 4,
    "start_time": "2024-05-25T20:58:58.116Z"
   },
   {
    "duration": 19,
    "start_time": "2024-05-25T20:58:58.123Z"
   },
   {
    "duration": 10,
    "start_time": "2024-05-25T20:58:58.145Z"
   },
   {
    "duration": 8,
    "start_time": "2024-05-25T20:58:58.158Z"
   },
   {
    "duration": 336,
    "start_time": "2024-05-25T20:58:58.171Z"
   },
   {
    "duration": 6,
    "start_time": "2024-05-25T20:58:58.512Z"
   },
   {
    "duration": 6,
    "start_time": "2024-05-25T20:58:58.521Z"
   },
   {
    "duration": 5,
    "start_time": "2024-05-25T20:58:58.530Z"
   },
   {
    "duration": 5,
    "start_time": "2024-05-25T20:58:58.539Z"
   },
   {
    "duration": 5,
    "start_time": "2024-05-25T20:58:58.549Z"
   },
   {
    "duration": 55,
    "start_time": "2024-05-25T20:58:58.557Z"
   },
   {
    "duration": 5,
    "start_time": "2024-05-25T20:58:58.615Z"
   },
   {
    "duration": 5,
    "start_time": "2024-05-25T20:58:58.624Z"
   },
   {
    "duration": 637,
    "start_time": "2024-05-25T20:58:58.632Z"
   },
   {
    "duration": 21,
    "start_time": "2024-05-25T20:58:59.272Z"
   },
   {
    "duration": 518,
    "start_time": "2024-05-25T20:58:59.296Z"
   },
   {
    "duration": 13,
    "start_time": "2024-05-25T20:58:59.818Z"
   },
   {
    "duration": 305,
    "start_time": "2024-05-25T20:58:59.834Z"
   },
   {
    "duration": 12,
    "start_time": "2024-05-25T20:59:00.142Z"
   },
   {
    "duration": 31,
    "start_time": "2024-05-25T20:59:00.156Z"
   },
   {
    "duration": 288,
    "start_time": "2024-05-25T20:59:00.212Z"
   },
   {
    "duration": 15,
    "start_time": "2024-05-25T20:59:00.511Z"
   },
   {
    "duration": 8,
    "start_time": "2024-05-25T21:07:08.046Z"
   },
   {
    "duration": 33,
    "start_time": "2024-05-25T21:07:10.618Z"
   },
   {
    "duration": 9,
    "start_time": "2024-05-25T21:07:17.106Z"
   },
   {
    "duration": 29,
    "start_time": "2024-05-25T21:07:19.705Z"
   },
   {
    "duration": 8,
    "start_time": "2024-05-25T21:07:27.964Z"
   },
   {
    "duration": 32,
    "start_time": "2024-05-25T21:07:29.986Z"
   },
   {
    "duration": 7,
    "start_time": "2024-05-25T21:07:36.872Z"
   },
   {
    "duration": 32,
    "start_time": "2024-05-25T21:07:39.733Z"
   },
   {
    "duration": 32,
    "start_time": "2024-05-25T21:07:58.069Z"
   },
   {
    "duration": 5,
    "start_time": "2024-05-25T21:08:05.436Z"
   },
   {
    "duration": 32,
    "start_time": "2024-05-25T21:08:12.439Z"
   },
   {
    "duration": 33,
    "start_time": "2024-05-25T21:08:26.905Z"
   },
   {
    "duration": 1215,
    "start_time": "2024-05-25T21:08:33.974Z"
   },
   {
    "duration": 43,
    "start_time": "2024-05-25T21:08:35.193Z"
   },
   {
    "duration": 23,
    "start_time": "2024-05-25T21:08:35.238Z"
   },
   {
    "duration": 47,
    "start_time": "2024-05-25T21:08:35.265Z"
   },
   {
    "duration": 19,
    "start_time": "2024-05-25T21:08:35.315Z"
   },
   {
    "duration": 5,
    "start_time": "2024-05-25T21:08:35.337Z"
   },
   {
    "duration": 21,
    "start_time": "2024-05-25T21:08:35.345Z"
   },
   {
    "duration": 48,
    "start_time": "2024-05-25T21:08:35.369Z"
   },
   {
    "duration": 8,
    "start_time": "2024-05-25T21:08:35.420Z"
   },
   {
    "duration": 310,
    "start_time": "2024-05-25T21:08:35.434Z"
   },
   {
    "duration": 5,
    "start_time": "2024-05-25T21:08:35.747Z"
   },
   {
    "duration": 6,
    "start_time": "2024-05-25T21:08:35.756Z"
   },
   {
    "duration": 6,
    "start_time": "2024-05-25T21:08:35.765Z"
   },
   {
    "duration": 5,
    "start_time": "2024-05-25T21:08:35.774Z"
   },
   {
    "duration": 4,
    "start_time": "2024-05-25T21:08:35.814Z"
   },
   {
    "duration": 9,
    "start_time": "2024-05-25T21:08:35.821Z"
   },
   {
    "duration": 6,
    "start_time": "2024-05-25T21:08:35.833Z"
   },
   {
    "duration": 4,
    "start_time": "2024-05-25T21:08:35.842Z"
   },
   {
    "duration": 633,
    "start_time": "2024-05-25T21:08:35.850Z"
   },
   {
    "duration": 21,
    "start_time": "2024-05-25T21:08:36.486Z"
   },
   {
    "duration": 520,
    "start_time": "2024-05-25T21:08:36.511Z"
   },
   {
    "duration": 15,
    "start_time": "2024-05-25T21:08:37.033Z"
   },
   {
    "duration": 296,
    "start_time": "2024-05-25T21:08:37.051Z"
   },
   {
    "duration": 10,
    "start_time": "2024-05-25T21:08:37.350Z"
   },
   {
    "duration": 54,
    "start_time": "2024-05-25T21:08:37.364Z"
   },
   {
    "duration": 344,
    "start_time": "2024-05-25T21:08:37.421Z"
   },
   {
    "duration": 7,
    "start_time": "2024-05-25T21:32:59.428Z"
   },
   {
    "duration": 3,
    "start_time": "2024-05-25T21:33:01.591Z"
   },
   {
    "duration": 3,
    "start_time": "2024-05-25T21:33:10.010Z"
   },
   {
    "duration": 7,
    "start_time": "2024-05-25T21:33:11.916Z"
   },
   {
    "duration": 6,
    "start_time": "2024-05-25T21:33:21.775Z"
   },
   {
    "duration": 31,
    "start_time": "2024-05-25T21:33:24.100Z"
   },
   {
    "duration": 6,
    "start_time": "2024-05-25T21:33:27.227Z"
   },
   {
    "duration": 28,
    "start_time": "2024-05-25T21:33:38.521Z"
   },
   {
    "duration": 1305,
    "start_time": "2024-05-25T21:34:02.095Z"
   },
   {
    "duration": 40,
    "start_time": "2024-05-25T21:34:03.403Z"
   },
   {
    "duration": 29,
    "start_time": "2024-05-25T21:34:03.446Z"
   },
   {
    "duration": 39,
    "start_time": "2024-05-25T21:34:03.479Z"
   },
   {
    "duration": 20,
    "start_time": "2024-05-25T21:34:03.521Z"
   },
   {
    "duration": 7,
    "start_time": "2024-05-25T21:34:03.544Z"
   },
   {
    "duration": 60,
    "start_time": "2024-05-25T21:34:03.553Z"
   },
   {
    "duration": 10,
    "start_time": "2024-05-25T21:34:03.618Z"
   },
   {
    "duration": 6,
    "start_time": "2024-05-25T21:34:03.632Z"
   },
   {
    "duration": 319,
    "start_time": "2024-05-25T21:34:03.645Z"
   },
   {
    "duration": 6,
    "start_time": "2024-05-25T21:34:03.968Z"
   },
   {
    "duration": 7,
    "start_time": "2024-05-25T21:34:03.980Z"
   },
   {
    "duration": 7,
    "start_time": "2024-05-25T21:34:04.013Z"
   },
   {
    "duration": 6,
    "start_time": "2024-05-25T21:34:04.024Z"
   },
   {
    "duration": 5,
    "start_time": "2024-05-25T21:34:04.034Z"
   },
   {
    "duration": 10,
    "start_time": "2024-05-25T21:34:04.043Z"
   },
   {
    "duration": 5,
    "start_time": "2024-05-25T21:34:04.057Z"
   },
   {
    "duration": 49,
    "start_time": "2024-05-25T21:34:04.065Z"
   },
   {
    "duration": 575,
    "start_time": "2024-05-25T21:34:04.118Z"
   },
   {
    "duration": 21,
    "start_time": "2024-05-25T21:34:04.695Z"
   },
   {
    "duration": 544,
    "start_time": "2024-05-25T21:34:04.719Z"
   },
   {
    "duration": 15,
    "start_time": "2024-05-25T21:34:05.265Z"
   },
   {
    "duration": 301,
    "start_time": "2024-05-25T21:34:05.283Z"
   },
   {
    "duration": 25,
    "start_time": "2024-05-25T21:34:05.587Z"
   },
   {
    "duration": 4,
    "start_time": "2024-05-25T21:34:05.614Z"
   },
   {
    "duration": 410,
    "start_time": "2024-05-25T21:34:05.621Z"
   },
   {
    "duration": 8,
    "start_time": "2024-05-25T21:34:47.362Z"
   },
   {
    "duration": 32,
    "start_time": "2024-05-25T21:34:49.332Z"
   },
   {
    "duration": 1209,
    "start_time": "2024-05-25T21:34:56.179Z"
   },
   {
    "duration": 47,
    "start_time": "2024-05-25T21:34:57.391Z"
   },
   {
    "duration": 23,
    "start_time": "2024-05-25T21:34:57.441Z"
   },
   {
    "duration": 18,
    "start_time": "2024-05-25T21:34:57.468Z"
   },
   {
    "duration": 39,
    "start_time": "2024-05-25T21:34:57.489Z"
   },
   {
    "duration": 5,
    "start_time": "2024-05-25T21:34:57.530Z"
   },
   {
    "duration": 19,
    "start_time": "2024-05-25T21:34:57.538Z"
   },
   {
    "duration": 54,
    "start_time": "2024-05-25T21:34:57.559Z"
   },
   {
    "duration": 8,
    "start_time": "2024-05-25T21:34:57.615Z"
   },
   {
    "duration": 302,
    "start_time": "2024-05-25T21:34:57.629Z"
   },
   {
    "duration": 6,
    "start_time": "2024-05-25T21:34:57.933Z"
   },
   {
    "duration": 6,
    "start_time": "2024-05-25T21:34:57.942Z"
   },
   {
    "duration": 6,
    "start_time": "2024-05-25T21:34:57.951Z"
   },
   {
    "duration": 6,
    "start_time": "2024-05-25T21:34:57.960Z"
   },
   {
    "duration": 44,
    "start_time": "2024-05-25T21:34:57.969Z"
   },
   {
    "duration": 9,
    "start_time": "2024-05-25T21:34:58.016Z"
   },
   {
    "duration": 5,
    "start_time": "2024-05-25T21:34:58.028Z"
   },
   {
    "duration": 6,
    "start_time": "2024-05-25T21:34:58.037Z"
   },
   {
    "duration": 619,
    "start_time": "2024-05-25T21:34:58.046Z"
   },
   {
    "duration": 21,
    "start_time": "2024-05-25T21:34:58.668Z"
   },
   {
    "duration": 537,
    "start_time": "2024-05-25T21:34:58.691Z"
   },
   {
    "duration": 14,
    "start_time": "2024-05-25T21:34:59.232Z"
   },
   {
    "duration": 301,
    "start_time": "2024-05-25T21:34:59.249Z"
   },
   {
    "duration": 7,
    "start_time": "2024-05-25T21:34:59.553Z"
   },
   {
    "duration": 57,
    "start_time": "2024-05-25T21:34:59.564Z"
   },
   {
    "duration": 313,
    "start_time": "2024-05-25T21:34:59.625Z"
   },
   {
    "duration": 1034,
    "start_time": "2024-05-25T21:37:36.210Z"
   },
   {
    "duration": 501,
    "start_time": "2024-05-25T21:38:01.228Z"
   },
   {
    "duration": 422,
    "start_time": "2024-05-25T21:39:09.864Z"
   },
   {
    "duration": 446,
    "start_time": "2024-05-25T21:39:52.962Z"
   },
   {
    "duration": 408,
    "start_time": "2024-05-25T21:42:09.392Z"
   },
   {
    "duration": 9,
    "start_time": "2024-05-25T21:42:45.776Z"
   },
   {
    "duration": 10,
    "start_time": "2024-05-25T21:43:42.411Z"
   },
   {
    "duration": 30,
    "start_time": "2024-05-25T22:16:45.185Z"
   },
   {
    "duration": 5,
    "start_time": "2024-05-25T22:16:54.942Z"
   },
   {
    "duration": 505,
    "start_time": "2024-05-25T22:17:03.373Z"
   },
   {
    "duration": 37,
    "start_time": "2024-05-25T22:19:48.555Z"
   },
   {
    "duration": 53,
    "start_time": "2024-05-25T22:27:31.015Z"
   },
   {
    "duration": 5,
    "start_time": "2024-05-25T22:27:48.957Z"
   },
   {
    "duration": 31,
    "start_time": "2024-05-25T22:27:52.735Z"
   },
   {
    "duration": 5,
    "start_time": "2024-05-25T22:33:27.767Z"
   },
   {
    "duration": 32,
    "start_time": "2024-05-25T22:33:43.589Z"
   },
   {
    "duration": 45,
    "start_time": "2024-05-25T22:33:56.735Z"
   },
   {
    "duration": 429,
    "start_time": "2024-05-25T22:34:31.626Z"
   },
   {
    "duration": 315,
    "start_time": "2024-05-25T22:56:08.035Z"
   },
   {
    "duration": 663,
    "start_time": "2024-05-26T00:01:30.343Z"
   },
   {
    "duration": 628,
    "start_time": "2024-05-26T00:02:15.004Z"
   },
   {
    "duration": 604,
    "start_time": "2024-05-26T00:04:08.021Z"
   },
   {
    "duration": 5393,
    "start_time": "2024-05-26T15:47:56.703Z"
   },
   {
    "duration": 71,
    "start_time": "2024-05-26T15:48:02.100Z"
   },
   {
    "duration": 22,
    "start_time": "2024-05-26T15:48:02.175Z"
   },
   {
    "duration": 36,
    "start_time": "2024-05-26T15:48:02.202Z"
   },
   {
    "duration": 33,
    "start_time": "2024-05-26T15:48:02.242Z"
   },
   {
    "duration": 5,
    "start_time": "2024-05-26T15:48:02.278Z"
   },
   {
    "duration": 61,
    "start_time": "2024-05-26T15:48:02.287Z"
   },
   {
    "duration": 16,
    "start_time": "2024-05-26T15:48:02.351Z"
   },
   {
    "duration": 7,
    "start_time": "2024-05-26T15:48:02.370Z"
   },
   {
    "duration": 333,
    "start_time": "2024-05-26T15:48:02.384Z"
   },
   {
    "duration": 26,
    "start_time": "2024-05-26T15:48:02.720Z"
   },
   {
    "duration": 10,
    "start_time": "2024-05-26T15:48:02.756Z"
   },
   {
    "duration": 7,
    "start_time": "2024-05-26T15:48:02.769Z"
   },
   {
    "duration": 6,
    "start_time": "2024-05-26T15:48:02.779Z"
   },
   {
    "duration": 5,
    "start_time": "2024-05-26T15:48:02.787Z"
   },
   {
    "duration": 9,
    "start_time": "2024-05-26T15:48:02.796Z"
   },
   {
    "duration": 47,
    "start_time": "2024-05-26T15:48:02.807Z"
   },
   {
    "duration": 5,
    "start_time": "2024-05-26T15:48:02.857Z"
   },
   {
    "duration": 657,
    "start_time": "2024-05-26T15:48:02.866Z"
   },
   {
    "duration": 24,
    "start_time": "2024-05-26T15:48:03.526Z"
   },
   {
    "duration": 547,
    "start_time": "2024-05-26T15:48:03.553Z"
   },
   {
    "duration": 16,
    "start_time": "2024-05-26T15:48:04.103Z"
   },
   {
    "duration": 288,
    "start_time": "2024-05-26T15:48:04.134Z"
   },
   {
    "duration": 31,
    "start_time": "2024-05-26T15:48:04.424Z"
   },
   {
    "duration": 10,
    "start_time": "2024-05-26T15:48:04.458Z"
   },
   {
    "duration": 10,
    "start_time": "2024-05-26T15:48:04.472Z"
   },
   {
    "duration": 9,
    "start_time": "2024-05-26T15:48:04.484Z"
   },
   {
    "duration": 499,
    "start_time": "2024-05-26T15:48:04.501Z"
   },
   {
    "duration": 689,
    "start_time": "2024-05-26T15:48:05.003Z"
   },
   {
    "duration": 723,
    "start_time": "2024-05-26T15:48:05.695Z"
   },
   {
    "duration": 343,
    "start_time": "2024-05-26T15:48:06.421Z"
   },
   {
    "duration": 35,
    "start_time": "2024-05-26T15:48:38.230Z"
   },
   {
    "duration": 21,
    "start_time": "2024-05-26T15:49:54.574Z"
   },
   {
    "duration": 5070,
    "start_time": "2024-05-26T19:57:20.175Z"
   },
   {
    "duration": 66,
    "start_time": "2024-05-26T19:57:25.249Z"
   },
   {
    "duration": 29,
    "start_time": "2024-05-26T19:57:25.322Z"
   },
   {
    "duration": 20,
    "start_time": "2024-05-26T19:57:25.354Z"
   },
   {
    "duration": 45,
    "start_time": "2024-05-26T19:57:25.378Z"
   },
   {
    "duration": 5,
    "start_time": "2024-05-26T19:57:25.425Z"
   },
   {
    "duration": 29,
    "start_time": "2024-05-26T19:57:25.433Z"
   },
   {
    "duration": 12,
    "start_time": "2024-05-26T19:57:25.466Z"
   },
   {
    "duration": 43,
    "start_time": "2024-05-26T19:57:25.481Z"
   },
   {
    "duration": 389,
    "start_time": "2024-05-26T19:57:25.527Z"
   },
   {
    "duration": 6,
    "start_time": "2024-05-26T19:57:25.919Z"
   },
   {
    "duration": 7,
    "start_time": "2024-05-26T19:57:25.928Z"
   },
   {
    "duration": 6,
    "start_time": "2024-05-26T19:57:25.938Z"
   },
   {
    "duration": 5,
    "start_time": "2024-05-26T19:57:25.950Z"
   },
   {
    "duration": 14,
    "start_time": "2024-05-26T19:57:25.958Z"
   },
   {
    "duration": 65,
    "start_time": "2024-05-26T19:57:25.974Z"
   },
   {
    "duration": 9,
    "start_time": "2024-05-26T19:57:26.042Z"
   },
   {
    "duration": 6,
    "start_time": "2024-05-26T19:57:26.055Z"
   },
   {
    "duration": 625,
    "start_time": "2024-05-26T19:57:26.064Z"
   },
   {
    "duration": 26,
    "start_time": "2024-05-26T19:57:26.692Z"
   },
   {
    "duration": 503,
    "start_time": "2024-05-26T19:57:26.723Z"
   },
   {
    "duration": 16,
    "start_time": "2024-05-26T19:57:27.229Z"
   },
   {
    "duration": 352,
    "start_time": "2024-05-26T19:57:27.249Z"
   },
   {
    "duration": 21,
    "start_time": "2024-05-26T19:57:27.604Z"
   },
   {
    "duration": 7,
    "start_time": "2024-05-26T19:57:27.628Z"
   },
   {
    "duration": 9,
    "start_time": "2024-05-26T19:57:27.639Z"
   },
   {
    "duration": 10,
    "start_time": "2024-05-26T19:57:27.651Z"
   },
   {
    "duration": 511,
    "start_time": "2024-05-26T19:57:27.665Z"
   },
   {
    "duration": 737,
    "start_time": "2024-05-26T19:57:28.180Z"
   },
   {
    "duration": 665,
    "start_time": "2024-05-26T19:57:28.919Z"
   },
   {
    "duration": 346,
    "start_time": "2024-05-26T19:57:29.588Z"
   },
   {
    "duration": 37,
    "start_time": "2024-05-26T19:57:29.940Z"
   },
   {
    "duration": 1300,
    "start_time": "2024-05-26T19:59:59.700Z"
   },
   {
    "duration": 44,
    "start_time": "2024-05-26T20:00:01.004Z"
   },
   {
    "duration": 23,
    "start_time": "2024-05-26T20:00:01.051Z"
   },
   {
    "duration": 44,
    "start_time": "2024-05-26T20:00:01.080Z"
   },
   {
    "duration": 24,
    "start_time": "2024-05-26T20:00:01.127Z"
   },
   {
    "duration": 6,
    "start_time": "2024-05-26T20:00:01.154Z"
   },
   {
    "duration": 19,
    "start_time": "2024-05-26T20:00:01.164Z"
   },
   {
    "duration": 12,
    "start_time": "2024-05-26T20:00:01.222Z"
   },
   {
    "duration": 11,
    "start_time": "2024-05-26T20:00:01.237Z"
   },
   {
    "duration": 313,
    "start_time": "2024-05-26T20:00:01.255Z"
   },
   {
    "duration": 6,
    "start_time": "2024-05-26T20:00:01.571Z"
   },
   {
    "duration": 6,
    "start_time": "2024-05-26T20:00:01.580Z"
   },
   {
    "duration": 34,
    "start_time": "2024-05-26T20:00:01.589Z"
   },
   {
    "duration": 5,
    "start_time": "2024-05-26T20:00:01.626Z"
   },
   {
    "duration": 6,
    "start_time": "2024-05-26T20:00:01.635Z"
   },
   {
    "duration": 8,
    "start_time": "2024-05-26T20:00:01.644Z"
   },
   {
    "duration": 5,
    "start_time": "2024-05-26T20:00:01.656Z"
   },
   {
    "duration": 4,
    "start_time": "2024-05-26T20:00:01.664Z"
   },
   {
    "duration": 619,
    "start_time": "2024-05-26T20:00:01.672Z"
   },
   {
    "duration": 22,
    "start_time": "2024-05-26T20:00:02.295Z"
   },
   {
    "duration": 513,
    "start_time": "2024-05-26T20:00:02.320Z"
   },
   {
    "duration": 13,
    "start_time": "2024-05-26T20:00:02.836Z"
   },
   {
    "duration": 288,
    "start_time": "2024-05-26T20:00:02.851Z"
   },
   {
    "duration": 8,
    "start_time": "2024-05-26T20:00:03.142Z"
   },
   {
    "duration": 9,
    "start_time": "2024-05-26T20:00:03.153Z"
   },
   {
    "duration": 9,
    "start_time": "2024-05-26T20:00:03.164Z"
   },
   {
    "duration": 494,
    "start_time": "2024-05-26T20:00:03.177Z"
   },
   {
    "duration": 666,
    "start_time": "2024-05-26T20:00:03.678Z"
   },
   {
    "duration": 645,
    "start_time": "2024-05-26T20:00:04.351Z"
   },
   {
    "duration": 295,
    "start_time": "2024-05-26T20:00:04.999Z"
   },
   {
    "duration": 34,
    "start_time": "2024-05-26T20:00:05.297Z"
   },
   {
    "duration": 413,
    "start_time": "2024-05-26T20:09:40.911Z"
   },
   {
    "duration": 16,
    "start_time": "2024-05-26T20:13:29.410Z"
   },
   {
    "duration": 10,
    "start_time": "2024-05-26T20:13:33.549Z"
   },
   {
    "duration": 18,
    "start_time": "2024-05-26T20:13:45.099Z"
   },
   {
    "duration": 10,
    "start_time": "2024-05-26T20:13:47.687Z"
   },
   {
    "duration": 18,
    "start_time": "2024-05-26T20:15:05.606Z"
   },
   {
    "duration": 11,
    "start_time": "2024-05-26T20:15:08.286Z"
   },
   {
    "duration": 17,
    "start_time": "2024-05-26T20:17:45.176Z"
   },
   {
    "duration": 13,
    "start_time": "2024-05-26T20:17:46.527Z"
   },
   {
    "duration": 347,
    "start_time": "2024-05-26T20:18:38.051Z"
   },
   {
    "duration": 53,
    "start_time": "2024-05-26T20:18:45.421Z"
   },
   {
    "duration": 443,
    "start_time": "2024-05-26T20:19:15.614Z"
   },
   {
    "duration": 152,
    "start_time": "2024-05-26T20:19:24.587Z"
   },
   {
    "duration": 162,
    "start_time": "2024-05-26T20:19:30.088Z"
   },
   {
    "duration": 7,
    "start_time": "2024-05-26T20:19:44.601Z"
   },
   {
    "duration": 6,
    "start_time": "2024-05-26T20:19:49.604Z"
   },
   {
    "duration": 6,
    "start_time": "2024-05-26T20:19:55.839Z"
   },
   {
    "duration": 26,
    "start_time": "2024-05-26T20:20:05.120Z"
   },
   {
    "duration": 17,
    "start_time": "2024-05-26T20:20:25.652Z"
   },
   {
    "duration": 21,
    "start_time": "2024-05-26T20:22:38.368Z"
   },
   {
    "duration": 14,
    "start_time": "2024-05-26T20:22:41.896Z"
   },
   {
    "duration": 8,
    "start_time": "2024-05-26T20:25:37.905Z"
   },
   {
    "duration": 9,
    "start_time": "2024-05-26T20:25:44.175Z"
   },
   {
    "duration": 28,
    "start_time": "2024-05-26T20:25:55.078Z"
   },
   {
    "duration": 23,
    "start_time": "2024-05-26T20:25:59.559Z"
   },
   {
    "duration": 1300,
    "start_time": "2024-05-26T20:26:32.895Z"
   },
   {
    "duration": 47,
    "start_time": "2024-05-26T20:26:34.198Z"
   },
   {
    "duration": 23,
    "start_time": "2024-05-26T20:26:34.248Z"
   },
   {
    "duration": 20,
    "start_time": "2024-05-26T20:26:34.274Z"
   },
   {
    "duration": 19,
    "start_time": "2024-05-26T20:26:34.323Z"
   },
   {
    "duration": 5,
    "start_time": "2024-05-26T20:26:34.344Z"
   },
   {
    "duration": 19,
    "start_time": "2024-05-26T20:26:34.352Z"
   },
   {
    "duration": 48,
    "start_time": "2024-05-26T20:26:34.375Z"
   },
   {
    "duration": 8,
    "start_time": "2024-05-26T20:26:34.426Z"
   },
   {
    "duration": 306,
    "start_time": "2024-05-26T20:26:34.437Z"
   },
   {
    "duration": 5,
    "start_time": "2024-05-26T20:26:34.746Z"
   },
   {
    "duration": 7,
    "start_time": "2024-05-26T20:26:34.754Z"
   },
   {
    "duration": 5,
    "start_time": "2024-05-26T20:26:34.764Z"
   },
   {
    "duration": 46,
    "start_time": "2024-05-26T20:26:34.777Z"
   },
   {
    "duration": 6,
    "start_time": "2024-05-26T20:26:34.826Z"
   },
   {
    "duration": 9,
    "start_time": "2024-05-26T20:26:34.835Z"
   },
   {
    "duration": 7,
    "start_time": "2024-05-26T20:26:34.847Z"
   },
   {
    "duration": 5,
    "start_time": "2024-05-26T20:26:34.857Z"
   },
   {
    "duration": 63,
    "start_time": "2024-05-26T20:26:34.866Z"
   },
   {
    "duration": 575,
    "start_time": "2024-05-26T20:26:34.932Z"
   },
   {
    "duration": 21,
    "start_time": "2024-05-26T20:26:35.510Z"
   },
   {
    "duration": 534,
    "start_time": "2024-05-26T20:26:35.534Z"
   },
   {
    "duration": 13,
    "start_time": "2024-05-26T20:26:36.071Z"
   },
   {
    "duration": 295,
    "start_time": "2024-05-26T20:26:36.087Z"
   },
   {
    "duration": 7,
    "start_time": "2024-05-26T20:26:36.385Z"
   },
   {
    "duration": 42,
    "start_time": "2024-05-26T20:26:36.395Z"
   },
   {
    "duration": 13,
    "start_time": "2024-05-26T20:26:36.440Z"
   },
   {
    "duration": 444,
    "start_time": "2024-05-26T20:26:36.457Z"
   },
   {
    "duration": 655,
    "start_time": "2024-05-26T20:26:36.904Z"
   },
   {
    "duration": 26,
    "start_time": "2024-05-26T20:26:37.562Z"
   },
   {
    "duration": 8,
    "start_time": "2024-05-26T20:30:40.790Z"
   },
   {
    "duration": 407,
    "start_time": "2024-05-26T20:33:02.411Z"
   },
   {
    "duration": 6,
    "start_time": "2024-05-26T20:33:23.942Z"
   },
   {
    "duration": 19,
    "start_time": "2024-05-26T20:38:30.397Z"
   },
   {
    "duration": 11,
    "start_time": "2024-05-26T20:38:31.212Z"
   },
   {
    "duration": 24,
    "start_time": "2024-05-26T20:41:30.110Z"
   },
   {
    "duration": 19,
    "start_time": "2024-05-26T20:41:31.604Z"
   },
   {
    "duration": 7,
    "start_time": "2024-05-26T20:42:20.617Z"
   },
   {
    "duration": 19,
    "start_time": "2024-05-26T20:42:25.257Z"
   },
   {
    "duration": 13,
    "start_time": "2024-05-26T20:42:27.689Z"
   },
   {
    "duration": 19,
    "start_time": "2024-05-26T20:43:12.725Z"
   },
   {
    "duration": 16,
    "start_time": "2024-05-26T20:43:16.648Z"
   },
   {
    "duration": 20,
    "start_time": "2024-05-26T20:44:02.630Z"
   },
   {
    "duration": 13,
    "start_time": "2024-05-26T20:44:08.281Z"
   },
   {
    "duration": 13,
    "start_time": "2024-05-26T20:44:16.870Z"
   },
   {
    "duration": 22,
    "start_time": "2024-05-26T21:15:41.834Z"
   },
   {
    "duration": 15,
    "start_time": "2024-05-26T21:15:43.083Z"
   },
   {
    "duration": 489,
    "start_time": "2024-05-26T21:16:23.811Z"
   },
   {
    "duration": 613,
    "start_time": "2024-05-26T21:25:56.369Z"
   },
   {
    "duration": 6,
    "start_time": "2024-05-26T21:29:37.014Z"
   },
   {
    "duration": 7,
    "start_time": "2024-05-26T21:29:49.567Z"
   },
   {
    "duration": 42,
    "start_time": "2024-05-26T21:30:21.940Z"
   },
   {
    "duration": 26,
    "start_time": "2024-05-26T21:30:32.483Z"
   },
   {
    "duration": 21,
    "start_time": "2024-05-26T21:31:46.294Z"
   },
   {
    "duration": 23,
    "start_time": "2024-05-26T21:31:55.139Z"
   },
   {
    "duration": 21,
    "start_time": "2024-05-26T21:31:58.709Z"
   },
   {
    "duration": 22,
    "start_time": "2024-05-26T21:32:11.811Z"
   },
   {
    "duration": 24,
    "start_time": "2024-05-26T21:32:22.310Z"
   },
   {
    "duration": 21,
    "start_time": "2024-05-26T21:32:29.491Z"
   },
   {
    "duration": 19,
    "start_time": "2024-05-26T21:32:32.103Z"
   },
   {
    "duration": 21,
    "start_time": "2024-05-26T21:32:36.172Z"
   },
   {
    "duration": 20,
    "start_time": "2024-05-26T21:32:39.189Z"
   },
   {
    "duration": 6,
    "start_time": "2024-05-26T21:32:43.102Z"
   },
   {
    "duration": 21,
    "start_time": "2024-05-26T21:32:47.479Z"
   },
   {
    "duration": 22,
    "start_time": "2024-05-26T21:32:53.582Z"
   },
   {
    "duration": 21,
    "start_time": "2024-05-26T21:32:59.897Z"
   },
   {
    "duration": 8,
    "start_time": "2024-05-26T21:33:17.103Z"
   },
   {
    "duration": 740,
    "start_time": "2024-05-26T21:37:46.692Z"
   },
   {
    "duration": 619,
    "start_time": "2024-05-26T21:38:04.422Z"
   },
   {
    "duration": 635,
    "start_time": "2024-05-26T21:38:55.095Z"
   },
   {
    "duration": 608,
    "start_time": "2024-05-26T21:39:15.466Z"
   },
   {
    "duration": 634,
    "start_time": "2024-05-26T21:40:26.225Z"
   },
   {
    "duration": 632,
    "start_time": "2024-05-26T21:42:28.179Z"
   },
   {
    "duration": 73,
    "start_time": "2024-05-26T21:50:14.414Z"
   },
   {
    "duration": 99,
    "start_time": "2024-05-26T21:51:23.772Z"
   },
   {
    "duration": 33,
    "start_time": "2024-05-26T21:51:57.177Z"
   },
   {
    "duration": 27,
    "start_time": "2024-05-26T21:54:08.618Z"
   },
   {
    "duration": 58,
    "start_time": "2024-05-26T21:57:56.583Z"
   },
   {
    "duration": 39,
    "start_time": "2024-05-26T21:58:09.443Z"
   },
   {
    "duration": 67,
    "start_time": "2024-05-26T21:58:18.380Z"
   },
   {
    "duration": 39,
    "start_time": "2024-05-26T21:58:25.486Z"
   },
   {
    "duration": 39,
    "start_time": "2024-05-26T21:58:34.151Z"
   },
   {
    "duration": 42,
    "start_time": "2024-05-26T21:58:39.993Z"
   },
   {
    "duration": 38,
    "start_time": "2024-05-26T21:58:42.928Z"
   },
   {
    "duration": 39,
    "start_time": "2024-05-26T21:58:44.732Z"
   },
   {
    "duration": 40,
    "start_time": "2024-05-26T21:58:45.947Z"
   },
   {
    "duration": 41,
    "start_time": "2024-05-26T21:58:46.951Z"
   },
   {
    "duration": 21,
    "start_time": "2024-05-26T21:58:55.269Z"
   },
   {
    "duration": 1366,
    "start_time": "2024-05-26T21:59:51.970Z"
   },
   {
    "duration": 46,
    "start_time": "2024-05-26T21:59:53.340Z"
   },
   {
    "duration": 45,
    "start_time": "2024-05-26T21:59:53.389Z"
   },
   {
    "duration": 21,
    "start_time": "2024-05-26T21:59:53.438Z"
   },
   {
    "duration": 24,
    "start_time": "2024-05-26T21:59:53.465Z"
   },
   {
    "duration": 5,
    "start_time": "2024-05-26T21:59:53.522Z"
   },
   {
    "duration": 21,
    "start_time": "2024-05-26T21:59:53.532Z"
   },
   {
    "duration": 13,
    "start_time": "2024-05-26T21:59:53.556Z"
   },
   {
    "duration": 50,
    "start_time": "2024-05-26T21:59:53.574Z"
   },
   {
    "duration": 343,
    "start_time": "2024-05-26T21:59:53.628Z"
   },
   {
    "duration": 7,
    "start_time": "2024-05-26T21:59:53.973Z"
   },
   {
    "duration": 8,
    "start_time": "2024-05-26T21:59:53.983Z"
   },
   {
    "duration": 32,
    "start_time": "2024-05-26T21:59:53.995Z"
   },
   {
    "duration": 6,
    "start_time": "2024-05-26T21:59:54.034Z"
   },
   {
    "duration": 6,
    "start_time": "2024-05-26T21:59:54.043Z"
   },
   {
    "duration": 11,
    "start_time": "2024-05-26T21:59:54.052Z"
   },
   {
    "duration": 6,
    "start_time": "2024-05-26T21:59:54.065Z"
   },
   {
    "duration": 49,
    "start_time": "2024-05-26T21:59:54.075Z"
   },
   {
    "duration": 20,
    "start_time": "2024-05-26T21:59:54.126Z"
   },
   {
    "duration": 32,
    "start_time": "2024-05-26T21:59:54.149Z"
   },
   {
    "duration": 85,
    "start_time": "2024-05-26T21:59:54.184Z"
   },
   {
    "duration": 21,
    "start_time": "2024-05-26T21:59:54.273Z"
   },
   {
    "duration": 680,
    "start_time": "2024-05-26T21:59:54.324Z"
   },
   {
    "duration": 26,
    "start_time": "2024-05-26T21:59:55.007Z"
   },
   {
    "duration": 513,
    "start_time": "2024-05-26T21:59:55.037Z"
   },
   {
    "duration": 0,
    "start_time": "2024-05-26T21:59:55.553Z"
   },
   {
    "duration": 0,
    "start_time": "2024-05-26T21:59:55.555Z"
   },
   {
    "duration": 0,
    "start_time": "2024-05-26T21:59:55.557Z"
   },
   {
    "duration": 0,
    "start_time": "2024-05-26T21:59:55.559Z"
   },
   {
    "duration": 0,
    "start_time": "2024-05-26T21:59:55.561Z"
   },
   {
    "duration": 0,
    "start_time": "2024-05-26T21:59:55.563Z"
   },
   {
    "duration": 0,
    "start_time": "2024-05-26T21:59:55.565Z"
   },
   {
    "duration": 0,
    "start_time": "2024-05-26T21:59:55.566Z"
   },
   {
    "duration": 0,
    "start_time": "2024-05-26T21:59:55.568Z"
   },
   {
    "duration": 0,
    "start_time": "2024-05-26T21:59:55.569Z"
   },
   {
    "duration": 38,
    "start_time": "2024-05-26T22:05:45.132Z"
   },
   {
    "duration": 1327,
    "start_time": "2024-05-26T22:12:21.915Z"
   },
   {
    "duration": 47,
    "start_time": "2024-05-26T22:12:23.246Z"
   },
   {
    "duration": 42,
    "start_time": "2024-05-26T22:12:23.297Z"
   },
   {
    "duration": 21,
    "start_time": "2024-05-26T22:12:23.344Z"
   },
   {
    "duration": 22,
    "start_time": "2024-05-26T22:12:23.368Z"
   },
   {
    "duration": 34,
    "start_time": "2024-05-26T22:12:23.392Z"
   },
   {
    "duration": 22,
    "start_time": "2024-05-26T22:12:23.430Z"
   },
   {
    "duration": 11,
    "start_time": "2024-05-26T22:12:23.455Z"
   },
   {
    "duration": 53,
    "start_time": "2024-05-26T22:12:23.470Z"
   },
   {
    "duration": 321,
    "start_time": "2024-05-26T22:12:23.531Z"
   },
   {
    "duration": 6,
    "start_time": "2024-05-26T22:12:23.856Z"
   },
   {
    "duration": 7,
    "start_time": "2024-05-26T22:12:23.865Z"
   },
   {
    "duration": 5,
    "start_time": "2024-05-26T22:12:23.877Z"
   },
   {
    "duration": 38,
    "start_time": "2024-05-26T22:12:23.886Z"
   },
   {
    "duration": 5,
    "start_time": "2024-05-26T22:12:23.927Z"
   },
   {
    "duration": 8,
    "start_time": "2024-05-26T22:12:23.935Z"
   },
   {
    "duration": 5,
    "start_time": "2024-05-26T22:12:23.947Z"
   },
   {
    "duration": 5,
    "start_time": "2024-05-26T22:12:23.955Z"
   },
   {
    "duration": 68,
    "start_time": "2024-05-26T22:12:23.963Z"
   },
   {
    "duration": 31,
    "start_time": "2024-05-26T22:12:24.035Z"
   },
   {
    "duration": 1572,
    "start_time": "2024-05-26T22:12:24.070Z"
   },
   {
    "duration": 0,
    "start_time": "2024-05-26T22:12:25.646Z"
   },
   {
    "duration": 0,
    "start_time": "2024-05-26T22:12:25.647Z"
   },
   {
    "duration": 0,
    "start_time": "2024-05-26T22:12:25.650Z"
   },
   {
    "duration": 0,
    "start_time": "2024-05-26T22:12:25.652Z"
   },
   {
    "duration": 0,
    "start_time": "2024-05-26T22:12:25.653Z"
   },
   {
    "duration": 0,
    "start_time": "2024-05-26T22:12:25.655Z"
   },
   {
    "duration": 0,
    "start_time": "2024-05-26T22:12:25.657Z"
   },
   {
    "duration": 0,
    "start_time": "2024-05-26T22:12:25.658Z"
   },
   {
    "duration": 0,
    "start_time": "2024-05-26T22:12:25.660Z"
   },
   {
    "duration": 0,
    "start_time": "2024-05-26T22:12:25.662Z"
   },
   {
    "duration": 0,
    "start_time": "2024-05-26T22:12:25.664Z"
   },
   {
    "duration": 0,
    "start_time": "2024-05-26T22:12:25.666Z"
   },
   {
    "duration": 0,
    "start_time": "2024-05-26T22:12:25.667Z"
   },
   {
    "duration": 0,
    "start_time": "2024-05-26T22:12:25.669Z"
   },
   {
    "duration": 0,
    "start_time": "2024-05-26T22:12:25.671Z"
   },
   {
    "duration": 29,
    "start_time": "2024-05-26T22:15:36.804Z"
   },
   {
    "duration": 1316,
    "start_time": "2024-05-26T22:15:46.074Z"
   },
   {
    "duration": 48,
    "start_time": "2024-05-26T22:15:47.394Z"
   },
   {
    "duration": 27,
    "start_time": "2024-05-26T22:15:47.445Z"
   },
   {
    "duration": 22,
    "start_time": "2024-05-26T22:15:47.477Z"
   },
   {
    "duration": 26,
    "start_time": "2024-05-26T22:15:47.524Z"
   },
   {
    "duration": 5,
    "start_time": "2024-05-26T22:15:47.553Z"
   },
   {
    "duration": 24,
    "start_time": "2024-05-26T22:15:47.561Z"
   },
   {
    "duration": 46,
    "start_time": "2024-05-26T22:15:47.588Z"
   },
   {
    "duration": 8,
    "start_time": "2024-05-26T22:15:47.637Z"
   },
   {
    "duration": 345,
    "start_time": "2024-05-26T22:15:47.651Z"
   },
   {
    "duration": 6,
    "start_time": "2024-05-26T22:15:47.999Z"
   },
   {
    "duration": 19,
    "start_time": "2024-05-26T22:15:48.009Z"
   },
   {
    "duration": 6,
    "start_time": "2024-05-26T22:15:48.031Z"
   },
   {
    "duration": 6,
    "start_time": "2024-05-26T22:15:48.040Z"
   },
   {
    "duration": 6,
    "start_time": "2024-05-26T22:15:48.050Z"
   },
   {
    "duration": 8,
    "start_time": "2024-05-26T22:15:48.060Z"
   },
   {
    "duration": 51,
    "start_time": "2024-05-26T22:15:48.072Z"
   },
   {
    "duration": 5,
    "start_time": "2024-05-26T22:15:48.127Z"
   },
   {
    "duration": 22,
    "start_time": "2024-05-26T22:15:48.134Z"
   },
   {
    "duration": 65,
    "start_time": "2024-05-26T22:15:48.159Z"
   },
   {
    "duration": 22,
    "start_time": "2024-05-26T22:15:48.227Z"
   },
   {
    "duration": 655,
    "start_time": "2024-05-26T22:15:48.253Z"
   },
   {
    "duration": 23,
    "start_time": "2024-05-26T22:15:48.911Z"
   },
   {
    "duration": 489,
    "start_time": "2024-05-26T22:15:48.937Z"
   },
   {
    "duration": 0,
    "start_time": "2024-05-26T22:15:49.430Z"
   },
   {
    "duration": 0,
    "start_time": "2024-05-26T22:15:49.435Z"
   },
   {
    "duration": 0,
    "start_time": "2024-05-26T22:15:49.439Z"
   },
   {
    "duration": 0,
    "start_time": "2024-05-26T22:15:49.442Z"
   },
   {
    "duration": 0,
    "start_time": "2024-05-26T22:15:49.445Z"
   },
   {
    "duration": 0,
    "start_time": "2024-05-26T22:15:49.448Z"
   },
   {
    "duration": 0,
    "start_time": "2024-05-26T22:15:49.451Z"
   },
   {
    "duration": 0,
    "start_time": "2024-05-26T22:15:49.455Z"
   },
   {
    "duration": 0,
    "start_time": "2024-05-26T22:15:49.458Z"
   },
   {
    "duration": 0,
    "start_time": "2024-05-26T22:15:49.460Z"
   },
   {
    "duration": 0,
    "start_time": "2024-05-26T22:15:49.462Z"
   },
   {
    "duration": 1315,
    "start_time": "2024-05-26T22:16:40.953Z"
   },
   {
    "duration": 41,
    "start_time": "2024-05-26T22:16:42.275Z"
   },
   {
    "duration": 27,
    "start_time": "2024-05-26T22:16:42.324Z"
   },
   {
    "duration": 22,
    "start_time": "2024-05-26T22:16:42.357Z"
   },
   {
    "duration": 56,
    "start_time": "2024-05-26T22:16:42.382Z"
   },
   {
    "duration": 5,
    "start_time": "2024-05-26T22:16:42.441Z"
   },
   {
    "duration": 20,
    "start_time": "2024-05-26T22:16:42.449Z"
   },
   {
    "duration": 11,
    "start_time": "2024-05-26T22:16:42.473Z"
   },
   {
    "duration": 43,
    "start_time": "2024-05-26T22:16:42.487Z"
   },
   {
    "duration": 302,
    "start_time": "2024-05-26T22:16:42.537Z"
   },
   {
    "duration": 6,
    "start_time": "2024-05-26T22:16:42.841Z"
   },
   {
    "duration": 7,
    "start_time": "2024-05-26T22:16:42.851Z"
   },
   {
    "duration": 5,
    "start_time": "2024-05-26T22:16:42.862Z"
   },
   {
    "duration": 11,
    "start_time": "2024-05-26T22:16:42.870Z"
   },
   {
    "duration": 5,
    "start_time": "2024-05-26T22:16:42.922Z"
   },
   {
    "duration": 10,
    "start_time": "2024-05-26T22:16:42.931Z"
   },
   {
    "duration": 5,
    "start_time": "2024-05-26T22:16:42.946Z"
   },
   {
    "duration": 7,
    "start_time": "2024-05-26T22:16:42.954Z"
   },
   {
    "duration": 61,
    "start_time": "2024-05-26T22:16:42.966Z"
   },
   {
    "duration": 37,
    "start_time": "2024-05-26T22:16:43.031Z"
   },
   {
    "duration": 608,
    "start_time": "2024-05-26T22:16:43.071Z"
   },
   {
    "duration": 24,
    "start_time": "2024-05-26T22:16:43.683Z"
   },
   {
    "duration": 539,
    "start_time": "2024-05-26T22:16:43.711Z"
   },
   {
    "duration": 13,
    "start_time": "2024-05-26T22:16:44.253Z"
   },
   {
    "duration": 325,
    "start_time": "2024-05-26T22:16:44.269Z"
   },
   {
    "duration": 10,
    "start_time": "2024-05-26T22:16:44.597Z"
   },
   {
    "duration": 27,
    "start_time": "2024-05-26T22:16:44.624Z"
   },
   {
    "duration": 14,
    "start_time": "2024-05-26T22:16:44.659Z"
   },
   {
    "duration": 491,
    "start_time": "2024-05-26T22:16:44.676Z"
   },
   {
    "duration": 449,
    "start_time": "2024-05-26T22:16:45.170Z"
   },
   {
    "duration": 0,
    "start_time": "2024-05-26T22:16:45.624Z"
   },
   {
    "duration": 0,
    "start_time": "2024-05-26T22:16:45.626Z"
   },
   {
    "duration": 0,
    "start_time": "2024-05-26T22:16:45.628Z"
   },
   {
    "duration": 1319,
    "start_time": "2024-05-26T22:17:04.012Z"
   },
   {
    "duration": 41,
    "start_time": "2024-05-26T22:17:05.335Z"
   },
   {
    "duration": 25,
    "start_time": "2024-05-26T22:17:05.379Z"
   },
   {
    "duration": 23,
    "start_time": "2024-05-26T22:17:05.424Z"
   },
   {
    "duration": 21,
    "start_time": "2024-05-26T22:17:05.450Z"
   },
   {
    "duration": 4,
    "start_time": "2024-05-26T22:17:05.474Z"
   },
   {
    "duration": 54,
    "start_time": "2024-05-26T22:17:05.484Z"
   },
   {
    "duration": 13,
    "start_time": "2024-05-26T22:17:05.542Z"
   },
   {
    "duration": 9,
    "start_time": "2024-05-26T22:17:05.557Z"
   },
   {
    "duration": 342,
    "start_time": "2024-05-26T22:17:05.572Z"
   },
   {
    "duration": 11,
    "start_time": "2024-05-26T22:17:05.917Z"
   },
   {
    "duration": 9,
    "start_time": "2024-05-26T22:17:05.932Z"
   },
   {
    "duration": 6,
    "start_time": "2024-05-26T22:17:05.945Z"
   },
   {
    "duration": 6,
    "start_time": "2024-05-26T22:17:05.954Z"
   },
   {
    "duration": 6,
    "start_time": "2024-05-26T22:17:05.963Z"
   },
   {
    "duration": 53,
    "start_time": "2024-05-26T22:17:05.972Z"
   },
   {
    "duration": 5,
    "start_time": "2024-05-26T22:17:06.030Z"
   },
   {
    "duration": 6,
    "start_time": "2024-05-26T22:17:06.037Z"
   },
   {
    "duration": 23,
    "start_time": "2024-05-26T22:17:06.047Z"
   },
   {
    "duration": 71,
    "start_time": "2024-05-26T22:17:06.075Z"
   },
   {
    "duration": 626,
    "start_time": "2024-05-26T22:17:06.149Z"
   },
   {
    "duration": 23,
    "start_time": "2024-05-26T22:17:06.781Z"
   },
   {
    "duration": 566,
    "start_time": "2024-05-26T22:17:06.808Z"
   },
   {
    "duration": 21,
    "start_time": "2024-05-26T22:17:07.379Z"
   },
   {
    "duration": 342,
    "start_time": "2024-05-26T22:17:07.404Z"
   },
   {
    "duration": 10,
    "start_time": "2024-05-26T22:17:07.751Z"
   },
   {
    "duration": 23,
    "start_time": "2024-05-26T22:17:07.764Z"
   },
   {
    "duration": 31,
    "start_time": "2024-05-26T22:17:07.794Z"
   },
   {
    "duration": 458,
    "start_time": "2024-05-26T22:17:07.829Z"
   },
   {
    "duration": 689,
    "start_time": "2024-05-26T22:17:08.290Z"
   },
   {
    "duration": 9,
    "start_time": "2024-05-26T22:17:08.982Z"
   },
   {
    "duration": 30,
    "start_time": "2024-05-26T22:17:08.995Z"
   },
   {
    "duration": 9,
    "start_time": "2024-05-26T22:17:19.774Z"
   },
   {
    "duration": 16,
    "start_time": "2024-05-26T22:17:39.387Z"
   },
   {
    "duration": 417,
    "start_time": "2024-05-26T22:17:43.907Z"
   },
   {
    "duration": 27,
    "start_time": "2024-05-26T22:17:54.498Z"
   },
   {
    "duration": 28,
    "start_time": "2024-05-26T22:18:01.651Z"
   },
   {
    "duration": 27,
    "start_time": "2024-05-26T22:18:11.266Z"
   },
   {
    "duration": 16,
    "start_time": "2024-05-26T22:18:19.280Z"
   },
   {
    "duration": 8,
    "start_time": "2024-05-26T22:19:15.328Z"
   },
   {
    "duration": 45,
    "start_time": "2024-05-26T22:19:30.082Z"
   },
   {
    "duration": 7,
    "start_time": "2024-05-26T22:20:43.811Z"
   },
   {
    "duration": 457,
    "start_time": "2024-05-26T22:21:05.639Z"
   },
   {
    "duration": 56,
    "start_time": "2024-05-26T22:21:19.917Z"
   },
   {
    "duration": 5,
    "start_time": "2024-05-26T22:24:15.491Z"
   },
   {
    "duration": 30,
    "start_time": "2024-05-26T22:24:43.377Z"
   },
   {
    "duration": 30,
    "start_time": "2024-05-26T22:24:57.322Z"
   },
   {
    "duration": 7,
    "start_time": "2024-05-26T22:25:18.488Z"
   },
   {
    "duration": 11,
    "start_time": "2024-05-26T22:25:27.250Z"
   },
   {
    "duration": 10,
    "start_time": "2024-05-26T22:25:41.068Z"
   },
   {
    "duration": 72,
    "start_time": "2024-05-26T22:26:00.962Z"
   },
   {
    "duration": 31,
    "start_time": "2024-05-26T22:26:17.922Z"
   },
   {
    "duration": 6,
    "start_time": "2024-05-26T22:27:21.849Z"
   },
   {
    "duration": 26,
    "start_time": "2024-05-26T22:27:24.055Z"
   },
   {
    "duration": 16,
    "start_time": "2024-05-26T22:27:31.784Z"
   },
   {
    "duration": 12,
    "start_time": "2024-05-26T22:27:53.754Z"
   },
   {
    "duration": 16,
    "start_time": "2024-05-26T22:28:51.495Z"
   },
   {
    "duration": 6,
    "start_time": "2024-05-26T22:29:24.363Z"
   },
   {
    "duration": 7,
    "start_time": "2024-05-26T22:29:54.164Z"
   },
   {
    "duration": 8,
    "start_time": "2024-05-26T22:29:58.238Z"
   },
   {
    "duration": 11,
    "start_time": "2024-05-26T22:30:11.354Z"
   },
   {
    "duration": 934,
    "start_time": "2024-05-26T22:30:25.330Z"
   },
   {
    "duration": 16,
    "start_time": "2024-05-26T22:30:33.822Z"
   },
   {
    "duration": 26,
    "start_time": "2024-05-26T22:33:01.645Z"
   },
   {
    "duration": 22,
    "start_time": "2024-05-26T22:33:13.250Z"
   },
   {
    "duration": 27,
    "start_time": "2024-05-26T22:33:28.457Z"
   },
   {
    "duration": 36,
    "start_time": "2024-05-26T22:38:33.573Z"
   },
   {
    "duration": 37,
    "start_time": "2024-05-26T22:40:07.251Z"
   },
   {
    "duration": 38,
    "start_time": "2024-05-26T22:47:00.498Z"
   },
   {
    "duration": 50,
    "start_time": "2024-05-26T22:47:56.961Z"
   },
   {
    "duration": 51,
    "start_time": "2024-05-26T22:48:17.726Z"
   },
   {
    "duration": 39,
    "start_time": "2024-05-26T22:49:17.775Z"
   },
   {
    "duration": 44,
    "start_time": "2024-05-26T22:49:59.793Z"
   },
   {
    "duration": 38,
    "start_time": "2024-05-26T22:50:06.996Z"
   },
   {
    "duration": 39,
    "start_time": "2024-05-26T22:50:13.995Z"
   },
   {
    "duration": 21,
    "start_time": "2024-05-26T22:52:44.924Z"
   },
   {
    "duration": 31,
    "start_time": "2024-05-26T22:52:52.885Z"
   },
   {
    "duration": 10,
    "start_time": "2024-05-26T22:57:12.327Z"
   },
   {
    "duration": 6,
    "start_time": "2024-05-26T22:58:07.111Z"
   },
   {
    "duration": 8,
    "start_time": "2024-05-26T22:58:16.606Z"
   },
   {
    "duration": 286,
    "start_time": "2024-05-26T22:58:44.296Z"
   },
   {
    "duration": 66,
    "start_time": "2024-05-26T22:58:58.647Z"
   },
   {
    "duration": 33,
    "start_time": "2024-05-26T22:59:26.901Z"
   },
   {
    "duration": 13,
    "start_time": "2024-05-26T22:59:30.390Z"
   },
   {
    "duration": 13,
    "start_time": "2024-05-26T23:00:23.075Z"
   },
   {
    "duration": 10,
    "start_time": "2024-05-26T23:00:36.664Z"
   },
   {
    "duration": 11,
    "start_time": "2024-05-26T23:00:43.000Z"
   },
   {
    "duration": 16,
    "start_time": "2024-05-26T23:01:00.380Z"
   },
   {
    "duration": 9,
    "start_time": "2024-05-26T23:02:54.811Z"
   },
   {
    "duration": 30,
    "start_time": "2024-05-26T23:03:02.187Z"
   },
   {
    "duration": 17,
    "start_time": "2024-05-26T23:04:42.227Z"
   },
   {
    "duration": 19,
    "start_time": "2024-05-26T23:04:47.666Z"
   },
   {
    "duration": 23,
    "start_time": "2024-05-26T23:06:07.342Z"
   },
   {
    "duration": 4,
    "start_time": "2024-05-26T23:06:09.576Z"
   },
   {
    "duration": 4,
    "start_time": "2024-05-26T23:06:16.134Z"
   },
   {
    "duration": 18,
    "start_time": "2024-05-26T23:06:21.083Z"
   },
   {
    "duration": 24,
    "start_time": "2024-05-26T23:06:22.944Z"
   },
   {
    "duration": 16,
    "start_time": "2024-05-26T23:15:00.997Z"
   },
   {
    "duration": 20,
    "start_time": "2024-05-26T23:15:23.204Z"
   },
   {
    "duration": 30,
    "start_time": "2024-05-26T23:22:48.874Z"
   },
   {
    "duration": 63,
    "start_time": "2024-05-26T23:22:54.443Z"
   },
   {
    "duration": 10,
    "start_time": "2024-05-26T23:23:14.580Z"
   },
   {
    "duration": 30,
    "start_time": "2024-05-26T23:23:18.999Z"
   },
   {
    "duration": 15,
    "start_time": "2024-05-26T23:23:30.174Z"
   },
   {
    "duration": 31,
    "start_time": "2024-05-26T23:24:59.811Z"
   },
   {
    "duration": 9,
    "start_time": "2024-05-26T23:25:06.283Z"
   },
   {
    "duration": 19,
    "start_time": "2024-05-26T23:25:08.255Z"
   },
   {
    "duration": 15,
    "start_time": "2024-05-26T23:25:15.356Z"
   },
   {
    "duration": 10,
    "start_time": "2024-05-26T23:25:40.720Z"
   },
   {
    "duration": 19,
    "start_time": "2024-05-26T23:25:45.476Z"
   },
   {
    "duration": 19,
    "start_time": "2024-05-26T23:25:50.800Z"
   },
   {
    "duration": 22,
    "start_time": "2024-05-26T23:26:41.763Z"
   },
   {
    "duration": 14,
    "start_time": "2024-05-26T23:27:06.424Z"
   },
   {
    "duration": 4,
    "start_time": "2024-05-26T23:27:50.344Z"
   },
   {
    "duration": 20,
    "start_time": "2024-05-26T23:28:39.040Z"
   },
   {
    "duration": 181,
    "start_time": "2024-05-26T23:29:23.725Z"
   },
   {
    "duration": 338,
    "start_time": "2024-05-26T23:29:36.978Z"
   },
   {
    "duration": 350,
    "start_time": "2024-05-26T23:30:45.644Z"
   },
   {
    "duration": 397,
    "start_time": "2024-05-26T23:31:25.030Z"
   },
   {
    "duration": 620,
    "start_time": "2024-05-26T23:31:42.987Z"
   },
   {
    "duration": 778,
    "start_time": "2024-05-26T23:32:22.622Z"
   },
   {
    "duration": 878,
    "start_time": "2024-05-26T23:32:47.444Z"
   },
   {
    "duration": 1094,
    "start_time": "2024-05-26T23:33:39.276Z"
   },
   {
    "duration": 894,
    "start_time": "2024-05-26T23:33:54.095Z"
   },
   {
    "duration": 909,
    "start_time": "2024-05-26T23:34:17.302Z"
   },
   {
    "duration": 886,
    "start_time": "2024-05-26T23:34:34.246Z"
   },
   {
    "duration": 921,
    "start_time": "2024-05-26T23:34:50.339Z"
   },
   {
    "duration": 995,
    "start_time": "2024-05-26T23:36:07.176Z"
   },
   {
    "duration": 976,
    "start_time": "2024-05-26T23:36:21.015Z"
   },
   {
    "duration": 952,
    "start_time": "2024-05-26T23:37:21.437Z"
   },
   {
    "duration": 13,
    "start_time": "2024-05-26T23:38:07.092Z"
   },
   {
    "duration": 13,
    "start_time": "2024-05-26T23:38:21.183Z"
   },
   {
    "duration": 1070,
    "start_time": "2024-05-26T23:38:38.127Z"
   },
   {
    "duration": 907,
    "start_time": "2024-05-26T23:39:53.969Z"
   },
   {
    "duration": 365,
    "start_time": "2024-05-26T23:40:49.696Z"
   },
   {
    "duration": 851,
    "start_time": "2024-05-26T23:42:17.836Z"
   },
   {
    "duration": 824,
    "start_time": "2024-05-26T23:43:34.158Z"
   },
   {
    "duration": 851,
    "start_time": "2024-05-26T23:44:33.609Z"
   },
   {
    "duration": 10,
    "start_time": "2024-05-26T23:48:33.546Z"
   },
   {
    "duration": 19,
    "start_time": "2024-05-26T23:48:35.539Z"
   },
   {
    "duration": 1329,
    "start_time": "2024-05-26T23:50:26.502Z"
   },
   {
    "duration": 49,
    "start_time": "2024-05-26T23:50:27.836Z"
   },
   {
    "duration": 42,
    "start_time": "2024-05-26T23:50:27.888Z"
   },
   {
    "duration": 23,
    "start_time": "2024-05-26T23:50:27.934Z"
   },
   {
    "duration": 20,
    "start_time": "2024-05-26T23:50:27.960Z"
   },
   {
    "duration": 40,
    "start_time": "2024-05-26T23:50:27.984Z"
   },
   {
    "duration": 21,
    "start_time": "2024-05-26T23:50:28.028Z"
   },
   {
    "duration": 11,
    "start_time": "2024-05-26T23:50:28.052Z"
   },
   {
    "duration": 9,
    "start_time": "2024-05-26T23:50:28.066Z"
   },
   {
    "duration": 294,
    "start_time": "2024-05-26T23:50:28.123Z"
   },
   {
    "duration": 9,
    "start_time": "2024-05-26T23:50:28.424Z"
   },
   {
    "duration": 7,
    "start_time": "2024-05-26T23:50:28.438Z"
   },
   {
    "duration": 6,
    "start_time": "2024-05-26T23:50:28.449Z"
   },
   {
    "duration": 5,
    "start_time": "2024-05-26T23:50:28.459Z"
   },
   {
    "duration": 5,
    "start_time": "2024-05-26T23:50:28.467Z"
   },
   {
    "duration": 49,
    "start_time": "2024-05-26T23:50:28.476Z"
   },
   {
    "duration": 4,
    "start_time": "2024-05-26T23:50:28.529Z"
   },
   {
    "duration": 4,
    "start_time": "2024-05-26T23:50:28.537Z"
   },
   {
    "duration": 19,
    "start_time": "2024-05-26T23:50:28.544Z"
   },
   {
    "duration": 78,
    "start_time": "2024-05-26T23:50:28.567Z"
   },
   {
    "duration": 643,
    "start_time": "2024-05-26T23:50:28.649Z"
   },
   {
    "duration": 21,
    "start_time": "2024-05-26T23:50:29.295Z"
   },
   {
    "duration": 578,
    "start_time": "2024-05-26T23:50:29.323Z"
   },
   {
    "duration": 30,
    "start_time": "2024-05-26T23:50:29.905Z"
   },
   {
    "duration": 309,
    "start_time": "2024-05-26T23:50:29.940Z"
   },
   {
    "duration": 9,
    "start_time": "2024-05-26T23:50:30.252Z"
   },
   {
    "duration": 22,
    "start_time": "2024-05-26T23:50:30.264Z"
   },
   {
    "duration": 44,
    "start_time": "2024-05-26T23:50:30.294Z"
   },
   {
    "duration": 454,
    "start_time": "2024-05-26T23:50:30.341Z"
   },
   {
    "duration": 659,
    "start_time": "2024-05-26T23:50:30.797Z"
   },
   {
    "duration": 7,
    "start_time": "2024-05-26T23:50:31.459Z"
   },
   {
    "duration": 8,
    "start_time": "2024-05-26T23:50:31.472Z"
   },
   {
    "duration": 52,
    "start_time": "2024-05-26T23:50:31.483Z"
   },
   {
    "duration": 5,
    "start_time": "2024-05-26T23:50:31.538Z"
   },
   {
    "duration": 844,
    "start_time": "2024-05-26T23:50:31.546Z"
   },
   {
    "duration": 421,
    "start_time": "2024-05-26T23:50:32.393Z"
   },
   {
    "duration": 0,
    "start_time": "2024-05-26T23:50:32.823Z"
   },
   {
    "duration": 0,
    "start_time": "2024-05-26T23:50:32.825Z"
   },
   {
    "duration": 0,
    "start_time": "2024-05-26T23:50:32.827Z"
   },
   {
    "duration": 846,
    "start_time": "2024-05-26T23:52:03.804Z"
   },
   {
    "duration": 870,
    "start_time": "2024-05-26T23:52:35.772Z"
   },
   {
    "duration": 6,
    "start_time": "2024-05-26T23:52:46.254Z"
   },
   {
    "duration": 839,
    "start_time": "2024-05-26T23:55:22.642Z"
   },
   {
    "duration": 847,
    "start_time": "2024-05-26T23:55:49.896Z"
   },
   {
    "duration": 795,
    "start_time": "2024-05-26T23:56:12.751Z"
   },
   {
    "duration": 802,
    "start_time": "2024-05-26T23:56:23.690Z"
   },
   {
    "duration": 937,
    "start_time": "2024-05-26T23:57:06.540Z"
   },
   {
    "duration": 841,
    "start_time": "2024-05-26T23:58:00.111Z"
   },
   {
    "duration": 775,
    "start_time": "2024-05-26T23:58:47.784Z"
   },
   {
    "duration": 14,
    "start_time": "2024-05-27T00:04:55.764Z"
   },
   {
    "duration": 35,
    "start_time": "2024-05-27T00:07:01.064Z"
   },
   {
    "duration": 32,
    "start_time": "2024-05-27T00:14:53.995Z"
   },
   {
    "duration": 1474,
    "start_time": "2024-05-27T00:15:31.021Z"
   },
   {
    "duration": 17,
    "start_time": "2024-05-27T00:15:44.958Z"
   },
   {
    "duration": 16,
    "start_time": "2024-05-27T00:16:12.712Z"
   },
   {
    "duration": 18,
    "start_time": "2024-05-27T00:16:23.643Z"
   },
   {
    "duration": 20,
    "start_time": "2024-05-27T00:16:41.044Z"
   },
   {
    "duration": 21,
    "start_time": "2024-05-27T00:17:04.555Z"
   },
   {
    "duration": 23,
    "start_time": "2024-05-27T00:17:11.511Z"
   },
   {
    "duration": 23,
    "start_time": "2024-05-27T00:17:13.455Z"
   },
   {
    "duration": 14,
    "start_time": "2024-05-27T00:19:54.639Z"
   },
   {
    "duration": 21,
    "start_time": "2024-05-27T00:19:56.589Z"
   },
   {
    "duration": 14,
    "start_time": "2024-05-27T00:20:21.167Z"
   },
   {
    "duration": 18,
    "start_time": "2024-05-27T00:20:31.591Z"
   },
   {
    "duration": 16,
    "start_time": "2024-05-27T00:20:53.042Z"
   },
   {
    "duration": 3,
    "start_time": "2024-05-27T00:20:54.835Z"
   },
   {
    "duration": 3,
    "start_time": "2024-05-27T00:20:57.100Z"
   },
   {
    "duration": 15,
    "start_time": "2024-05-27T00:21:02.047Z"
   },
   {
    "duration": 19,
    "start_time": "2024-05-27T00:21:03.326Z"
   },
   {
    "duration": 15,
    "start_time": "2024-05-27T00:21:09.208Z"
   },
   {
    "duration": 23,
    "start_time": "2024-05-27T00:21:11.434Z"
   },
   {
    "duration": 19,
    "start_time": "2024-05-27T00:21:14.148Z"
   },
   {
    "duration": 16,
    "start_time": "2024-05-27T00:22:27.213Z"
   },
   {
    "duration": 19,
    "start_time": "2024-05-27T00:22:29.048Z"
   },
   {
    "duration": 14,
    "start_time": "2024-05-27T00:28:34.406Z"
   },
   {
    "duration": 11,
    "start_time": "2024-05-27T00:28:52.391Z"
   },
   {
    "duration": 25,
    "start_time": "2024-05-27T00:29:05.554Z"
   },
   {
    "duration": 25,
    "start_time": "2024-05-27T00:29:10.776Z"
   },
   {
    "duration": 12,
    "start_time": "2024-05-27T00:29:20.112Z"
   },
   {
    "duration": 14,
    "start_time": "2024-05-27T00:29:26.657Z"
   },
   {
    "duration": 24,
    "start_time": "2024-05-27T00:30:04.784Z"
   },
   {
    "duration": 14,
    "start_time": "2024-05-27T00:31:15.693Z"
   },
   {
    "duration": 10,
    "start_time": "2024-05-27T00:31:26.116Z"
   },
   {
    "duration": 10,
    "start_time": "2024-05-27T00:31:31.894Z"
   },
   {
    "duration": 8,
    "start_time": "2024-05-27T00:32:32.441Z"
   },
   {
    "duration": 10,
    "start_time": "2024-05-27T00:32:33.489Z"
   },
   {
    "duration": 28,
    "start_time": "2024-05-27T00:33:37.768Z"
   },
   {
    "duration": 35,
    "start_time": "2024-05-27T00:33:58.450Z"
   },
   {
    "duration": 35,
    "start_time": "2024-05-27T00:34:10.996Z"
   },
   {
    "duration": 8,
    "start_time": "2024-05-27T00:34:16.860Z"
   },
   {
    "duration": 492,
    "start_time": "2024-05-27T00:38:28.951Z"
   },
   {
    "duration": 7,
    "start_time": "2024-05-27T00:38:55.273Z"
   },
   {
    "duration": 31,
    "start_time": "2024-05-27T00:38:59.927Z"
   },
   {
    "duration": 7,
    "start_time": "2024-05-27T00:39:28.802Z"
   },
   {
    "duration": 9,
    "start_time": "2024-05-27T00:39:38.208Z"
   },
   {
    "duration": 11,
    "start_time": "2024-05-27T00:39:40.250Z"
   },
   {
    "duration": 10,
    "start_time": "2024-05-27T00:39:53.586Z"
   },
   {
    "duration": 10,
    "start_time": "2024-05-27T00:39:55.661Z"
   },
   {
    "duration": 8,
    "start_time": "2024-05-27T00:40:00.810Z"
   },
   {
    "duration": 11,
    "start_time": "2024-05-27T00:40:02.027Z"
   },
   {
    "duration": 25,
    "start_time": "2024-05-27T00:41:32.975Z"
   },
   {
    "duration": 6,
    "start_time": "2024-05-27T00:43:56.805Z"
   },
   {
    "duration": 6,
    "start_time": "2024-05-27T00:44:04.062Z"
   },
   {
    "duration": 17,
    "start_time": "2024-05-27T00:44:29.302Z"
   },
   {
    "duration": 10,
    "start_time": "2024-05-27T00:44:31.510Z"
   },
   {
    "duration": 19,
    "start_time": "2024-05-27T00:45:24.397Z"
   },
   {
    "duration": 11,
    "start_time": "2024-05-27T00:45:25.803Z"
   },
   {
    "duration": 229,
    "start_time": "2024-05-27T00:48:02.170Z"
   },
   {
    "duration": 180,
    "start_time": "2024-05-27T00:48:40.389Z"
   },
   {
    "duration": 197,
    "start_time": "2024-05-27T00:49:12.311Z"
   },
   {
    "duration": 6,
    "start_time": "2024-05-27T00:50:53.054Z"
   },
   {
    "duration": 5,
    "start_time": "2024-05-27T00:52:02.270Z"
   },
   {
    "duration": 533,
    "start_time": "2024-05-27T00:54:41.823Z"
   },
   {
    "duration": 911,
    "start_time": "2024-05-27T00:55:10.688Z"
   },
   {
    "duration": 657,
    "start_time": "2024-05-27T00:56:02.137Z"
   },
   {
    "duration": 822,
    "start_time": "2024-05-27T00:56:24.339Z"
   },
   {
    "duration": 6,
    "start_time": "2024-05-27T01:01:24.479Z"
   },
   {
    "duration": 30,
    "start_time": "2024-05-27T01:16:33.105Z"
   },
   {
    "duration": 22,
    "start_time": "2024-05-27T01:16:43.507Z"
   },
   {
    "duration": 14,
    "start_time": "2024-05-27T01:16:48.140Z"
   },
   {
    "duration": 29,
    "start_time": "2024-05-27T01:17:10.306Z"
   },
   {
    "duration": 31,
    "start_time": "2024-05-27T01:17:19.924Z"
   },
   {
    "duration": 14,
    "start_time": "2024-05-27T01:17:21.040Z"
   },
   {
    "duration": 882,
    "start_time": "2024-05-27T01:19:10.546Z"
   },
   {
    "duration": 23,
    "start_time": "2024-05-27T01:21:55.969Z"
   },
   {
    "duration": 14,
    "start_time": "2024-05-27T01:21:57.268Z"
   },
   {
    "duration": 55,
    "start_time": "2024-05-27T01:23:00.142Z"
   },
   {
    "duration": 20,
    "start_time": "2024-05-27T01:23:26.514Z"
   },
   {
    "duration": 38,
    "start_time": "2024-05-27T01:25:05.534Z"
   },
   {
    "duration": 31,
    "start_time": "2024-05-27T01:25:13.366Z"
   },
   {
    "duration": 64,
    "start_time": "2024-05-27T01:25:18.949Z"
   },
   {
    "duration": 738,
    "start_time": "2024-05-27T01:26:55.148Z"
   },
   {
    "duration": 499,
    "start_time": "2024-05-27T01:27:56.720Z"
   },
   {
    "duration": 16,
    "start_time": "2024-05-27T01:29:00.323Z"
   },
   {
    "duration": 516,
    "start_time": "2024-05-27T01:35:46.799Z"
   },
   {
    "duration": 802,
    "start_time": "2024-05-27T01:36:00.364Z"
   },
   {
    "duration": 841,
    "start_time": "2024-05-27T01:36:06.085Z"
   },
   {
    "duration": 798,
    "start_time": "2024-05-27T01:36:12.484Z"
   },
   {
    "duration": 722,
    "start_time": "2024-05-27T01:36:21.207Z"
   },
   {
    "duration": 723,
    "start_time": "2024-05-27T01:36:24.300Z"
   },
   {
    "duration": 770,
    "start_time": "2024-05-27T01:36:29.332Z"
   },
   {
    "duration": 740,
    "start_time": "2024-05-27T01:36:37.083Z"
   },
   {
    "duration": 759,
    "start_time": "2024-05-27T01:36:44.107Z"
   },
   {
    "duration": 763,
    "start_time": "2024-05-27T01:36:50.406Z"
   },
   {
    "duration": 576,
    "start_time": "2024-05-27T01:40:41.832Z"
   },
   {
    "duration": 753,
    "start_time": "2024-05-27T01:44:31.920Z"
   },
   {
    "duration": 684,
    "start_time": "2024-05-27T01:44:41.555Z"
   },
   {
    "duration": 704,
    "start_time": "2024-05-27T01:49:39.185Z"
   },
   {
    "duration": 920,
    "start_time": "2024-05-27T01:50:40.322Z"
   },
   {
    "duration": 735,
    "start_time": "2024-05-27T01:51:02.666Z"
   },
   {
    "duration": 737,
    "start_time": "2024-05-27T01:51:09.579Z"
   },
   {
    "duration": 617,
    "start_time": "2024-05-27T01:51:50.877Z"
   },
   {
    "duration": 21,
    "start_time": "2024-05-27T01:54:56.567Z"
   },
   {
    "duration": 14,
    "start_time": "2024-05-27T01:54:57.935Z"
   },
   {
    "duration": 906,
    "start_time": "2024-05-27T01:56:06.490Z"
   },
   {
    "duration": 1310,
    "start_time": "2024-05-27T01:57:12.492Z"
   },
   {
    "duration": 57,
    "start_time": "2024-05-27T01:57:13.805Z"
   },
   {
    "duration": 27,
    "start_time": "2024-05-27T01:57:13.864Z"
   },
   {
    "duration": 44,
    "start_time": "2024-05-27T01:57:13.897Z"
   },
   {
    "duration": 26,
    "start_time": "2024-05-27T01:57:13.944Z"
   },
   {
    "duration": 5,
    "start_time": "2024-05-27T01:57:13.974Z"
   },
   {
    "duration": 48,
    "start_time": "2024-05-27T01:57:13.983Z"
   },
   {
    "duration": 14,
    "start_time": "2024-05-27T01:57:14.035Z"
   },
   {
    "duration": 9,
    "start_time": "2024-05-27T01:57:14.052Z"
   },
   {
    "duration": 360,
    "start_time": "2024-05-27T01:57:14.069Z"
   },
   {
    "duration": 5,
    "start_time": "2024-05-27T01:57:14.434Z"
   },
   {
    "duration": 7,
    "start_time": "2024-05-27T01:57:14.442Z"
   },
   {
    "duration": 6,
    "start_time": "2024-05-27T01:57:14.452Z"
   },
   {
    "duration": 7,
    "start_time": "2024-05-27T01:57:14.463Z"
   },
   {
    "duration": 5,
    "start_time": "2024-05-27T01:57:14.474Z"
   },
   {
    "duration": 9,
    "start_time": "2024-05-27T01:57:14.523Z"
   },
   {
    "duration": 6,
    "start_time": "2024-05-27T01:57:14.536Z"
   },
   {
    "duration": 5,
    "start_time": "2024-05-27T01:57:14.546Z"
   },
   {
    "duration": 15,
    "start_time": "2024-05-27T01:57:14.557Z"
   },
   {
    "duration": 57,
    "start_time": "2024-05-27T01:57:14.575Z"
   },
   {
    "duration": 692,
    "start_time": "2024-05-27T01:57:14.636Z"
   },
   {
    "duration": 22,
    "start_time": "2024-05-27T01:57:15.333Z"
   },
   {
    "duration": 581,
    "start_time": "2024-05-27T01:57:15.361Z"
   },
   {
    "duration": 18,
    "start_time": "2024-05-27T01:57:15.945Z"
   },
   {
    "duration": 308,
    "start_time": "2024-05-27T01:57:15.967Z"
   },
   {
    "duration": 11,
    "start_time": "2024-05-27T01:57:16.281Z"
   },
   {
    "duration": 36,
    "start_time": "2024-05-27T01:57:16.295Z"
   },
   {
    "duration": 13,
    "start_time": "2024-05-27T01:57:16.338Z"
   },
   {
    "duration": 479,
    "start_time": "2024-05-27T01:57:16.354Z"
   },
   {
    "duration": 652,
    "start_time": "2024-05-27T01:57:16.836Z"
   },
   {
    "duration": 8,
    "start_time": "2024-05-27T01:57:17.493Z"
   },
   {
    "duration": 25,
    "start_time": "2024-05-27T01:57:17.505Z"
   },
   {
    "duration": 18,
    "start_time": "2024-05-27T01:57:17.532Z"
   },
   {
    "duration": 8,
    "start_time": "2024-05-27T01:57:17.553Z"
   },
   {
    "duration": 918,
    "start_time": "2024-05-27T01:57:17.564Z"
   },
   {
    "duration": 37,
    "start_time": "2024-05-27T01:57:18.485Z"
   },
   {
    "duration": 14,
    "start_time": "2024-05-27T01:57:18.526Z"
   },
   {
    "duration": 783,
    "start_time": "2024-05-27T01:57:18.544Z"
   },
   {
    "duration": 6,
    "start_time": "2024-05-27T01:57:19.332Z"
   },
   {
    "duration": 23,
    "start_time": "2024-05-27T01:57:19.341Z"
   },
   {
    "duration": 14,
    "start_time": "2024-05-27T01:57:19.367Z"
   },
   {
    "duration": 764,
    "start_time": "2024-05-27T01:57:19.385Z"
   },
   {
    "duration": 552,
    "start_time": "2024-05-27T01:57:20.151Z"
   },
   {
    "duration": 658,
    "start_time": "2024-05-27T01:58:33.643Z"
   },
   {
    "duration": 8,
    "start_time": "2024-05-27T01:58:59.352Z"
   },
   {
    "duration": 7,
    "start_time": "2024-05-27T01:59:08.516Z"
   },
   {
    "duration": 852,
    "start_time": "2024-05-27T01:59:33.660Z"
   },
   {
    "duration": 886,
    "start_time": "2024-05-27T02:03:39.683Z"
   },
   {
    "duration": 694,
    "start_time": "2024-05-27T02:05:46.275Z"
   },
   {
    "duration": 19,
    "start_time": "2024-05-27T02:06:28.614Z"
   },
   {
    "duration": 19,
    "start_time": "2024-05-27T02:06:29.853Z"
   },
   {
    "duration": 5,
    "start_time": "2024-05-27T02:08:31.344Z"
   },
   {
    "duration": 11,
    "start_time": "2024-05-27T02:08:40.242Z"
   },
   {
    "duration": 6,
    "start_time": "2024-05-27T02:08:54.629Z"
   },
   {
    "duration": 14,
    "start_time": "2024-05-27T02:08:56.395Z"
   },
   {
    "duration": 3,
    "start_time": "2024-05-27T02:09:18.187Z"
   },
   {
    "duration": 10,
    "start_time": "2024-05-27T02:09:19.416Z"
   },
   {
    "duration": 4,
    "start_time": "2024-05-27T02:10:38.691Z"
   },
   {
    "duration": 7,
    "start_time": "2024-05-27T02:10:40.079Z"
   },
   {
    "duration": 35,
    "start_time": "2024-05-27T02:12:27.541Z"
   },
   {
    "duration": 38,
    "start_time": "2024-05-27T02:14:33.756Z"
   },
   {
    "duration": 31,
    "start_time": "2024-05-27T02:15:27.390Z"
   },
   {
    "duration": 19,
    "start_time": "2024-05-27T02:15:40.573Z"
   },
   {
    "duration": 18,
    "start_time": "2024-05-27T02:16:29.979Z"
   },
   {
    "duration": 19,
    "start_time": "2024-05-27T02:17:51.306Z"
   },
   {
    "duration": 22,
    "start_time": "2024-05-27T02:19:48.847Z"
   },
   {
    "duration": 39,
    "start_time": "2024-05-27T02:20:40.020Z"
   },
   {
    "duration": 21,
    "start_time": "2024-05-27T02:20:58.477Z"
   },
   {
    "duration": 34,
    "start_time": "2024-05-27T02:24:33.855Z"
   },
   {
    "duration": 9,
    "start_time": "2024-05-27T02:24:39.859Z"
   },
   {
    "duration": 20,
    "start_time": "2024-05-27T02:24:42.091Z"
   },
   {
    "duration": 6,
    "start_time": "2024-05-27T02:32:38.391Z"
   },
   {
    "duration": 9,
    "start_time": "2024-05-27T02:32:43.834Z"
   },
   {
    "duration": 1032,
    "start_time": "2024-05-27T02:34:53.529Z"
   },
   {
    "duration": 6,
    "start_time": "2024-05-27T02:35:00.011Z"
   },
   {
    "duration": 11,
    "start_time": "2024-05-27T02:35:05.597Z"
   },
   {
    "duration": 188,
    "start_time": "2024-05-27T02:35:13.133Z"
   },
   {
    "duration": 6,
    "start_time": "2024-05-27T02:35:43.637Z"
   },
   {
    "duration": 28,
    "start_time": "2024-05-27T02:35:58.974Z"
   },
   {
    "duration": 831,
    "start_time": "2024-05-27T02:36:08.056Z"
   },
   {
    "duration": 156,
    "start_time": "2024-05-27T02:36:12.571Z"
   },
   {
    "duration": 162,
    "start_time": "2024-05-27T02:36:30.434Z"
   },
   {
    "duration": 7,
    "start_time": "2024-05-27T02:36:44.714Z"
   },
   {
    "duration": 12,
    "start_time": "2024-05-27T02:37:00.572Z"
   },
   {
    "duration": 12,
    "start_time": "2024-05-27T02:37:36.594Z"
   },
   {
    "duration": 99,
    "start_time": "2024-05-27T02:37:47.270Z"
   },
   {
    "duration": 60,
    "start_time": "2024-05-27T02:37:54.932Z"
   },
   {
    "duration": 34,
    "start_time": "2024-05-27T02:38:02.660Z"
   },
   {
    "duration": 19,
    "start_time": "2024-05-27T02:38:39.827Z"
   },
   {
    "duration": 57,
    "start_time": "2024-05-27T02:38:43.310Z"
   },
   {
    "duration": 83,
    "start_time": "2024-05-27T02:40:11.183Z"
   },
   {
    "duration": 8,
    "start_time": "2024-05-27T02:40:25.523Z"
   },
   {
    "duration": 11,
    "start_time": "2024-05-27T02:40:30.737Z"
   },
   {
    "duration": 9,
    "start_time": "2024-05-27T02:40:38.091Z"
   },
   {
    "duration": 12,
    "start_time": "2024-05-27T02:40:39.905Z"
   },
   {
    "duration": 191,
    "start_time": "2024-05-27T02:41:44.377Z"
   },
   {
    "duration": 33,
    "start_time": "2024-05-27T02:42:48.936Z"
   },
   {
    "duration": 7,
    "start_time": "2024-05-27T02:42:56.595Z"
   },
   {
    "duration": 11,
    "start_time": "2024-05-27T02:43:56.637Z"
   },
   {
    "duration": 10,
    "start_time": "2024-05-27T02:44:39.371Z"
   },
   {
    "duration": 10,
    "start_time": "2024-05-27T02:45:00.636Z"
   },
   {
    "duration": 15,
    "start_time": "2024-05-27T02:45:09.746Z"
   },
   {
    "duration": 608,
    "start_time": "2024-05-27T02:45:22.694Z"
   },
   {
    "duration": 175,
    "start_time": "2024-05-27T02:48:03.097Z"
   },
   {
    "duration": 7,
    "start_time": "2024-05-27T03:01:06.717Z"
   },
   {
    "duration": 21,
    "start_time": "2024-05-27T03:01:18.052Z"
   },
   {
    "duration": 13,
    "start_time": "2024-05-27T03:01:23.966Z"
   },
   {
    "duration": 8,
    "start_time": "2024-05-27T03:01:31.832Z"
   },
   {
    "duration": 28,
    "start_time": "2024-05-27T03:01:41.917Z"
   },
   {
    "duration": 25,
    "start_time": "2024-05-27T03:01:45.113Z"
   },
   {
    "duration": 6,
    "start_time": "2024-05-27T03:01:54.191Z"
   },
   {
    "duration": 824,
    "start_time": "2024-05-27T03:03:37.544Z"
   },
   {
    "duration": 17,
    "start_time": "2024-05-27T03:04:01.132Z"
   },
   {
    "duration": 607,
    "start_time": "2024-05-27T03:04:35.667Z"
   },
   {
    "duration": 27,
    "start_time": "2024-05-27T03:05:07.119Z"
   },
   {
    "duration": 1344,
    "start_time": "2024-05-27T03:05:13.681Z"
   },
   {
    "duration": 54,
    "start_time": "2024-05-27T03:05:15.031Z"
   },
   {
    "duration": 23,
    "start_time": "2024-05-27T03:05:15.088Z"
   },
   {
    "duration": 26,
    "start_time": "2024-05-27T03:05:15.126Z"
   },
   {
    "duration": 22,
    "start_time": "2024-05-27T03:05:15.155Z"
   },
   {
    "duration": 5,
    "start_time": "2024-05-27T03:05:15.180Z"
   },
   {
    "duration": 54,
    "start_time": "2024-05-27T03:05:15.188Z"
   },
   {
    "duration": 16,
    "start_time": "2024-05-27T03:05:15.247Z"
   },
   {
    "duration": 8,
    "start_time": "2024-05-27T03:05:15.266Z"
   },
   {
    "duration": 375,
    "start_time": "2024-05-27T03:05:15.279Z"
   },
   {
    "duration": 5,
    "start_time": "2024-05-27T03:05:15.660Z"
   },
   {
    "duration": 7,
    "start_time": "2024-05-27T03:05:15.669Z"
   },
   {
    "duration": 6,
    "start_time": "2024-05-27T03:05:15.682Z"
   },
   {
    "duration": 5,
    "start_time": "2024-05-27T03:05:15.691Z"
   },
   {
    "duration": 6,
    "start_time": "2024-05-27T03:05:15.724Z"
   },
   {
    "duration": 15,
    "start_time": "2024-05-27T03:05:15.735Z"
   },
   {
    "duration": 5,
    "start_time": "2024-05-27T03:05:15.753Z"
   },
   {
    "duration": 6,
    "start_time": "2024-05-27T03:05:15.762Z"
   },
   {
    "duration": 59,
    "start_time": "2024-05-27T03:05:15.771Z"
   },
   {
    "duration": 24,
    "start_time": "2024-05-27T03:05:15.833Z"
   },
   {
    "duration": 520,
    "start_time": "2024-05-27T03:05:15.860Z"
   },
   {
    "duration": 0,
    "start_time": "2024-05-27T03:05:16.384Z"
   },
   {
    "duration": 0,
    "start_time": "2024-05-27T03:05:16.386Z"
   },
   {
    "duration": 0,
    "start_time": "2024-05-27T03:05:16.388Z"
   },
   {
    "duration": 0,
    "start_time": "2024-05-27T03:05:16.389Z"
   },
   {
    "duration": 0,
    "start_time": "2024-05-27T03:05:16.392Z"
   },
   {
    "duration": 0,
    "start_time": "2024-05-27T03:05:16.393Z"
   },
   {
    "duration": 0,
    "start_time": "2024-05-27T03:05:16.394Z"
   },
   {
    "duration": 0,
    "start_time": "2024-05-27T03:05:16.396Z"
   },
   {
    "duration": 0,
    "start_time": "2024-05-27T03:05:16.424Z"
   },
   {
    "duration": 0,
    "start_time": "2024-05-27T03:05:16.425Z"
   },
   {
    "duration": 0,
    "start_time": "2024-05-27T03:05:16.430Z"
   },
   {
    "duration": 0,
    "start_time": "2024-05-27T03:05:16.434Z"
   },
   {
    "duration": 0,
    "start_time": "2024-05-27T03:05:16.437Z"
   },
   {
    "duration": 0,
    "start_time": "2024-05-27T03:05:16.440Z"
   },
   {
    "duration": 0,
    "start_time": "2024-05-27T03:05:16.442Z"
   },
   {
    "duration": 0,
    "start_time": "2024-05-27T03:05:16.444Z"
   },
   {
    "duration": 0,
    "start_time": "2024-05-27T03:05:16.447Z"
   },
   {
    "duration": 0,
    "start_time": "2024-05-27T03:05:16.449Z"
   },
   {
    "duration": 0,
    "start_time": "2024-05-27T03:05:16.451Z"
   },
   {
    "duration": 0,
    "start_time": "2024-05-27T03:05:16.455Z"
   },
   {
    "duration": 0,
    "start_time": "2024-05-27T03:05:16.457Z"
   },
   {
    "duration": 0,
    "start_time": "2024-05-27T03:05:16.462Z"
   },
   {
    "duration": 0,
    "start_time": "2024-05-27T03:05:16.465Z"
   },
   {
    "duration": 0,
    "start_time": "2024-05-27T03:05:16.467Z"
   },
   {
    "duration": 1426,
    "start_time": "2024-05-27T03:05:36.143Z"
   },
   {
    "duration": 51,
    "start_time": "2024-05-27T03:05:37.573Z"
   },
   {
    "duration": 30,
    "start_time": "2024-05-27T03:05:37.628Z"
   },
   {
    "duration": 20,
    "start_time": "2024-05-27T03:05:37.662Z"
   },
   {
    "duration": 44,
    "start_time": "2024-05-27T03:05:37.685Z"
   },
   {
    "duration": 9,
    "start_time": "2024-05-27T03:05:37.733Z"
   },
   {
    "duration": 27,
    "start_time": "2024-05-27T03:05:37.745Z"
   },
   {
    "duration": 11,
    "start_time": "2024-05-27T03:05:37.775Z"
   },
   {
    "duration": 39,
    "start_time": "2024-05-27T03:05:37.789Z"
   },
   {
    "duration": 338,
    "start_time": "2024-05-27T03:05:37.834Z"
   },
   {
    "duration": 6,
    "start_time": "2024-05-27T03:05:38.175Z"
   },
   {
    "duration": 7,
    "start_time": "2024-05-27T03:05:38.184Z"
   },
   {
    "duration": 29,
    "start_time": "2024-05-27T03:05:38.194Z"
   },
   {
    "duration": 6,
    "start_time": "2024-05-27T03:05:38.226Z"
   },
   {
    "duration": 6,
    "start_time": "2024-05-27T03:05:38.235Z"
   },
   {
    "duration": 12,
    "start_time": "2024-05-27T03:05:38.246Z"
   },
   {
    "duration": 12,
    "start_time": "2024-05-27T03:05:38.263Z"
   },
   {
    "duration": 42,
    "start_time": "2024-05-27T03:05:38.281Z"
   },
   {
    "duration": 28,
    "start_time": "2024-05-27T03:05:38.328Z"
   },
   {
    "duration": 21,
    "start_time": "2024-05-27T03:05:38.361Z"
   },
   {
    "duration": 689,
    "start_time": "2024-05-27T03:05:38.386Z"
   },
   {
    "duration": 22,
    "start_time": "2024-05-27T03:05:39.079Z"
   },
   {
    "duration": 597,
    "start_time": "2024-05-27T03:05:39.104Z"
   },
   {
    "duration": 29,
    "start_time": "2024-05-27T03:05:39.706Z"
   },
   {
    "duration": 334,
    "start_time": "2024-05-27T03:05:39.741Z"
   },
   {
    "duration": 9,
    "start_time": "2024-05-27T03:05:40.079Z"
   },
   {
    "duration": 52,
    "start_time": "2024-05-27T03:05:40.091Z"
   },
   {
    "duration": 30,
    "start_time": "2024-05-27T03:05:40.155Z"
   },
   {
    "duration": 486,
    "start_time": "2024-05-27T03:05:40.189Z"
   },
   {
    "duration": 712,
    "start_time": "2024-05-27T03:05:40.679Z"
   },
   {
    "duration": 9,
    "start_time": "2024-05-27T03:05:41.394Z"
   },
   {
    "duration": 20,
    "start_time": "2024-05-27T03:05:41.406Z"
   },
   {
    "duration": 22,
    "start_time": "2024-05-27T03:05:41.429Z"
   },
   {
    "duration": 6,
    "start_time": "2024-05-27T03:05:41.454Z"
   },
   {
    "duration": 980,
    "start_time": "2024-05-27T03:05:41.463Z"
   },
   {
    "duration": 23,
    "start_time": "2024-05-27T03:05:42.446Z"
   },
   {
    "duration": 14,
    "start_time": "2024-05-27T03:05:42.472Z"
   },
   {
    "duration": 794,
    "start_time": "2024-05-27T03:05:42.488Z"
   },
   {
    "duration": 6,
    "start_time": "2024-05-27T03:05:43.285Z"
   },
   {
    "duration": 38,
    "start_time": "2024-05-27T03:05:43.294Z"
   },
   {
    "duration": 15,
    "start_time": "2024-05-27T03:05:43.336Z"
   },
   {
    "duration": 674,
    "start_time": "2024-05-27T03:05:43.354Z"
   },
   {
    "duration": 11,
    "start_time": "2024-05-27T03:05:44.034Z"
   },
   {
    "duration": 23,
    "start_time": "2024-05-27T03:05:44.049Z"
   },
   {
    "duration": 304,
    "start_time": "2024-05-27T20:17:41.954Z"
   },
   {
    "duration": 4881,
    "start_time": "2024-05-27T20:17:47.959Z"
   },
   {
    "duration": 56,
    "start_time": "2024-05-27T20:17:52.844Z"
   },
   {
    "duration": 24,
    "start_time": "2024-05-27T20:17:52.903Z"
   },
   {
    "duration": 19,
    "start_time": "2024-05-27T20:17:52.932Z"
   },
   {
    "duration": 21,
    "start_time": "2024-05-27T20:17:52.953Z"
   },
   {
    "duration": 34,
    "start_time": "2024-05-27T20:17:52.978Z"
   },
   {
    "duration": 25,
    "start_time": "2024-05-27T20:17:53.015Z"
   },
   {
    "duration": 13,
    "start_time": "2024-05-27T20:17:53.043Z"
   },
   {
    "duration": 7,
    "start_time": "2024-05-27T20:17:53.059Z"
   },
   {
    "duration": 337,
    "start_time": "2024-05-27T20:17:53.072Z"
   },
   {
    "duration": 7,
    "start_time": "2024-05-27T20:17:53.412Z"
   },
   {
    "duration": 7,
    "start_time": "2024-05-27T20:17:53.422Z"
   },
   {
    "duration": 5,
    "start_time": "2024-05-27T20:17:53.433Z"
   },
   {
    "duration": 5,
    "start_time": "2024-05-27T20:17:53.441Z"
   },
   {
    "duration": 5,
    "start_time": "2024-05-27T20:17:53.449Z"
   },
   {
    "duration": 55,
    "start_time": "2024-05-27T20:17:53.457Z"
   },
   {
    "duration": 7,
    "start_time": "2024-05-27T20:17:53.516Z"
   },
   {
    "duration": 5,
    "start_time": "2024-05-27T20:17:53.526Z"
   },
   {
    "duration": 16,
    "start_time": "2024-05-27T20:17:53.535Z"
   },
   {
    "duration": 19,
    "start_time": "2024-05-27T20:17:53.553Z"
   },
   {
    "duration": 616,
    "start_time": "2024-05-27T20:17:53.613Z"
   },
   {
    "duration": 22,
    "start_time": "2024-05-27T20:17:54.232Z"
   },
   {
    "duration": 455,
    "start_time": "2024-05-27T20:17:54.257Z"
   },
   {
    "duration": 14,
    "start_time": "2024-05-27T20:17:54.716Z"
   },
   {
    "duration": 304,
    "start_time": "2024-05-27T20:17:54.733Z"
   },
   {
    "duration": 8,
    "start_time": "2024-05-27T20:17:55.040Z"
   },
   {
    "duration": 20,
    "start_time": "2024-05-27T20:17:55.051Z"
   },
   {
    "duration": 42,
    "start_time": "2024-05-27T20:17:55.078Z"
   },
   {
    "duration": 439,
    "start_time": "2024-05-27T20:17:55.123Z"
   },
   {
    "duration": 708,
    "start_time": "2024-05-27T20:17:55.566Z"
   },
   {
    "duration": 7,
    "start_time": "2024-05-27T20:17:56.277Z"
   },
   {
    "duration": 29,
    "start_time": "2024-05-27T20:17:56.286Z"
   },
   {
    "duration": 19,
    "start_time": "2024-05-27T20:17:56.320Z"
   },
   {
    "duration": 5,
    "start_time": "2024-05-27T20:17:56.342Z"
   },
   {
    "duration": 833,
    "start_time": "2024-05-27T20:17:56.350Z"
   },
   {
    "duration": 29,
    "start_time": "2024-05-27T20:17:57.187Z"
   },
   {
    "duration": 11,
    "start_time": "2024-05-27T20:17:57.219Z"
   },
   {
    "duration": 704,
    "start_time": "2024-05-27T20:17:57.233Z"
   },
   {
    "duration": 5,
    "start_time": "2024-05-27T20:17:57.940Z"
   },
   {
    "duration": 19,
    "start_time": "2024-05-27T20:17:57.949Z"
   },
   {
    "duration": 12,
    "start_time": "2024-05-27T20:17:57.970Z"
   },
   {
    "duration": 650,
    "start_time": "2024-05-27T20:17:58.014Z"
   },
   {
    "duration": 10,
    "start_time": "2024-05-27T20:17:58.667Z"
   },
   {
    "duration": 50,
    "start_time": "2024-05-27T20:17:58.680Z"
   },
   {
    "duration": 1112,
    "start_time": "2024-05-27T20:17:58.734Z"
   },
   {
    "duration": 36,
    "start_time": "2024-05-27T20:18:25.343Z"
   },
   {
    "duration": 45,
    "start_time": "2024-05-27T20:18:47.734Z"
   },
   {
    "duration": 24,
    "start_time": "2024-05-27T20:19:04.258Z"
   },
   {
    "duration": 23,
    "start_time": "2024-05-27T20:19:12.947Z"
   },
   {
    "duration": 24,
    "start_time": "2024-05-27T20:19:18.084Z"
   },
   {
    "duration": 22,
    "start_time": "2024-05-27T20:19:22.086Z"
   },
   {
    "duration": 32,
    "start_time": "2024-05-27T20:19:30.789Z"
   },
   {
    "duration": 31,
    "start_time": "2024-05-27T20:20:32.721Z"
   },
   {
    "duration": 6,
    "start_time": "2024-05-27T20:22:02.527Z"
   },
   {
    "duration": 13,
    "start_time": "2024-05-27T20:22:21.505Z"
   },
   {
    "duration": 1238,
    "start_time": "2024-05-27T20:23:00.654Z"
   },
   {
    "duration": 47,
    "start_time": "2024-05-27T20:23:01.895Z"
   },
   {
    "duration": 26,
    "start_time": "2024-05-27T20:23:01.945Z"
   },
   {
    "duration": 46,
    "start_time": "2024-05-27T20:23:01.975Z"
   },
   {
    "duration": 20,
    "start_time": "2024-05-27T20:23:02.025Z"
   },
   {
    "duration": 4,
    "start_time": "2024-05-27T20:23:02.049Z"
   },
   {
    "duration": 19,
    "start_time": "2024-05-27T20:23:02.056Z"
   },
   {
    "duration": 10,
    "start_time": "2024-05-27T20:23:02.113Z"
   },
   {
    "duration": 9,
    "start_time": "2024-05-27T20:23:02.125Z"
   },
   {
    "duration": 310,
    "start_time": "2024-05-27T20:23:02.140Z"
   },
   {
    "duration": 6,
    "start_time": "2024-05-27T20:23:02.453Z"
   },
   {
    "duration": 7,
    "start_time": "2024-05-27T20:23:02.462Z"
   },
   {
    "duration": 10,
    "start_time": "2024-05-27T20:23:02.472Z"
   },
   {
    "duration": 4,
    "start_time": "2024-05-27T20:23:02.485Z"
   },
   {
    "duration": 5,
    "start_time": "2024-05-27T20:23:02.513Z"
   },
   {
    "duration": 11,
    "start_time": "2024-05-27T20:23:02.521Z"
   },
   {
    "duration": 12,
    "start_time": "2024-05-27T20:23:02.535Z"
   },
   {
    "duration": 7,
    "start_time": "2024-05-27T20:23:02.549Z"
   },
   {
    "duration": 646,
    "start_time": "2024-05-27T20:23:02.559Z"
   },
   {
    "duration": 31,
    "start_time": "2024-05-27T20:23:03.208Z"
   },
   {
    "duration": 549,
    "start_time": "2024-05-27T20:23:03.242Z"
   },
   {
    "duration": 27,
    "start_time": "2024-05-27T20:23:03.794Z"
   },
   {
    "duration": 291,
    "start_time": "2024-05-27T20:23:03.825Z"
   },
   {
    "duration": 10,
    "start_time": "2024-05-27T20:23:04.120Z"
   },
   {
    "duration": 23,
    "start_time": "2024-05-27T20:23:04.133Z"
   },
   {
    "duration": 14,
    "start_time": "2024-05-27T20:23:04.160Z"
   },
   {
    "duration": 442,
    "start_time": "2024-05-27T20:23:04.213Z"
   },
   {
    "duration": 661,
    "start_time": "2024-05-27T20:23:04.662Z"
   },
   {
    "duration": 8,
    "start_time": "2024-05-27T20:23:05.326Z"
   },
   {
    "duration": 8,
    "start_time": "2024-05-27T20:23:05.337Z"
   },
   {
    "duration": 20,
    "start_time": "2024-05-27T20:23:05.349Z"
   },
   {
    "duration": 45,
    "start_time": "2024-05-27T20:23:05.372Z"
   },
   {
    "duration": 823,
    "start_time": "2024-05-27T20:23:05.420Z"
   },
   {
    "duration": 18,
    "start_time": "2024-05-27T20:23:06.246Z"
   },
   {
    "duration": 12,
    "start_time": "2024-05-27T20:23:06.267Z"
   },
   {
    "duration": 747,
    "start_time": "2024-05-27T20:23:06.282Z"
   },
   {
    "duration": 6,
    "start_time": "2024-05-27T20:23:07.032Z"
   },
   {
    "duration": 20,
    "start_time": "2024-05-27T20:23:07.040Z"
   },
   {
    "duration": 11,
    "start_time": "2024-05-27T20:23:07.063Z"
   },
   {
    "duration": 669,
    "start_time": "2024-05-27T20:23:07.114Z"
   },
   {
    "duration": 9,
    "start_time": "2024-05-27T20:23:07.786Z"
   },
   {
    "duration": 20,
    "start_time": "2024-05-27T20:23:07.811Z"
   },
   {
    "duration": 6,
    "start_time": "2024-05-27T20:23:07.834Z"
   },
   {
    "duration": 7,
    "start_time": "2024-05-27T20:23:07.843Z"
   },
   {
    "duration": 7,
    "start_time": "2024-05-27T20:24:27.362Z"
   },
   {
    "duration": 15,
    "start_time": "2024-05-27T20:25:16.172Z"
   },
   {
    "duration": 18,
    "start_time": "2024-05-27T20:25:24.388Z"
   },
   {
    "duration": 7,
    "start_time": "2024-05-27T20:27:55.894Z"
   },
   {
    "duration": 11,
    "start_time": "2024-05-27T20:28:04.393Z"
   },
   {
    "duration": 8,
    "start_time": "2024-05-27T20:28:13.624Z"
   },
   {
    "duration": 10,
    "start_time": "2024-05-27T20:28:15.105Z"
   },
   {
    "duration": 468,
    "start_time": "2024-05-27T20:33:52.162Z"
   },
   {
    "duration": 594,
    "start_time": "2024-05-27T20:34:17.535Z"
   },
   {
    "duration": 465,
    "start_time": "2024-05-27T20:35:38.576Z"
   },
   {
    "duration": 6,
    "start_time": "2024-05-27T20:37:38.107Z"
   },
   {
    "duration": 30,
    "start_time": "2024-05-27T20:40:47.029Z"
   },
   {
    "duration": 404,
    "start_time": "2024-05-27T20:47:10.409Z"
   },
   {
    "duration": 25,
    "start_time": "2024-05-27T20:47:47.368Z"
   },
   {
    "duration": 30,
    "start_time": "2024-05-27T20:49:59.446Z"
   },
   {
    "duration": 23,
    "start_time": "2024-05-27T20:50:06.279Z"
   },
   {
    "duration": 4,
    "start_time": "2024-05-27T20:50:17.806Z"
   },
   {
    "duration": 10,
    "start_time": "2024-05-27T20:50:51.452Z"
   },
   {
    "duration": 12,
    "start_time": "2024-05-27T20:51:37.156Z"
   },
   {
    "duration": 5,
    "start_time": "2024-05-27T20:52:55.206Z"
   },
   {
    "duration": 8,
    "start_time": "2024-05-27T20:53:19.436Z"
   },
   {
    "duration": 9,
    "start_time": "2024-05-27T20:53:23.267Z"
   },
   {
    "duration": 4,
    "start_time": "2024-05-27T20:58:21.249Z"
   },
   {
    "duration": 24,
    "start_time": "2024-05-27T21:01:58.931Z"
   },
   {
    "duration": 5,
    "start_time": "2024-05-27T21:02:16.940Z"
   },
   {
    "duration": 6,
    "start_time": "2024-05-27T21:02:29.637Z"
   },
   {
    "duration": 7,
    "start_time": "2024-05-27T21:02:44.258Z"
   },
   {
    "duration": 8,
    "start_time": "2024-05-27T21:03:32.434Z"
   },
   {
    "duration": 9,
    "start_time": "2024-05-27T21:04:44.572Z"
   },
   {
    "duration": 10,
    "start_time": "2024-05-27T21:04:52.931Z"
   },
   {
    "duration": 9,
    "start_time": "2024-05-27T21:04:59.547Z"
   },
   {
    "duration": 10,
    "start_time": "2024-05-27T21:05:03.298Z"
   },
   {
    "duration": 30,
    "start_time": "2024-05-27T21:07:06.182Z"
   },
   {
    "duration": 9,
    "start_time": "2024-05-27T21:07:22.666Z"
   },
   {
    "duration": 8,
    "start_time": "2024-05-27T21:10:33.401Z"
   },
   {
    "duration": 8,
    "start_time": "2024-05-27T21:15:39.014Z"
   },
   {
    "duration": 9,
    "start_time": "2024-05-27T21:19:24.253Z"
   },
   {
    "duration": 6,
    "start_time": "2024-05-27T21:20:18.344Z"
   },
   {
    "duration": 6,
    "start_time": "2024-05-27T21:21:51.291Z"
   },
   {
    "duration": 6,
    "start_time": "2024-05-27T21:22:14.454Z"
   },
   {
    "duration": 10,
    "start_time": "2024-05-27T21:27:04.402Z"
   },
   {
    "duration": 10,
    "start_time": "2024-05-27T21:31:22.561Z"
   },
   {
    "duration": 6,
    "start_time": "2024-05-27T21:33:55.316Z"
   },
   {
    "duration": 1275,
    "start_time": "2024-05-27T21:40:45.684Z"
   },
   {
    "duration": 42,
    "start_time": "2024-05-27T21:40:46.962Z"
   },
   {
    "duration": 22,
    "start_time": "2024-05-27T21:40:47.012Z"
   },
   {
    "duration": 18,
    "start_time": "2024-05-27T21:40:47.038Z"
   },
   {
    "duration": 53,
    "start_time": "2024-05-27T21:40:47.059Z"
   },
   {
    "duration": 5,
    "start_time": "2024-05-27T21:40:47.114Z"
   },
   {
    "duration": 20,
    "start_time": "2024-05-27T21:40:47.122Z"
   },
   {
    "duration": 10,
    "start_time": "2024-05-27T21:40:47.145Z"
   },
   {
    "duration": 8,
    "start_time": "2024-05-27T21:40:47.158Z"
   },
   {
    "duration": 301,
    "start_time": "2024-05-27T21:40:47.212Z"
   },
   {
    "duration": 6,
    "start_time": "2024-05-27T21:40:47.515Z"
   },
   {
    "duration": 6,
    "start_time": "2024-05-27T21:40:47.524Z"
   },
   {
    "duration": 5,
    "start_time": "2024-05-27T21:40:47.533Z"
   },
   {
    "duration": 5,
    "start_time": "2024-05-27T21:40:47.542Z"
   },
   {
    "duration": 5,
    "start_time": "2024-05-27T21:40:47.550Z"
   },
   {
    "duration": 55,
    "start_time": "2024-05-27T21:40:47.557Z"
   },
   {
    "duration": 5,
    "start_time": "2024-05-27T21:40:47.616Z"
   },
   {
    "duration": 5,
    "start_time": "2024-05-27T21:40:47.624Z"
   },
   {
    "duration": 628,
    "start_time": "2024-05-27T21:40:47.631Z"
   },
   {
    "duration": 22,
    "start_time": "2024-05-27T21:40:48.262Z"
   },
   {
    "duration": 540,
    "start_time": "2024-05-27T21:40:48.287Z"
   },
   {
    "duration": 13,
    "start_time": "2024-05-27T21:40:48.830Z"
   },
   {
    "duration": 309,
    "start_time": "2024-05-27T21:40:48.846Z"
   },
   {
    "duration": 7,
    "start_time": "2024-05-27T21:40:49.162Z"
   },
   {
    "duration": 49,
    "start_time": "2024-05-27T21:40:49.172Z"
   },
   {
    "duration": 13,
    "start_time": "2024-05-27T21:40:49.224Z"
   },
   {
    "duration": 429,
    "start_time": "2024-05-27T21:40:49.241Z"
   },
   {
    "duration": 651,
    "start_time": "2024-05-27T21:40:49.678Z"
   },
   {
    "duration": 6,
    "start_time": "2024-05-27T21:40:50.333Z"
   },
   {
    "duration": 9,
    "start_time": "2024-05-27T21:40:50.343Z"
   },
   {
    "duration": 19,
    "start_time": "2024-05-27T21:40:50.354Z"
   },
   {
    "duration": 4,
    "start_time": "2024-05-27T21:40:50.412Z"
   },
   {
    "duration": 833,
    "start_time": "2024-05-27T21:40:50.420Z"
   },
   {
    "duration": 19,
    "start_time": "2024-05-27T21:40:51.256Z"
   },
   {
    "duration": 34,
    "start_time": "2024-05-27T21:40:51.278Z"
   },
   {
    "duration": 702,
    "start_time": "2024-05-27T21:40:51.315Z"
   },
   {
    "duration": 5,
    "start_time": "2024-05-27T21:40:52.021Z"
   },
   {
    "duration": 20,
    "start_time": "2024-05-27T21:40:52.030Z"
   },
   {
    "duration": 11,
    "start_time": "2024-05-27T21:40:52.053Z"
   },
   {
    "duration": 694,
    "start_time": "2024-05-27T21:40:52.068Z"
   },
   {
    "duration": 11,
    "start_time": "2024-05-27T21:40:52.766Z"
   },
   {
    "duration": 42,
    "start_time": "2024-05-27T21:40:52.780Z"
   },
   {
    "duration": 6,
    "start_time": "2024-05-27T21:40:52.825Z"
   },
   {
    "duration": 9,
    "start_time": "2024-05-27T21:40:52.834Z"
   },
   {
    "duration": 6,
    "start_time": "2024-05-27T21:40:52.847Z"
   },
   {
    "duration": 56,
    "start_time": "2024-05-27T21:40:52.856Z"
   },
   {
    "duration": 518,
    "start_time": "2024-05-27T21:40:52.915Z"
   },
   {
    "duration": 3,
    "start_time": "2024-05-27T21:40:53.437Z"
   },
   {
    "duration": 9,
    "start_time": "2024-05-27T21:40:53.444Z"
   },
   {
    "duration": 534,
    "start_time": "2024-05-27T21:40:53.456Z"
   },
   {
    "duration": 1,
    "start_time": "2024-05-27T21:40:53.992Z"
   },
   {
    "duration": 0,
    "start_time": "2024-05-27T21:40:53.994Z"
   },
   {
    "duration": 6,
    "start_time": "2024-05-27T21:41:42.266Z"
   },
   {
    "duration": 6,
    "start_time": "2024-05-27T21:42:09.346Z"
   },
   {
    "duration": 11,
    "start_time": "2024-05-27T21:42:12.117Z"
   },
   {
    "duration": 7,
    "start_time": "2024-05-27T21:42:14.607Z"
   },
   {
    "duration": 4911,
    "start_time": "2024-05-28T02:54:32.822Z"
   },
   {
    "duration": 54,
    "start_time": "2024-05-28T02:54:37.736Z"
   },
   {
    "duration": 22,
    "start_time": "2024-05-28T02:54:37.793Z"
   },
   {
    "duration": 29,
    "start_time": "2024-05-28T02:54:37.818Z"
   },
   {
    "duration": 19,
    "start_time": "2024-05-28T02:54:37.850Z"
   },
   {
    "duration": 4,
    "start_time": "2024-05-28T02:54:37.872Z"
   },
   {
    "duration": 56,
    "start_time": "2024-05-28T02:54:37.879Z"
   },
   {
    "duration": 11,
    "start_time": "2024-05-28T02:54:37.937Z"
   },
   {
    "duration": 8,
    "start_time": "2024-05-28T02:54:37.950Z"
   },
   {
    "duration": 321,
    "start_time": "2024-05-28T02:54:37.964Z"
   },
   {
    "duration": 6,
    "start_time": "2024-05-28T02:54:38.288Z"
   },
   {
    "duration": 8,
    "start_time": "2024-05-28T02:54:38.297Z"
   },
   {
    "duration": 26,
    "start_time": "2024-05-28T02:54:38.308Z"
   },
   {
    "duration": 5,
    "start_time": "2024-05-28T02:54:38.338Z"
   },
   {
    "duration": 5,
    "start_time": "2024-05-28T02:54:38.346Z"
   },
   {
    "duration": 8,
    "start_time": "2024-05-28T02:54:38.356Z"
   },
   {
    "duration": 5,
    "start_time": "2024-05-28T02:54:38.367Z"
   },
   {
    "duration": 5,
    "start_time": "2024-05-28T02:54:38.375Z"
   },
   {
    "duration": 607,
    "start_time": "2024-05-28T02:54:38.432Z"
   },
   {
    "duration": 428,
    "start_time": "2024-05-28T02:54:39.043Z"
   },
   {
    "duration": 0,
    "start_time": "2024-05-28T02:54:39.476Z"
   },
   {
    "duration": 0,
    "start_time": "2024-05-28T02:54:39.479Z"
   },
   {
    "duration": 0,
    "start_time": "2024-05-28T02:54:39.482Z"
   },
   {
    "duration": 0,
    "start_time": "2024-05-28T02:54:39.484Z"
   },
   {
    "duration": 0,
    "start_time": "2024-05-28T02:54:39.487Z"
   },
   {
    "duration": 0,
    "start_time": "2024-05-28T02:54:39.489Z"
   },
   {
    "duration": 1,
    "start_time": "2024-05-28T02:54:39.491Z"
   },
   {
    "duration": 0,
    "start_time": "2024-05-28T02:54:39.494Z"
   },
   {
    "duration": 0,
    "start_time": "2024-05-28T02:54:39.497Z"
   },
   {
    "duration": 0,
    "start_time": "2024-05-28T02:54:39.499Z"
   },
   {
    "duration": 0,
    "start_time": "2024-05-28T02:54:39.531Z"
   },
   {
    "duration": 0,
    "start_time": "2024-05-28T02:54:39.533Z"
   },
   {
    "duration": 0,
    "start_time": "2024-05-28T02:54:39.534Z"
   },
   {
    "duration": 0,
    "start_time": "2024-05-28T02:54:39.537Z"
   },
   {
    "duration": 0,
    "start_time": "2024-05-28T02:54:39.540Z"
   },
   {
    "duration": 0,
    "start_time": "2024-05-28T02:54:39.543Z"
   },
   {
    "duration": 0,
    "start_time": "2024-05-28T02:54:39.545Z"
   },
   {
    "duration": 0,
    "start_time": "2024-05-28T02:54:39.547Z"
   },
   {
    "duration": 0,
    "start_time": "2024-05-28T02:54:39.548Z"
   },
   {
    "duration": 0,
    "start_time": "2024-05-28T02:54:39.551Z"
   },
   {
    "duration": 0,
    "start_time": "2024-05-28T02:54:39.553Z"
   },
   {
    "duration": 1,
    "start_time": "2024-05-28T02:54:39.554Z"
   },
   {
    "duration": 0,
    "start_time": "2024-05-28T02:54:39.556Z"
   },
   {
    "duration": 0,
    "start_time": "2024-05-28T02:54:39.558Z"
   },
   {
    "duration": 0,
    "start_time": "2024-05-28T02:54:39.560Z"
   },
   {
    "duration": 0,
    "start_time": "2024-05-28T02:54:39.562Z"
   },
   {
    "duration": 0,
    "start_time": "2024-05-28T02:54:39.565Z"
   },
   {
    "duration": 0,
    "start_time": "2024-05-28T02:54:39.569Z"
   },
   {
    "duration": 0,
    "start_time": "2024-05-28T02:54:39.630Z"
   },
   {
    "duration": 0,
    "start_time": "2024-05-28T02:54:39.633Z"
   },
   {
    "duration": 0,
    "start_time": "2024-05-28T02:54:39.635Z"
   },
   {
    "duration": 0,
    "start_time": "2024-05-28T02:54:39.637Z"
   },
   {
    "duration": 1348,
    "start_time": "2024-05-28T02:55:34.137Z"
   },
   {
    "duration": 48,
    "start_time": "2024-05-28T02:55:35.489Z"
   },
   {
    "duration": 25,
    "start_time": "2024-05-28T02:55:35.540Z"
   },
   {
    "duration": 20,
    "start_time": "2024-05-28T02:55:35.571Z"
   },
   {
    "duration": 61,
    "start_time": "2024-05-28T02:55:35.595Z"
   },
   {
    "duration": 7,
    "start_time": "2024-05-28T02:55:35.658Z"
   },
   {
    "duration": 26,
    "start_time": "2024-05-28T02:55:35.669Z"
   },
   {
    "duration": 36,
    "start_time": "2024-05-28T02:55:35.698Z"
   },
   {
    "duration": 8,
    "start_time": "2024-05-28T02:55:35.737Z"
   },
   {
    "duration": 339,
    "start_time": "2024-05-28T02:55:35.750Z"
   },
   {
    "duration": 5,
    "start_time": "2024-05-28T02:55:36.092Z"
   },
   {
    "duration": 6,
    "start_time": "2024-05-28T02:55:36.101Z"
   },
   {
    "duration": 23,
    "start_time": "2024-05-28T02:55:36.110Z"
   },
   {
    "duration": 5,
    "start_time": "2024-05-28T02:55:36.136Z"
   },
   {
    "duration": 4,
    "start_time": "2024-05-28T02:55:36.144Z"
   },
   {
    "duration": 10,
    "start_time": "2024-05-28T02:55:36.151Z"
   },
   {
    "duration": 5,
    "start_time": "2024-05-28T02:55:36.164Z"
   },
   {
    "duration": 5,
    "start_time": "2024-05-28T02:55:36.172Z"
   },
   {
    "duration": 611,
    "start_time": "2024-05-28T02:55:36.231Z"
   },
   {
    "duration": 20,
    "start_time": "2024-05-28T02:55:36.845Z"
   },
   {
    "duration": 520,
    "start_time": "2024-05-28T02:55:36.867Z"
   },
   {
    "duration": 15,
    "start_time": "2024-05-28T02:55:37.390Z"
   },
   {
    "duration": 267,
    "start_time": "2024-05-28T02:55:37.430Z"
   },
   {
    "duration": 8,
    "start_time": "2024-05-28T02:55:37.702Z"
   },
   {
    "duration": 35,
    "start_time": "2024-05-28T02:55:37.713Z"
   },
   {
    "duration": 13,
    "start_time": "2024-05-28T02:55:37.751Z"
   },
   {
    "duration": 477,
    "start_time": "2024-05-28T02:55:37.768Z"
   },
   {
    "duration": 622,
    "start_time": "2024-05-28T02:55:38.253Z"
   },
   {
    "duration": 7,
    "start_time": "2024-05-28T02:55:38.878Z"
   },
   {
    "duration": 8,
    "start_time": "2024-05-28T02:55:38.888Z"
   },
   {
    "duration": 45,
    "start_time": "2024-05-28T02:55:38.900Z"
   },
   {
    "duration": 5,
    "start_time": "2024-05-28T02:55:38.949Z"
   },
   {
    "duration": 832,
    "start_time": "2024-05-28T02:55:38.958Z"
   },
   {
    "duration": 19,
    "start_time": "2024-05-28T02:55:39.793Z"
   },
   {
    "duration": 26,
    "start_time": "2024-05-28T02:55:39.814Z"
   },
   {
    "duration": 690,
    "start_time": "2024-05-28T02:55:39.844Z"
   },
   {
    "duration": 5,
    "start_time": "2024-05-28T02:55:40.538Z"
   },
   {
    "duration": 17,
    "start_time": "2024-05-28T02:55:40.547Z"
   },
   {
    "duration": 12,
    "start_time": "2024-05-28T02:55:40.567Z"
   },
   {
    "duration": 703,
    "start_time": "2024-05-28T02:55:40.582Z"
   },
   {
    "duration": 9,
    "start_time": "2024-05-28T02:55:41.288Z"
   },
   {
    "duration": 41,
    "start_time": "2024-05-28T02:55:41.301Z"
   },
   {
    "duration": 6,
    "start_time": "2024-05-28T02:55:41.345Z"
   },
   {
    "duration": 10,
    "start_time": "2024-05-28T02:55:41.354Z"
   },
   {
    "duration": 7,
    "start_time": "2024-05-28T02:55:41.367Z"
   },
   {
    "duration": 53,
    "start_time": "2024-05-28T02:55:41.377Z"
   },
   {
    "duration": 527,
    "start_time": "2024-05-28T02:55:41.433Z"
   },
   {
    "duration": 3,
    "start_time": "2024-05-28T02:55:41.963Z"
   },
   {
    "duration": 10,
    "start_time": "2024-05-28T02:55:41.969Z"
   },
   {
    "duration": 7,
    "start_time": "2024-05-28T02:55:41.982Z"
   },
   {
    "duration": 50,
    "start_time": "2024-05-28T02:55:41.992Z"
   },
   {
    "duration": 8,
    "start_time": "2024-05-28T02:55:42.046Z"
   },
   {
    "duration": 678,
    "start_time": "2024-05-28T02:59:22.515Z"
   },
   {
    "duration": 341,
    "start_time": "2024-05-28T03:03:09.439Z"
   },
   {
    "duration": 346,
    "start_time": "2024-05-28T03:03:23.761Z"
   },
   {
    "duration": 400,
    "start_time": "2024-05-28T03:03:40.977Z"
   },
   {
    "duration": 377,
    "start_time": "2024-05-28T03:03:48.717Z"
   },
   {
    "duration": 360,
    "start_time": "2024-05-28T03:03:56.362Z"
   },
   {
    "duration": 466,
    "start_time": "2024-05-28T03:04:01.328Z"
   },
   {
    "duration": 490,
    "start_time": "2024-05-28T03:04:24.488Z"
   },
   {
    "duration": 720,
    "start_time": "2024-05-28T03:04:30.725Z"
   },
   {
    "duration": 509,
    "start_time": "2024-05-28T03:04:40.521Z"
   },
   {
    "duration": 468,
    "start_time": "2024-05-28T03:04:49.045Z"
   },
   {
    "duration": 787,
    "start_time": "2024-05-28T03:10:10.894Z"
   },
   {
    "duration": 808,
    "start_time": "2024-05-28T03:10:49.992Z"
   },
   {
    "duration": 840,
    "start_time": "2024-05-28T03:11:14.226Z"
   },
   {
    "duration": 1015,
    "start_time": "2024-05-28T03:11:46.561Z"
   },
   {
    "duration": 623,
    "start_time": "2024-05-28T03:18:47.775Z"
   },
   {
    "duration": 653,
    "start_time": "2024-05-28T03:18:54.573Z"
   },
   {
    "duration": 701,
    "start_time": "2024-05-28T03:20:12.557Z"
   },
   {
    "duration": 731,
    "start_time": "2024-05-28T03:20:55.658Z"
   },
   {
    "duration": 1120,
    "start_time": "2024-05-28T03:21:13.978Z"
   },
   {
    "duration": 751,
    "start_time": "2024-05-28T03:21:17.928Z"
   },
   {
    "duration": 13,
    "start_time": "2024-05-28T03:28:35.454Z"
   },
   {
    "duration": 19,
    "start_time": "2024-05-28T03:29:12.337Z"
   },
   {
    "duration": 31,
    "start_time": "2024-05-28T03:30:34.548Z"
   },
   {
    "duration": 862,
    "start_time": "2024-05-28T03:30:45.996Z"
   },
   {
    "duration": 9,
    "start_time": "2024-05-28T03:31:10.201Z"
   },
   {
    "duration": 76,
    "start_time": "2024-05-28T03:31:14.031Z"
   },
   {
    "duration": 11,
    "start_time": "2024-05-28T03:31:17.090Z"
   },
   {
    "duration": 6,
    "start_time": "2024-05-28T03:31:31.291Z"
   },
   {
    "duration": 11,
    "start_time": "2024-05-28T03:31:47.536Z"
   },
   {
    "duration": 13,
    "start_time": "2024-05-28T03:32:43.781Z"
   },
   {
    "duration": 12,
    "start_time": "2024-05-28T03:34:42.272Z"
   },
   {
    "duration": 14,
    "start_time": "2024-05-28T03:34:45.671Z"
   },
   {
    "duration": 6,
    "start_time": "2024-05-28T03:42:19.222Z"
   },
   {
    "duration": 9,
    "start_time": "2024-05-28T03:42:22.399Z"
   },
   {
    "duration": 6,
    "start_time": "2024-05-28T03:42:23.990Z"
   },
   {
    "duration": 11,
    "start_time": "2024-05-28T03:42:32.706Z"
   },
   {
    "duration": 4,
    "start_time": "2024-05-28T03:48:27.409Z"
   },
   {
    "duration": 373,
    "start_time": "2024-05-28T04:06:01.469Z"
   },
   {
    "duration": 363,
    "start_time": "2024-05-28T04:09:03.847Z"
   }
  ],
  "kernelspec": {
   "display_name": "Python 3 (ipykernel)",
   "language": "python",
   "name": "python3"
  },
  "language_info": {
   "codemirror_mode": {
    "name": "ipython",
    "version": 3
   },
   "file_extension": ".py",
   "mimetype": "text/x-python",
   "name": "python",
   "nbconvert_exporter": "python",
   "pygments_lexer": "ipython3",
   "version": "3.9.19"
  },
  "toc": {
   "base_numbering": 1,
   "nav_menu": {},
   "number_sections": true,
   "sideBar": true,
   "skip_h1_title": true,
   "title_cell": "Table of Contents",
   "title_sidebar": "Contents",
   "toc_cell": false,
   "toc_position": {},
   "toc_section_display": true,
   "toc_window_display": false
  }
 },
 "nbformat": 4,
 "nbformat_minor": 2
}
